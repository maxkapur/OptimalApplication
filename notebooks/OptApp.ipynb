{
 "cells": [
  {
   "cell_type": "code",
   "execution_count": 10,
   "id": "nonprofit-image",
   "metadata": {},
   "outputs": [
    {
     "name": "stdout",
     "output_type": "stream",
     "text": [
      "  3.664580 seconds (15.63 M allocations: 1.406 GiB, 6.28% gc time, 33.03% compilation time)\n"
     ]
    }
   ],
   "source": [
    "using Plots\n",
    "using OptimalApplication"
   ]
  },
  {
   "cell_type": "markdown",
   "id": "operating-friendly",
   "metadata": {},
   "source": [
    "# The optimal college application strategy\n",
    "\n",
    "## Exact algorithm for Alma's problem, implemented on binary heap\n",
    "\n",
    "Alma's problem: $$\\max\\bigl\\lbrace \\operatorname{E}[\\max\\lbrace t_j Z_j: j \\in \\mathcal{X}\\rbrace] : |\\mathcal{X}| \\leq h\\bigr\\rbrace$$\n",
    "\n",
    "where $Z_j$ are independent Bernoulli with probabilities $f_j$. "
   ]
  },
  {
   "cell_type": "markdown",
   "id": "seasonal-heart",
   "metadata": {},
   "source": [
    "Solve an instance by enumeration, check that the results agree with the fast algorithm, produce a series of plots showing the nestedness property."
   ]
  },
  {
   "cell_type": "code",
   "execution_count": 11,
   "id": "distributed-forward",
   "metadata": {},
   "outputs": [
    {
     "data": {
      "text/plain": [
       "plotsmaker (generic function with 1 method)"
      ]
     },
     "metadata": {},
     "output_type": "display_data"
    }
   ],
   "source": [
    "function plotsmaker()\n",
    "    m = length(t)\n",
    "    \n",
    "    pl = [plot(\n",
    "            xlabel=\"f\",\n",
    "            ylabel=\"t\",\n",
    "            size=(700, 700)\n",
    "            ) for i in 1:m+2]\n",
    "    \n",
    "    x = zeros(Bool, m, m)\n",
    "    \n",
    "    scatter!(pl[1], f, t, c=:darkslategray, ms=11, msw=0, msa=0, legend=nothing)\n",
    "    \n",
    "    for i in 1:m\n",
    "        x[optimalportfolio_enumerate(f, t, i), i] .= true\n",
    "        \n",
    "        scatter!(pl[i+1], f[.!x[:, i]], t[.!x[:, i]], c=:darkslategray, ms=11, msw=0, msa=0, label=nothing)\n",
    "        scatter!(pl[i+1], f[x[:, i]], t[x[:, i]], c=:orangered, ms=11, msw=0, msa=0, label=\"apply when h = $i\")\n",
    "    end\n",
    "    \n",
    "    apporder = sortperm(reshape(sum(x, dims=2), :), rev=true)\n",
    "    \n",
    "    scatter!(pl[end], f, t, c=:forestgreen, ms=13, msw=0, msa=0, legend=nothing)\n",
    "    annotate!(pl[end], [(f[i], t[i], text(\"$(apporder[i])\", 9, :white)) for i in 1:m])\n",
    "    \n",
    "    return pl, x, apporder\n",
    "end"
   ]
  },
  {
   "cell_type": "code",
   "execution_count": 12,
   "id": "greenhouse-article",
   "metadata": {},
   "outputs": [
    {
     "ename": "UndefVarError",
     "evalue": "UndefVarError: valuation not defined",
     "output_type": "error",
     "traceback": [
      "UndefVarError: valuation not defined\n",
      "\n",
      "Stacktrace:\n",
      "  [1] (::var\"#21#22\")(h::Int64)\n",
      "    @ Main ./none:0\n",
      "  [2] iterate\n",
      "    @ ./generator.jl:47 [inlined]\n",
      "  [3] collect(itr::Base.Generator{UnitRange{Int64}, var\"#21#22\"})\n",
      "    @ Base ./array.jl:724\n",
      "  [4] top-level scope\n",
      "    @ ~/OptimalApplication/notebooks/OptApp.ipynb:8\n",
      "  [5] eval\n",
      "    @ ./boot.jl:373 [inlined]\n",
      "  [6] include_string(mapexpr::typeof(REPL.softscope), mod::Module, code::String, filename::String)\n",
      "    @ Base ./loading.jl:1196\n",
      "  [7] #invokelatest#2\n",
      "    @ ./essentials.jl:716 [inlined]\n",
      "  [8] invokelatest\n",
      "    @ ./essentials.jl:714 [inlined]\n",
      "  [9] (::VSCodeServer.var\"#150#151\"{VSCodeServer.NotebookRunCellArguments, String})()\n",
      "    @ VSCodeServer ~/.vscode/extensions/julialang.language-julia-1.5.11/scripts/packages/VSCodeServer/src/serve_notebook.jl:18\n",
      " [10] withpath(f::VSCodeServer.var\"#150#151\"{VSCodeServer.NotebookRunCellArguments, String}, path::String)\n",
      "    @ VSCodeServer ~/.vscode/extensions/julialang.language-julia-1.5.11/scripts/packages/VSCodeServer/src/repl.jl:185\n",
      " [11] notebook_runcell_request(conn::VSCodeServer.JSONRPC.JSONRPCEndpoint{Base.PipeEndpoint, Base.PipeEndpoint}, params::VSCodeServer.NotebookRunCellArguments)\n",
      "    @ VSCodeServer ~/.vscode/extensions/julialang.language-julia-1.5.11/scripts/packages/VSCodeServer/src/serve_notebook.jl:14\n",
      " [12] dispatch_msg(x::VSCodeServer.JSONRPC.JSONRPCEndpoint{Base.PipeEndpoint, Base.PipeEndpoint}, dispatcher::VSCodeServer.JSONRPC.MsgDispatcher, msg::Dict{String, Any})\n",
      "    @ VSCodeServer.JSONRPC ~/.vscode/extensions/julialang.language-julia-1.5.11/scripts/packages/JSONRPC/src/typed.jl:67\n",
      " [13] serve_notebook(pipename::String; crashreporting_pipename::String)\n",
      "    @ VSCodeServer ~/.vscode/extensions/julialang.language-julia-1.5.11/scripts/packages/VSCodeServer/src/serve_notebook.jl:94\n",
      " [14] top-level scope\n",
      "    @ ~/.vscode/extensions/julialang.language-julia-1.5.11/scripts/notebook/notebook.jl:12\n",
      " [15] include(mod::Module, _path::String)\n",
      "    @ Base ./Base.jl:418\n",
      " [16] exec_options(opts::Base.JLOptions)\n",
      "    @ Base ./client.jl:292\n",
      " [17] _start()\n",
      "    @ Base ./client.jl:495"
     ]
    }
   ],
   "source": [
    "m = 20\n",
    "\n",
    "φ = 0.7\n",
    "t = rand(m) |> sort\n",
    "f = 1 .- (φ*t + (1-φ)*rand(m))\n",
    "\n",
    "@time pl, x, apporder = plotsmaker()\n",
    "v_enum = [valuation(apporder[1:h], f, t) for h in 1:m]\n",
    "\n",
    "for c in eachcol(x)\n",
    "    println(c)\n",
    "end\n",
    "\n",
    "# for p in pl\n",
    "#     display(p)\n",
    "# end\n",
    "\n",
    "[apporder v_enum applicationorder(f, t; datastructure=:dict)...]"
   ]
  },
  {
   "cell_type": "code",
   "execution_count": 74,
   "id": "classical-richmond",
   "metadata": {},
   "outputs": [
    {
     "data": {
      "image/svg+xml": "<?xml version=\"1.0\" encoding=\"utf-8\"?>\n<svg xmlns=\"http://www.w3.org/2000/svg\" xmlns:xlink=\"http://www.w3.org/1999/xlink\" width=\"700\" height=\"700\" viewBox=\"0 0 2800 2800\">\n<defs>\n  <clipPath id=\"clip950\">\n    <rect x=\"0\" y=\"0\" width=\"2800\" height=\"2800\"/>\n  </clipPath>\n</defs>\n<path clip-path=\"url(#clip950)\" d=\"\nM0 2800 L2800 2800 L2800 0 L0 0  Z\n  \" fill=\"#ffffff\" fill-rule=\"evenodd\" fill-opacity=\"1\"/>\n<defs>\n  <clipPath id=\"clip951\">\n    <rect x=\"560\" y=\"280\" width=\"1961\" height=\"1961\"/>\n  </clipPath>\n</defs>\n<path clip-path=\"url(#clip950)\" d=\"\nM247.626 2570.14 L2752.76 2570.14 L2752.76 47.2441 L247.626 47.2441  Z\n  \" fill=\"#ffffff\" fill-rule=\"evenodd\" fill-opacity=\"1\"/>\n<defs>\n  <clipPath id=\"clip952\">\n    <rect x=\"247\" y=\"47\" width=\"2506\" height=\"2524\"/>\n  </clipPath>\n</defs>\n<polyline clip-path=\"url(#clip952)\" style=\"stroke:#000000; stroke-linecap:butt; stroke-linejoin:round; stroke-width:2; stroke-opacity:0.1; fill:none\" points=\"\n  548.923,2570.14 548.923,47.2441 \n  \"/>\n<polyline clip-path=\"url(#clip952)\" style=\"stroke:#000000; stroke-linecap:butt; stroke-linejoin:round; stroke-width:2; stroke-opacity:0.1; fill:none\" points=\"\n  900.845,2570.14 900.845,47.2441 \n  \"/>\n<polyline clip-path=\"url(#clip952)\" style=\"stroke:#000000; stroke-linecap:butt; stroke-linejoin:round; stroke-width:2; stroke-opacity:0.1; fill:none\" points=\"\n  1252.77,2570.14 1252.77,47.2441 \n  \"/>\n<polyline clip-path=\"url(#clip952)\" style=\"stroke:#000000; stroke-linecap:butt; stroke-linejoin:round; stroke-width:2; stroke-opacity:0.1; fill:none\" points=\"\n  1604.69,2570.14 1604.69,47.2441 \n  \"/>\n<polyline clip-path=\"url(#clip952)\" style=\"stroke:#000000; stroke-linecap:butt; stroke-linejoin:round; stroke-width:2; stroke-opacity:0.1; fill:none\" points=\"\n  1956.61,2570.14 1956.61,47.2441 \n  \"/>\n<polyline clip-path=\"url(#clip952)\" style=\"stroke:#000000; stroke-linecap:butt; stroke-linejoin:round; stroke-width:2; stroke-opacity:0.1; fill:none\" points=\"\n  2308.53,2570.14 2308.53,47.2441 \n  \"/>\n<polyline clip-path=\"url(#clip952)\" style=\"stroke:#000000; stroke-linecap:butt; stroke-linejoin:round; stroke-width:2; stroke-opacity:0.1; fill:none\" points=\"\n  2660.45,2570.14 2660.45,47.2441 \n  \"/>\n<polyline clip-path=\"url(#clip950)\" style=\"stroke:#000000; stroke-linecap:butt; stroke-linejoin:round; stroke-width:4; stroke-opacity:1; fill:none\" points=\"\n  247.626,2570.14 2752.76,2570.14 \n  \"/>\n<polyline clip-path=\"url(#clip950)\" style=\"stroke:#000000; stroke-linecap:butt; stroke-linejoin:round; stroke-width:4; stroke-opacity:1; fill:none\" points=\"\n  548.923,2570.14 548.923,2551.24 \n  \"/>\n<polyline clip-path=\"url(#clip950)\" style=\"stroke:#000000; stroke-linecap:butt; stroke-linejoin:round; stroke-width:4; stroke-opacity:1; fill:none\" points=\"\n  900.845,2570.14 900.845,2551.24 \n  \"/>\n<polyline clip-path=\"url(#clip950)\" style=\"stroke:#000000; stroke-linecap:butt; stroke-linejoin:round; stroke-width:4; stroke-opacity:1; fill:none\" points=\"\n  1252.77,2570.14 1252.77,2551.24 \n  \"/>\n<polyline clip-path=\"url(#clip950)\" style=\"stroke:#000000; stroke-linecap:butt; stroke-linejoin:round; stroke-width:4; stroke-opacity:1; fill:none\" points=\"\n  1604.69,2570.14 1604.69,2551.24 \n  \"/>\n<polyline clip-path=\"url(#clip950)\" style=\"stroke:#000000; stroke-linecap:butt; stroke-linejoin:round; stroke-width:4; stroke-opacity:1; fill:none\" points=\"\n  1956.61,2570.14 1956.61,2551.24 \n  \"/>\n<polyline clip-path=\"url(#clip950)\" style=\"stroke:#000000; stroke-linecap:butt; stroke-linejoin:round; stroke-width:4; stroke-opacity:1; fill:none\" points=\"\n  2308.53,2570.14 2308.53,2551.24 \n  \"/>\n<polyline clip-path=\"url(#clip950)\" style=\"stroke:#000000; stroke-linecap:butt; stroke-linejoin:round; stroke-width:4; stroke-opacity:1; fill:none\" points=\"\n  2660.45,2570.14 2660.45,2551.24 \n  \"/>\n<path clip-path=\"url(#clip950)\" d=\"M527.106 2604.26 Q523.495 2604.26 521.666 2607.82 Q519.861 2611.36 519.861 2618.49 Q519.861 2625.6 521.666 2629.17 Q523.495 2632.71 527.106 2632.71 Q530.74 2632.71 532.546 2629.17 Q534.375 2625.6 534.375 2618.49 Q534.375 2611.36 532.546 2607.82 Q530.74 2604.26 527.106 2604.26 M527.106 2600.55 Q532.916 2600.55 535.972 2605.16 Q539.051 2609.74 539.051 2618.49 Q539.051 2627.22 535.972 2631.83 Q532.916 2636.41 527.106 2636.41 Q521.296 2636.41 518.217 2631.83 Q515.162 2627.22 515.162 2618.49 Q515.162 2609.74 518.217 2605.16 Q521.296 2600.55 527.106 2600.55 Z\" fill=\"#000000\" fill-rule=\"evenodd\" fill-opacity=\"1\" /><path clip-path=\"url(#clip950)\" d=\"M547.268 2629.86 L552.152 2629.86 L552.152 2635.74 L547.268 2635.74 L547.268 2629.86 Z\" fill=\"#000000\" fill-rule=\"evenodd\" fill-opacity=\"1\" /><path clip-path=\"url(#clip950)\" d=\"M566.365 2631.8 L582.685 2631.8 L582.685 2635.74 L560.74 2635.74 L560.74 2631.8 Q563.402 2629.05 567.986 2624.42 Q572.592 2619.77 573.773 2618.43 Q576.018 2615.9 576.898 2614.17 Q577.8 2612.41 577.8 2610.72 Q577.8 2607.96 575.856 2606.23 Q573.935 2604.49 570.833 2604.49 Q568.634 2604.49 566.18 2605.25 Q563.75 2606.02 560.972 2607.57 L560.972 2602.85 Q563.796 2601.71 566.25 2601.13 Q568.703 2600.55 570.74 2600.55 Q576.111 2600.55 579.305 2603.24 Q582.499 2605.93 582.499 2610.42 Q582.499 2612.55 581.689 2614.47 Q580.902 2616.36 578.796 2618.96 Q578.217 2619.63 575.115 2622.85 Q572.013 2626.04 566.365 2631.8 Z\" fill=\"#000000\" fill-rule=\"evenodd\" fill-opacity=\"1\" /><path clip-path=\"url(#clip950)\" d=\"M878.554 2604.26 Q874.942 2604.26 873.114 2607.82 Q871.308 2611.36 871.308 2618.49 Q871.308 2625.6 873.114 2629.17 Q874.942 2632.71 878.554 2632.71 Q882.188 2632.71 883.993 2629.17 Q885.822 2625.6 885.822 2618.49 Q885.822 2611.36 883.993 2607.82 Q882.188 2604.26 878.554 2604.26 M878.554 2600.55 Q884.364 2600.55 887.419 2605.16 Q890.498 2609.74 890.498 2618.49 Q890.498 2627.22 887.419 2631.83 Q884.364 2636.41 878.554 2636.41 Q872.743 2636.41 869.665 2631.83 Q866.609 2627.22 866.609 2618.49 Q866.609 2609.74 869.665 2605.16 Q872.743 2600.55 878.554 2600.55 Z\" fill=\"#000000\" fill-rule=\"evenodd\" fill-opacity=\"1\" /><path clip-path=\"url(#clip950)\" d=\"M898.715 2629.86 L903.6 2629.86 L903.6 2635.74 L898.715 2635.74 L898.715 2629.86 Z\" fill=\"#000000\" fill-rule=\"evenodd\" fill-opacity=\"1\" /><path clip-path=\"url(#clip950)\" d=\"M927.951 2617.11 Q931.308 2617.82 933.183 2620.09 Q935.081 2622.36 935.081 2625.69 Q935.081 2630.81 931.562 2633.61 Q928.044 2636.41 921.563 2636.41 Q919.387 2636.41 917.072 2635.97 Q914.78 2635.55 912.326 2634.7 L912.326 2630.18 Q914.271 2631.32 916.586 2631.9 Q918.901 2632.48 921.424 2632.48 Q925.822 2632.48 928.113 2630.74 Q930.428 2629 930.428 2625.69 Q930.428 2622.64 928.275 2620.93 Q926.146 2619.19 922.326 2619.19 L918.299 2619.19 L918.299 2615.35 L922.512 2615.35 Q925.961 2615.35 927.789 2613.98 Q929.618 2612.59 929.618 2610 Q929.618 2607.34 927.72 2605.93 Q925.845 2604.49 922.326 2604.49 Q920.405 2604.49 918.206 2604.91 Q916.007 2605.32 913.368 2606.2 L913.368 2602.04 Q916.03 2601.3 918.345 2600.93 Q920.683 2600.55 922.743 2600.55 Q928.067 2600.55 931.169 2602.99 Q934.271 2605.39 934.271 2609.51 Q934.271 2612.38 932.627 2614.37 Q930.984 2616.34 927.951 2617.11 Z\" fill=\"#000000\" fill-rule=\"evenodd\" fill-opacity=\"1\" /><path clip-path=\"url(#clip950)\" d=\"M1229.91 2604.26 Q1226.3 2604.26 1224.47 2607.82 Q1222.66 2611.36 1222.66 2618.49 Q1222.66 2625.6 1224.47 2629.17 Q1226.3 2632.71 1229.91 2632.71 Q1233.54 2632.71 1235.35 2629.17 Q1237.18 2625.6 1237.18 2618.49 Q1237.18 2611.36 1235.35 2607.82 Q1233.54 2604.26 1229.91 2604.26 M1229.91 2600.55 Q1235.72 2600.55 1238.77 2605.16 Q1241.85 2609.74 1241.85 2618.49 Q1241.85 2627.22 1238.77 2631.83 Q1235.72 2636.41 1229.91 2636.41 Q1224.1 2636.41 1221.02 2631.83 Q1217.96 2627.22 1217.96 2618.49 Q1217.96 2609.74 1221.02 2605.16 Q1224.1 2600.55 1229.91 2600.55 Z\" fill=\"#000000\" fill-rule=\"evenodd\" fill-opacity=\"1\" /><path clip-path=\"url(#clip950)\" d=\"M1250.07 2629.86 L1254.95 2629.86 L1254.95 2635.74 L1250.07 2635.74 L1250.07 2629.86 Z\" fill=\"#000000\" fill-rule=\"evenodd\" fill-opacity=\"1\" /><path clip-path=\"url(#clip950)\" d=\"M1277.99 2605.25 L1266.18 2623.7 L1277.99 2623.7 L1277.99 2605.25 M1276.76 2601.18 L1282.64 2601.18 L1282.64 2623.7 L1287.57 2623.7 L1287.57 2627.59 L1282.64 2627.59 L1282.64 2635.74 L1277.99 2635.74 L1277.99 2627.59 L1262.38 2627.59 L1262.38 2623.08 L1276.76 2601.18 Z\" fill=\"#000000\" fill-rule=\"evenodd\" fill-opacity=\"1\" /><path clip-path=\"url(#clip950)\" d=\"M1582.57 2604.26 Q1578.96 2604.26 1577.13 2607.82 Q1575.33 2611.36 1575.33 2618.49 Q1575.33 2625.6 1577.13 2629.17 Q1578.96 2632.71 1582.57 2632.71 Q1586.2 2632.71 1588.01 2629.17 Q1589.84 2625.6 1589.84 2618.49 Q1589.84 2611.36 1588.01 2607.82 Q1586.2 2604.26 1582.57 2604.26 M1582.57 2600.55 Q1588.38 2600.55 1591.44 2605.16 Q1594.52 2609.74 1594.52 2618.49 Q1594.52 2627.22 1591.44 2631.83 Q1588.38 2636.41 1582.57 2636.41 Q1576.76 2636.41 1573.68 2631.83 Q1570.63 2627.22 1570.63 2618.49 Q1570.63 2609.74 1573.68 2605.16 Q1576.76 2600.55 1582.57 2600.55 Z\" fill=\"#000000\" fill-rule=\"evenodd\" fill-opacity=\"1\" /><path clip-path=\"url(#clip950)\" d=\"M1602.73 2629.86 L1607.62 2629.86 L1607.62 2635.74 L1602.73 2635.74 L1602.73 2629.86 Z\" fill=\"#000000\" fill-rule=\"evenodd\" fill-opacity=\"1\" /><path clip-path=\"url(#clip950)\" d=\"M1617.85 2601.18 L1636.2 2601.18 L1636.2 2605.12 L1622.13 2605.12 L1622.13 2613.59 Q1623.15 2613.24 1624.17 2613.08 Q1625.19 2612.89 1626.2 2612.89 Q1631.99 2612.89 1635.37 2616.06 Q1638.75 2619.24 1638.75 2624.65 Q1638.75 2630.23 1635.28 2633.33 Q1631.81 2636.41 1625.49 2636.41 Q1623.31 2636.41 1621.04 2636.04 Q1618.8 2635.67 1616.39 2634.93 L1616.39 2630.23 Q1618.47 2631.36 1620.7 2631.92 Q1622.92 2632.48 1625.39 2632.48 Q1629.4 2632.48 1631.74 2630.37 Q1634.08 2628.26 1634.08 2624.65 Q1634.08 2621.04 1631.74 2618.93 Q1629.4 2616.83 1625.39 2616.83 Q1623.52 2616.83 1621.64 2617.24 Q1619.79 2617.66 1617.85 2618.54 L1617.85 2601.18 Z\" fill=\"#000000\" fill-rule=\"evenodd\" fill-opacity=\"1\" /><path clip-path=\"url(#clip950)\" d=\"M1933.91 2604.26 Q1930.3 2604.26 1928.47 2607.82 Q1926.67 2611.36 1926.67 2618.49 Q1926.67 2625.6 1928.47 2629.17 Q1930.3 2632.71 1933.91 2632.71 Q1937.55 2632.71 1939.35 2629.17 Q1941.18 2625.6 1941.18 2618.49 Q1941.18 2611.36 1939.35 2607.82 Q1937.55 2604.26 1933.91 2604.26 M1933.91 2600.55 Q1939.72 2600.55 1942.78 2605.16 Q1945.86 2609.74 1945.86 2618.49 Q1945.86 2627.22 1942.78 2631.83 Q1939.72 2636.41 1933.91 2636.41 Q1928.1 2636.41 1925.02 2631.83 Q1921.97 2627.22 1921.97 2618.49 Q1921.97 2609.74 1925.02 2605.16 Q1928.1 2600.55 1933.91 2600.55 Z\" fill=\"#000000\" fill-rule=\"evenodd\" fill-opacity=\"1\" /><path clip-path=\"url(#clip950)\" d=\"M1954.08 2629.86 L1958.96 2629.86 L1958.96 2635.74 L1954.08 2635.74 L1954.08 2629.86 Z\" fill=\"#000000\" fill-rule=\"evenodd\" fill-opacity=\"1\" /><path clip-path=\"url(#clip950)\" d=\"M1979.72 2616.6 Q1976.58 2616.6 1974.72 2618.75 Q1972.9 2620.9 1972.9 2624.65 Q1972.9 2628.38 1974.72 2630.55 Q1976.58 2632.71 1979.72 2632.71 Q1982.87 2632.71 1984.7 2630.55 Q1986.55 2628.38 1986.55 2624.65 Q1986.55 2620.9 1984.7 2618.75 Q1982.87 2616.6 1979.72 2616.6 M1989.01 2601.94 L1989.01 2606.2 Q1987.25 2605.37 1985.44 2604.93 Q1983.66 2604.49 1981.9 2604.49 Q1977.27 2604.49 1974.82 2607.61 Q1972.39 2610.74 1972.04 2617.06 Q1973.4 2615.05 1975.46 2613.98 Q1977.52 2612.89 1980 2612.89 Q1985.21 2612.89 1988.22 2616.06 Q1991.25 2619.21 1991.25 2624.65 Q1991.25 2629.98 1988.1 2633.19 Q1984.96 2636.41 1979.72 2636.41 Q1973.73 2636.41 1970.56 2631.83 Q1967.39 2627.22 1967.39 2618.49 Q1967.39 2610.3 1971.27 2605.44 Q1975.16 2600.55 1981.71 2600.55 Q1983.47 2600.55 1985.26 2600.9 Q1987.06 2601.25 1989.01 2601.94 Z\" fill=\"#000000\" fill-rule=\"evenodd\" fill-opacity=\"1\" /><path clip-path=\"url(#clip950)\" d=\"M2286.37 2604.26 Q2282.76 2604.26 2280.93 2607.82 Q2279.12 2611.36 2279.12 2618.49 Q2279.12 2625.6 2280.93 2629.17 Q2282.76 2632.71 2286.37 2632.71 Q2290 2632.71 2291.81 2629.17 Q2293.64 2625.6 2293.64 2618.49 Q2293.64 2611.36 2291.81 2607.82 Q2290 2604.26 2286.37 2604.26 M2286.37 2600.55 Q2292.18 2600.55 2295.23 2605.16 Q2298.31 2609.74 2298.31 2618.49 Q2298.31 2627.22 2295.23 2631.83 Q2292.18 2636.41 2286.37 2636.41 Q2280.56 2636.41 2277.48 2631.83 Q2274.42 2627.22 2274.42 2618.49 Q2274.42 2609.74 2277.48 2605.16 Q2280.56 2600.55 2286.37 2600.55 Z\" fill=\"#000000\" fill-rule=\"evenodd\" fill-opacity=\"1\" /><path clip-path=\"url(#clip950)\" d=\"M2306.53 2629.86 L2311.41 2629.86 L2311.41 2635.74 L2306.53 2635.74 L2306.53 2629.86 Z\" fill=\"#000000\" fill-rule=\"evenodd\" fill-opacity=\"1\" /><path clip-path=\"url(#clip950)\" d=\"M2320.42 2601.18 L2342.64 2601.18 L2342.64 2603.17 L2330.09 2635.74 L2325.21 2635.74 L2337.02 2605.12 L2320.42 2605.12 L2320.42 2601.18 Z\" fill=\"#000000\" fill-rule=\"evenodd\" fill-opacity=\"1\" /><path clip-path=\"url(#clip950)\" d=\"M2637.88 2604.26 Q2634.27 2604.26 2632.44 2607.82 Q2630.64 2611.36 2630.64 2618.49 Q2630.64 2625.6 2632.44 2629.17 Q2634.27 2632.71 2637.88 2632.71 Q2641.52 2632.71 2643.32 2629.17 Q2645.15 2625.6 2645.15 2618.49 Q2645.15 2611.36 2643.32 2607.82 Q2641.52 2604.26 2637.88 2604.26 M2637.88 2600.55 Q2643.69 2600.55 2646.75 2605.16 Q2649.83 2609.74 2649.83 2618.49 Q2649.83 2627.22 2646.75 2631.83 Q2643.69 2636.41 2637.88 2636.41 Q2632.07 2636.41 2629 2631.83 Q2625.94 2627.22 2625.94 2618.49 Q2625.94 2609.74 2629 2605.16 Q2632.07 2600.55 2637.88 2600.55 Z\" fill=\"#000000\" fill-rule=\"evenodd\" fill-opacity=\"1\" /><path clip-path=\"url(#clip950)\" d=\"M2658.05 2629.86 L2662.93 2629.86 L2662.93 2635.74 L2658.05 2635.74 L2658.05 2629.86 Z\" fill=\"#000000\" fill-rule=\"evenodd\" fill-opacity=\"1\" /><path clip-path=\"url(#clip950)\" d=\"M2683.12 2619.33 Q2679.78 2619.33 2677.86 2621.11 Q2675.96 2622.89 2675.96 2626.02 Q2675.96 2629.14 2677.86 2630.93 Q2679.78 2632.71 2683.12 2632.71 Q2686.45 2632.71 2688.37 2630.93 Q2690.29 2629.12 2690.29 2626.02 Q2690.29 2622.89 2688.37 2621.11 Q2686.47 2619.33 2683.12 2619.33 M2678.44 2617.34 Q2675.43 2616.6 2673.74 2614.54 Q2672.07 2612.48 2672.07 2609.51 Q2672.07 2605.37 2675.01 2602.96 Q2677.98 2600.55 2683.12 2600.55 Q2688.28 2600.55 2691.22 2602.96 Q2694.16 2605.37 2694.16 2609.51 Q2694.16 2612.48 2692.47 2614.54 Q2690.8 2616.6 2687.81 2617.34 Q2691.19 2618.12 2693.07 2620.42 Q2694.97 2622.71 2694.97 2626.02 Q2694.97 2631.04 2691.89 2633.73 Q2688.83 2636.41 2683.12 2636.41 Q2677.4 2636.41 2674.32 2633.73 Q2671.26 2631.04 2671.26 2626.02 Q2671.26 2622.71 2673.16 2620.42 Q2675.06 2618.12 2678.44 2617.34 M2676.73 2609.95 Q2676.73 2612.64 2678.39 2614.14 Q2680.08 2615.65 2683.12 2615.65 Q2686.13 2615.65 2687.81 2614.14 Q2689.53 2612.64 2689.53 2609.95 Q2689.53 2607.27 2687.81 2605.76 Q2686.13 2604.26 2683.12 2604.26 Q2680.08 2604.26 2678.39 2605.76 Q2676.73 2607.27 2676.73 2609.95 Z\" fill=\"#000000\" fill-rule=\"evenodd\" fill-opacity=\"1\" /><path clip-path=\"url(#clip950)\" d=\"M1511.54 2671.48 L1511.54 2676.35 L1505.94 2676.35 Q1502.79 2676.35 1501.54 2677.62 Q1500.33 2678.89 1500.33 2682.2 L1500.33 2685.36 L1509.98 2685.36 L1509.98 2689.91 L1500.33 2689.91 L1500.33 2721 L1494.45 2721 L1494.45 2689.91 L1488.84 2689.91 L1488.84 2685.36 L1494.45 2685.36 L1494.45 2682.87 Q1494.45 2676.92 1497.22 2674.22 Q1499.98 2671.48 1506 2671.48 L1511.54 2671.48 Z\" fill=\"#000000\" fill-rule=\"evenodd\" fill-opacity=\"1\" /><polyline clip-path=\"url(#clip952)\" style=\"stroke:#000000; stroke-linecap:butt; stroke-linejoin:round; stroke-width:2; stroke-opacity:0.1; fill:none\" points=\"\n  247.626,2539.9 2752.76,2539.9 \n  \"/>\n<polyline clip-path=\"url(#clip952)\" style=\"stroke:#000000; stroke-linecap:butt; stroke-linejoin:round; stroke-width:2; stroke-opacity:0.1; fill:none\" points=\"\n  247.626,2040.79 2752.76,2040.79 \n  \"/>\n<polyline clip-path=\"url(#clip952)\" style=\"stroke:#000000; stroke-linecap:butt; stroke-linejoin:round; stroke-width:2; stroke-opacity:0.1; fill:none\" points=\"\n  247.626,1541.68 2752.76,1541.68 \n  \"/>\n<polyline clip-path=\"url(#clip952)\" style=\"stroke:#000000; stroke-linecap:butt; stroke-linejoin:round; stroke-width:2; stroke-opacity:0.1; fill:none\" points=\"\n  247.626,1042.56 2752.76,1042.56 \n  \"/>\n<polyline clip-path=\"url(#clip952)\" style=\"stroke:#000000; stroke-linecap:butt; stroke-linejoin:round; stroke-width:2; stroke-opacity:0.1; fill:none\" points=\"\n  247.626,543.449 2752.76,543.449 \n  \"/>\n<polyline clip-path=\"url(#clip950)\" style=\"stroke:#000000; stroke-linecap:butt; stroke-linejoin:round; stroke-width:4; stroke-opacity:1; fill:none\" points=\"\n  247.626,2570.14 247.626,47.2441 \n  \"/>\n<polyline clip-path=\"url(#clip950)\" style=\"stroke:#000000; stroke-linecap:butt; stroke-linejoin:round; stroke-width:4; stroke-opacity:1; fill:none\" points=\"\n  247.626,2539.9 266.524,2539.9 \n  \"/>\n<polyline clip-path=\"url(#clip950)\" style=\"stroke:#000000; stroke-linecap:butt; stroke-linejoin:round; stroke-width:4; stroke-opacity:1; fill:none\" points=\"\n  247.626,2040.79 266.524,2040.79 \n  \"/>\n<polyline clip-path=\"url(#clip950)\" style=\"stroke:#000000; stroke-linecap:butt; stroke-linejoin:round; stroke-width:4; stroke-opacity:1; fill:none\" points=\"\n  247.626,1541.68 266.524,1541.68 \n  \"/>\n<polyline clip-path=\"url(#clip950)\" style=\"stroke:#000000; stroke-linecap:butt; stroke-linejoin:round; stroke-width:4; stroke-opacity:1; fill:none\" points=\"\n  247.626,1042.56 266.524,1042.56 \n  \"/>\n<polyline clip-path=\"url(#clip950)\" style=\"stroke:#000000; stroke-linecap:butt; stroke-linejoin:round; stroke-width:4; stroke-opacity:1; fill:none\" points=\"\n  247.626,543.449 266.524,543.449 \n  \"/>\n<path clip-path=\"url(#clip950)\" d=\"M148.451 2525.7 Q144.84 2525.7 143.011 2529.27 Q141.205 2532.81 141.205 2539.94 Q141.205 2547.04 143.011 2550.61 Q144.84 2554.15 148.451 2554.15 Q152.085 2554.15 153.89 2550.61 Q155.719 2547.04 155.719 2539.94 Q155.719 2532.81 153.89 2529.27 Q152.085 2525.7 148.451 2525.7 M148.451 2522 Q154.261 2522 157.316 2526.6 Q160.395 2531.19 160.395 2539.94 Q160.395 2548.66 157.316 2553.27 Q154.261 2557.85 148.451 2557.85 Q142.64 2557.85 139.562 2553.27 Q136.506 2548.66 136.506 2539.94 Q136.506 2531.19 139.562 2526.6 Q142.64 2522 148.451 2522 Z\" fill=\"#000000\" fill-rule=\"evenodd\" fill-opacity=\"1\" /><path clip-path=\"url(#clip950)\" d=\"M168.613 2551.3 L173.497 2551.3 L173.497 2557.18 L168.613 2557.18 L168.613 2551.3 Z\" fill=\"#000000\" fill-rule=\"evenodd\" fill-opacity=\"1\" /><path clip-path=\"url(#clip950)\" d=\"M193.682 2525.7 Q190.071 2525.7 188.242 2529.27 Q186.437 2532.81 186.437 2539.94 Q186.437 2547.04 188.242 2550.61 Q190.071 2554.15 193.682 2554.15 Q197.316 2554.15 199.122 2550.61 Q200.95 2547.04 200.95 2539.94 Q200.95 2532.81 199.122 2529.27 Q197.316 2525.7 193.682 2525.7 M193.682 2522 Q199.492 2522 202.548 2526.6 Q205.626 2531.19 205.626 2539.94 Q205.626 2548.66 202.548 2553.27 Q199.492 2557.85 193.682 2557.85 Q187.872 2557.85 184.793 2553.27 Q181.738 2548.66 181.738 2539.94 Q181.738 2531.19 184.793 2526.6 Q187.872 2522 193.682 2522 Z\" fill=\"#000000\" fill-rule=\"evenodd\" fill-opacity=\"1\" /><path clip-path=\"url(#clip950)\" d=\"M150.048 2026.59 Q146.437 2026.59 144.608 2030.15 Q142.803 2033.69 142.803 2040.82 Q142.803 2047.93 144.608 2051.5 Q146.437 2055.04 150.048 2055.04 Q153.682 2055.04 155.488 2051.5 Q157.316 2047.93 157.316 2040.82 Q157.316 2033.69 155.488 2030.15 Q153.682 2026.59 150.048 2026.59 M150.048 2022.88 Q155.858 2022.88 158.914 2027.49 Q161.992 2032.07 161.992 2040.82 Q161.992 2049.55 158.914 2054.16 Q155.858 2058.74 150.048 2058.74 Q144.238 2058.74 141.159 2054.16 Q138.103 2049.55 138.103 2040.82 Q138.103 2032.07 141.159 2027.49 Q144.238 2022.88 150.048 2022.88 Z\" fill=\"#000000\" fill-rule=\"evenodd\" fill-opacity=\"1\" /><path clip-path=\"url(#clip950)\" d=\"M170.21 2052.19 L175.094 2052.19 L175.094 2058.07 L170.21 2058.07 L170.21 2052.19 Z\" fill=\"#000000\" fill-rule=\"evenodd\" fill-opacity=\"1\" /><path clip-path=\"url(#clip950)\" d=\"M189.307 2054.13 L205.626 2054.13 L205.626 2058.07 L183.682 2058.07 L183.682 2054.13 Q186.344 2051.38 190.927 2046.75 Q195.534 2042.1 196.714 2040.75 Q198.96 2038.23 199.839 2036.5 Q200.742 2034.74 200.742 2033.05 Q200.742 2030.29 198.798 2028.56 Q196.876 2026.82 193.774 2026.82 Q191.575 2026.82 189.122 2027.58 Q186.691 2028.35 183.913 2029.9 L183.913 2025.18 Q186.737 2024.04 189.191 2023.46 Q191.645 2022.88 193.682 2022.88 Q199.052 2022.88 202.247 2025.57 Q205.441 2028.25 205.441 2032.75 Q205.441 2034.87 204.631 2036.8 Q203.844 2038.69 201.737 2041.29 Q201.159 2041.96 198.057 2045.18 Q194.955 2048.37 189.307 2054.13 Z\" fill=\"#000000\" fill-rule=\"evenodd\" fill-opacity=\"1\" /><path clip-path=\"url(#clip950)\" d=\"M147.965 1527.47 Q144.353 1527.47 142.525 1531.04 Q140.719 1534.58 140.719 1541.71 Q140.719 1548.82 142.525 1552.38 Q144.353 1555.92 147.965 1555.92 Q151.599 1555.92 153.404 1552.38 Q155.233 1548.82 155.233 1541.71 Q155.233 1534.58 153.404 1531.04 Q151.599 1527.47 147.965 1527.47 M147.965 1523.77 Q153.775 1523.77 156.83 1528.38 Q159.909 1532.96 159.909 1541.71 Q159.909 1550.44 156.83 1555.04 Q153.775 1559.63 147.965 1559.63 Q142.154 1559.63 139.076 1555.04 Q136.02 1550.44 136.02 1541.71 Q136.02 1532.96 139.076 1528.38 Q142.154 1523.77 147.965 1523.77 Z\" fill=\"#000000\" fill-rule=\"evenodd\" fill-opacity=\"1\" /><path clip-path=\"url(#clip950)\" d=\"M168.126 1553.08 L173.011 1553.08 L173.011 1558.96 L168.126 1558.96 L168.126 1553.08 Z\" fill=\"#000000\" fill-rule=\"evenodd\" fill-opacity=\"1\" /><path clip-path=\"url(#clip950)\" d=\"M196.043 1528.47 L184.237 1546.92 L196.043 1546.92 L196.043 1528.47 M194.816 1524.4 L200.696 1524.4 L200.696 1546.92 L205.626 1546.92 L205.626 1550.81 L200.696 1550.81 L200.696 1558.96 L196.043 1558.96 L196.043 1550.81 L180.441 1550.81 L180.441 1546.29 L194.816 1524.4 Z\" fill=\"#000000\" fill-rule=\"evenodd\" fill-opacity=\"1\" /><path clip-path=\"url(#clip950)\" d=\"M148.289 1028.36 Q144.678 1028.36 142.849 1031.93 Q141.043 1035.47 141.043 1042.6 Q141.043 1049.7 142.849 1053.27 Q144.678 1056.81 148.289 1056.81 Q151.923 1056.81 153.728 1053.27 Q155.557 1049.7 155.557 1042.6 Q155.557 1035.47 153.728 1031.93 Q151.923 1028.36 148.289 1028.36 M148.289 1024.66 Q154.099 1024.66 157.154 1029.26 Q160.233 1033.85 160.233 1042.6 Q160.233 1051.32 157.154 1055.93 Q154.099 1060.51 148.289 1060.51 Q142.478 1060.51 139.4 1055.93 Q136.344 1051.32 136.344 1042.6 Q136.344 1033.85 139.4 1029.26 Q142.478 1024.66 148.289 1024.66 Z\" fill=\"#000000\" fill-rule=\"evenodd\" fill-opacity=\"1\" /><path clip-path=\"url(#clip950)\" d=\"M168.451 1053.96 L173.335 1053.96 L173.335 1059.84 L168.451 1059.84 L168.451 1053.96 Z\" fill=\"#000000\" fill-rule=\"evenodd\" fill-opacity=\"1\" /><path clip-path=\"url(#clip950)\" d=\"M194.099 1040.7 Q190.95 1040.7 189.099 1042.85 Q187.27 1045 187.27 1048.75 Q187.27 1052.48 189.099 1054.66 Q190.95 1056.81 194.099 1056.81 Q197.247 1056.81 199.075 1054.66 Q200.927 1052.48 200.927 1048.75 Q200.927 1045 199.075 1042.85 Q197.247 1040.7 194.099 1040.7 M203.381 1026.05 L203.381 1030.31 Q201.622 1029.47 199.816 1029.03 Q198.034 1028.59 196.274 1028.59 Q191.645 1028.59 189.191 1031.72 Q186.761 1034.84 186.413 1041.16 Q187.779 1039.15 189.839 1038.08 Q191.899 1037 194.376 1037 Q199.585 1037 202.594 1040.17 Q205.626 1043.31 205.626 1048.75 Q205.626 1054.08 202.478 1057.3 Q199.33 1060.51 194.099 1060.51 Q188.103 1060.51 184.932 1055.93 Q181.761 1051.32 181.761 1042.6 Q181.761 1034.4 185.65 1029.54 Q189.538 1024.66 196.089 1024.66 Q197.849 1024.66 199.631 1025 Q201.436 1025.35 203.381 1026.05 Z\" fill=\"#000000\" fill-rule=\"evenodd\" fill-opacity=\"1\" /><path clip-path=\"url(#clip950)\" d=\"M148.543 529.247 Q144.932 529.247 143.103 532.812 Q141.298 536.354 141.298 543.483 Q141.298 550.59 143.103 554.155 Q144.932 557.696 148.543 557.696 Q152.177 557.696 153.983 554.155 Q155.812 550.59 155.812 543.483 Q155.812 536.354 153.983 532.812 Q152.177 529.247 148.543 529.247 M148.543 525.544 Q154.353 525.544 157.409 530.15 Q160.488 534.734 160.488 543.483 Q160.488 552.21 157.409 556.817 Q154.353 561.4 148.543 561.4 Q142.733 561.4 139.654 556.817 Q136.599 552.21 136.599 543.483 Q136.599 534.734 139.654 530.15 Q142.733 525.544 148.543 525.544 Z\" fill=\"#000000\" fill-rule=\"evenodd\" fill-opacity=\"1\" /><path clip-path=\"url(#clip950)\" d=\"M168.705 554.849 L173.589 554.849 L173.589 560.729 L168.705 560.729 L168.705 554.849 Z\" fill=\"#000000\" fill-rule=\"evenodd\" fill-opacity=\"1\" /><path clip-path=\"url(#clip950)\" d=\"M193.774 544.317 Q190.441 544.317 188.52 546.099 Q186.622 547.882 186.622 551.007 Q186.622 554.132 188.52 555.914 Q190.441 557.696 193.774 557.696 Q197.108 557.696 199.029 555.914 Q200.95 554.108 200.95 551.007 Q200.95 547.882 199.029 546.099 Q197.131 544.317 193.774 544.317 M189.099 542.326 Q186.089 541.585 184.4 539.525 Q182.733 537.465 182.733 534.502 Q182.733 530.359 185.673 527.951 Q188.636 525.544 193.774 525.544 Q198.936 525.544 201.876 527.951 Q204.816 530.359 204.816 534.502 Q204.816 537.465 203.126 539.525 Q201.46 541.585 198.474 542.326 Q201.853 543.113 203.728 545.405 Q205.626 547.696 205.626 551.007 Q205.626 556.03 202.548 558.715 Q199.492 561.4 193.774 561.4 Q188.057 561.4 184.978 558.715 Q181.923 556.03 181.923 551.007 Q181.923 547.696 183.821 545.405 Q185.719 543.113 189.099 542.326 M187.386 534.942 Q187.386 537.627 189.052 539.132 Q190.742 540.636 193.774 540.636 Q196.784 540.636 198.474 539.132 Q200.186 537.627 200.186 534.942 Q200.186 532.257 198.474 530.752 Q196.784 529.247 193.774 529.247 Q190.742 529.247 189.052 530.752 Q187.386 532.257 187.386 534.942 Z\" fill=\"#000000\" fill-rule=\"evenodd\" fill-opacity=\"1\" /><path clip-path=\"url(#clip950)\" d=\"M33.9947 1309.63 L44.1162 1309.63 L44.1162 1297.57 L48.6677 1297.57 L48.6677 1309.63 L68.0194 1309.63 Q72.3799 1309.63 73.6213 1308.45 Q74.8626 1307.24 74.8626 1303.58 L74.8626 1297.57 L79.7642 1297.57 L79.7642 1303.58 Q79.7642 1310.36 77.2497 1312.94 Q74.7034 1315.52 68.0194 1315.52 L48.6677 1315.52 L48.6677 1319.82 L44.1162 1319.82 L44.1162 1315.52 L33.9947 1315.52 L33.9947 1309.63 Z\" fill=\"#000000\" fill-rule=\"evenodd\" fill-opacity=\"1\" /><circle clip-path=\"url(#clip952)\" cx=\"2542.51\" cy=\"2498.74\" r=\"39\" fill=\"#2f4f4f\" fill-rule=\"evenodd\" fill-opacity=\"1\" stroke=\"#000000\" stroke-opacity=\"1\" stroke-width=\"0\"/>\n<circle clip-path=\"url(#clip952)\" cx=\"2326\" cy=\"2449.4\" r=\"39\" fill=\"#2f4f4f\" fill-rule=\"evenodd\" fill-opacity=\"1\" stroke=\"#000000\" stroke-opacity=\"1\" stroke-width=\"0\"/>\n<circle clip-path=\"url(#clip952)\" cx=\"2681.86\" cy=\"2340.46\" r=\"39\" fill=\"#2f4f4f\" fill-rule=\"evenodd\" fill-opacity=\"1\" stroke=\"#000000\" stroke-opacity=\"1\" stroke-width=\"0\"/>\n<circle clip-path=\"url(#clip952)\" cx=\"2168.25\" cy=\"2294.42\" r=\"39\" fill=\"#2f4f4f\" fill-rule=\"evenodd\" fill-opacity=\"1\" stroke=\"#000000\" stroke-opacity=\"1\" stroke-width=\"0\"/>\n<circle clip-path=\"url(#clip952)\" cx=\"1660.09\" cy=\"1557.37\" r=\"39\" fill=\"#2f4f4f\" fill-rule=\"evenodd\" fill-opacity=\"1\" stroke=\"#000000\" stroke-opacity=\"1\" stroke-width=\"0\"/>\n<circle clip-path=\"url(#clip952)\" cx=\"1857.45\" cy=\"1436.45\" r=\"39\" fill=\"#2f4f4f\" fill-rule=\"evenodd\" fill-opacity=\"1\" stroke=\"#000000\" stroke-opacity=\"1\" stroke-width=\"0\"/>\n<circle clip-path=\"url(#clip952)\" cx=\"1425.96\" cy=\"1321.74\" r=\"39\" fill=\"#2f4f4f\" fill-rule=\"evenodd\" fill-opacity=\"1\" stroke=\"#000000\" stroke-opacity=\"1\" stroke-width=\"0\"/>\n<circle clip-path=\"url(#clip952)\" cx=\"1443.51\" cy=\"1227.28\" r=\"39\" fill=\"#2f4f4f\" fill-rule=\"evenodd\" fill-opacity=\"1\" stroke=\"#000000\" stroke-opacity=\"1\" stroke-width=\"0\"/>\n<circle clip-path=\"url(#clip952)\" cx=\"1465.38\" cy=\"1015.33\" r=\"39\" fill=\"#2f4f4f\" fill-rule=\"evenodd\" fill-opacity=\"1\" stroke=\"#000000\" stroke-opacity=\"1\" stroke-width=\"0\"/>\n<circle clip-path=\"url(#clip952)\" cx=\"1071.24\" cy=\"843.307\" r=\"39\" fill=\"#2f4f4f\" fill-rule=\"evenodd\" fill-opacity=\"1\" stroke=\"#000000\" stroke-opacity=\"1\" stroke-width=\"0\"/>\n<circle clip-path=\"url(#clip952)\" cx=\"953.93\" cy=\"750.506\" r=\"39\" fill=\"#2f4f4f\" fill-rule=\"evenodd\" fill-opacity=\"1\" stroke=\"#000000\" stroke-opacity=\"1\" stroke-width=\"0\"/>\n<circle clip-path=\"url(#clip952)\" cx=\"898.444\" cy=\"656.643\" r=\"39\" fill=\"#2f4f4f\" fill-rule=\"evenodd\" fill-opacity=\"1\" stroke=\"#000000\" stroke-opacity=\"1\" stroke-width=\"0\"/>\n<circle clip-path=\"url(#clip952)\" cx=\"720.158\" cy=\"404.012\" r=\"39\" fill=\"#2f4f4f\" fill-rule=\"evenodd\" fill-opacity=\"1\" stroke=\"#000000\" stroke-opacity=\"1\" stroke-width=\"0\"/>\n<circle clip-path=\"url(#clip952)\" cx=\"318.526\" cy=\"360.163\" r=\"39\" fill=\"#2f4f4f\" fill-rule=\"evenodd\" fill-opacity=\"1\" stroke=\"#000000\" stroke-opacity=\"1\" stroke-width=\"0\"/>\n<circle clip-path=\"url(#clip952)\" cx=\"369.528\" cy=\"355.441\" r=\"39\" fill=\"#2f4f4f\" fill-rule=\"evenodd\" fill-opacity=\"1\" stroke=\"#000000\" stroke-opacity=\"1\" stroke-width=\"0\"/>\n<circle clip-path=\"url(#clip952)\" cx=\"419.946\" cy=\"118.647\" r=\"39\" fill=\"#2f4f4f\" fill-rule=\"evenodd\" fill-opacity=\"1\" stroke=\"#000000\" stroke-opacity=\"1\" stroke-width=\"0\"/>\n<circle clip-path=\"url(#clip952)\" cx=\"2202.15\" cy=\"2013.66\" r=\"39\" fill=\"#ff4500\" fill-rule=\"evenodd\" fill-opacity=\"1\" stroke=\"#000000\" stroke-opacity=\"1\" stroke-width=\"0\"/>\n<circle clip-path=\"url(#clip952)\" cx=\"2136.23\" cy=\"1999.06\" r=\"39\" fill=\"#ff4500\" fill-rule=\"evenodd\" fill-opacity=\"1\" stroke=\"#000000\" stroke-opacity=\"1\" stroke-width=\"0\"/>\n<circle clip-path=\"url(#clip952)\" cx=\"1921.65\" cy=\"1939.55\" r=\"39\" fill=\"#ff4500\" fill-rule=\"evenodd\" fill-opacity=\"1\" stroke=\"#000000\" stroke-opacity=\"1\" stroke-width=\"0\"/>\n<circle clip-path=\"url(#clip952)\" cx=\"2645.7\" cy=\"1908.02\" r=\"39\" fill=\"#ff4500\" fill-rule=\"evenodd\" fill-opacity=\"1\" stroke=\"#000000\" stroke-opacity=\"1\" stroke-width=\"0\"/>\n<path clip-path=\"url(#clip950)\" d=\"\nM1978.85 235.021 L2669.25 235.021 L2669.25 131.341 L1978.85 131.341  Z\n  \" fill=\"#ffffff\" fill-rule=\"evenodd\" fill-opacity=\"1\"/>\n<polyline clip-path=\"url(#clip950)\" style=\"stroke:#000000; stroke-linecap:butt; stroke-linejoin:round; stroke-width:4; stroke-opacity:1; fill:none\" points=\"\n  1978.85,235.021 2669.25,235.021 2669.25,131.341 1978.85,131.341 1978.85,235.021 \n  \"/>\n<circle clip-path=\"url(#clip950)\" cx=\"2090.18\" cy=\"183.181\" r=\"23\" fill=\"#ff4500\" fill-rule=\"evenodd\" fill-opacity=\"1\" stroke=\"#000000\" stroke-opacity=\"1\" stroke-width=\"0\"/>\n<path clip-path=\"url(#clip950)\" d=\"M2214.93 187.428 Q2209.76 187.428 2207.77 188.609 Q2205.78 189.789 2205.78 192.637 Q2205.78 194.905 2207.26 196.248 Q2208.77 197.567 2211.34 197.567 Q2214.88 197.567 2217.01 195.067 Q2219.16 192.544 2219.16 188.377 L2219.16 187.428 L2214.93 187.428 M2223.42 185.669 L2223.42 200.461 L2219.16 200.461 L2219.16 196.525 Q2217.7 198.887 2215.53 200.021 Q2213.35 201.132 2210.2 201.132 Q2206.22 201.132 2203.86 198.91 Q2201.52 196.664 2201.52 192.914 Q2201.52 188.539 2204.44 186.317 Q2207.38 184.095 2213.19 184.095 L2219.16 184.095 L2219.16 183.678 Q2219.16 180.739 2217.22 179.141 Q2215.3 177.521 2211.8 177.521 Q2209.58 177.521 2207.47 178.053 Q2205.37 178.586 2203.42 179.651 L2203.42 175.715 Q2205.76 174.813 2207.96 174.373 Q2210.16 173.91 2212.24 173.91 Q2217.87 173.91 2220.64 176.826 Q2223.42 179.743 2223.42 185.669 Z\" fill=\"#000000\" fill-rule=\"evenodd\" fill-opacity=\"1\" /><path clip-path=\"url(#clip950)\" d=\"M2236.32 196.572 L2236.32 210.322 L2232.03 210.322 L2232.03 174.535 L2236.32 174.535 L2236.32 178.47 Q2237.66 176.155 2239.7 175.044 Q2241.76 173.91 2244.6 173.91 Q2249.32 173.91 2252.26 177.66 Q2255.23 181.41 2255.23 187.521 Q2255.23 193.632 2252.26 197.382 Q2249.32 201.132 2244.6 201.132 Q2241.76 201.132 2239.7 200.021 Q2237.66 198.887 2236.32 196.572 M2250.81 187.521 Q2250.81 182.822 2248.86 180.16 Q2246.94 177.475 2243.56 177.475 Q2240.18 177.475 2238.24 180.16 Q2236.32 182.822 2236.32 187.521 Q2236.32 192.22 2238.24 194.905 Q2240.18 197.567 2243.56 197.567 Q2246.94 197.567 2248.86 194.905 Q2250.81 192.22 2250.81 187.521 Z\" fill=\"#000000\" fill-rule=\"evenodd\" fill-opacity=\"1\" /><path clip-path=\"url(#clip950)\" d=\"M2266.41 196.572 L2266.41 210.322 L2262.13 210.322 L2262.13 174.535 L2266.41 174.535 L2266.41 178.47 Q2267.75 176.155 2269.79 175.044 Q2271.85 173.91 2274.69 173.91 Q2279.42 173.91 2282.36 177.66 Q2285.32 181.41 2285.32 187.521 Q2285.32 193.632 2282.36 197.382 Q2279.42 201.132 2274.69 201.132 Q2271.85 201.132 2269.79 200.021 Q2267.75 198.887 2266.41 196.572 M2280.9 187.521 Q2280.9 182.822 2278.95 180.16 Q2277.03 177.475 2273.65 177.475 Q2270.27 177.475 2268.33 180.16 Q2266.41 182.822 2266.41 187.521 Q2266.41 192.22 2268.33 194.905 Q2270.27 197.567 2273.65 197.567 Q2277.03 197.567 2278.95 194.905 Q2280.9 192.22 2280.9 187.521 Z\" fill=\"#000000\" fill-rule=\"evenodd\" fill-opacity=\"1\" /><path clip-path=\"url(#clip950)\" d=\"M2292.38 164.442 L2296.64 164.442 L2296.64 200.461 L2292.38 200.461 L2292.38 164.442 Z\" fill=\"#000000\" fill-rule=\"evenodd\" fill-opacity=\"1\" /><path clip-path=\"url(#clip950)\" d=\"M2316.34 202.868 Q2314.53 207.498 2312.82 208.91 Q2311.11 210.322 2308.24 210.322 L2304.83 210.322 L2304.83 206.757 L2307.33 206.757 Q2309.09 206.757 2310.07 205.924 Q2311.04 205.09 2312.22 201.988 L2312.98 200.044 L2302.5 174.535 L2307.01 174.535 L2315.11 194.813 L2323.21 174.535 L2327.73 174.535 L2316.34 202.868 Z\" fill=\"#000000\" fill-rule=\"evenodd\" fill-opacity=\"1\" /><path clip-path=\"url(#clip950)\" d=\"M2346.2 174.535 L2350.46 174.535 L2355.78 194.766 L2361.08 174.535 L2366.11 174.535 L2371.43 194.766 L2376.73 174.535 L2380.99 174.535 L2374.21 200.461 L2369.19 200.461 L2363.61 179.211 L2358 200.461 L2352.98 200.461 L2346.2 174.535 Z\" fill=\"#000000\" fill-rule=\"evenodd\" fill-opacity=\"1\" /><path clip-path=\"url(#clip950)\" d=\"M2409 184.813 L2409 200.461 L2404.74 200.461 L2404.74 184.951 Q2404.74 181.271 2403.31 179.442 Q2401.87 177.614 2399 177.614 Q2395.55 177.614 2393.56 179.813 Q2391.57 182.012 2391.57 185.808 L2391.57 200.461 L2387.29 200.461 L2387.29 164.442 L2391.57 164.442 L2391.57 178.563 Q2393.1 176.225 2395.16 175.067 Q2397.24 173.91 2399.95 173.91 Q2404.42 173.91 2406.71 176.688 Q2409 179.442 2409 184.813 Z\" fill=\"#000000\" fill-rule=\"evenodd\" fill-opacity=\"1\" /><path clip-path=\"url(#clip950)\" d=\"M2439.67 186.433 L2439.67 188.516 L2420.09 188.516 Q2420.37 192.914 2422.73 195.229 Q2425.11 197.521 2429.35 197.521 Q2431.8 197.521 2434.09 196.919 Q2436.41 196.317 2438.68 195.113 L2438.68 199.141 Q2436.38 200.113 2433.98 200.623 Q2431.57 201.132 2429.09 201.132 Q2422.89 201.132 2419.25 197.521 Q2415.64 193.91 2415.64 187.752 Q2415.64 181.387 2419.07 177.66 Q2422.52 173.91 2428.35 173.91 Q2433.58 173.91 2436.62 177.289 Q2439.67 180.646 2439.67 186.433 M2435.41 185.183 Q2435.37 181.688 2433.44 179.604 Q2431.55 177.521 2428.4 177.521 Q2424.83 177.521 2422.68 179.535 Q2420.55 181.549 2420.23 185.206 L2435.41 185.183 Z\" fill=\"#000000\" fill-rule=\"evenodd\" fill-opacity=\"1\" /><path clip-path=\"url(#clip950)\" d=\"M2468.21 184.813 L2468.21 200.461 L2463.95 200.461 L2463.95 184.951 Q2463.95 181.271 2462.52 179.442 Q2461.08 177.614 2458.21 177.614 Q2454.76 177.614 2452.77 179.813 Q2450.78 182.012 2450.78 185.808 L2450.78 200.461 L2446.5 200.461 L2446.5 174.535 L2450.78 174.535 L2450.78 178.563 Q2452.31 176.225 2454.37 175.067 Q2456.45 173.91 2459.16 173.91 Q2463.63 173.91 2465.92 176.688 Q2468.21 179.442 2468.21 184.813 Z\" fill=\"#000000\" fill-rule=\"evenodd\" fill-opacity=\"1\" /><path clip-path=\"url(#clip950)\" d=\"M2513.33 184.813 L2513.33 200.461 L2509.07 200.461 L2509.07 184.951 Q2509.07 181.271 2507.63 179.442 Q2506.2 177.614 2503.33 177.614 Q2499.88 177.614 2497.89 179.813 Q2495.9 182.012 2495.9 185.808 L2495.9 200.461 L2491.62 200.461 L2491.62 164.442 L2495.9 164.442 L2495.9 178.563 Q2497.43 176.225 2499.49 175.067 Q2501.57 173.91 2504.28 173.91 Q2508.74 173.91 2511.04 176.688 Q2513.33 179.442 2513.33 184.813 Z\" fill=\"#000000\" fill-rule=\"evenodd\" fill-opacity=\"1\" /><path clip-path=\"url(#clip950)\" d=\"M2537.45 178.933 L2567.12 178.933 L2567.12 182.822 L2537.45 182.822 L2537.45 178.933 M2537.45 188.377 L2567.12 188.377 L2567.12 192.313 L2537.45 192.313 L2537.45 188.377 Z\" fill=\"#000000\" fill-rule=\"evenodd\" fill-opacity=\"1\" /><path clip-path=\"url(#clip950)\" d=\"M2606.45 181.826 Q2609.81 182.544 2611.68 184.813 Q2613.58 187.081 2613.58 190.414 Q2613.58 195.53 2610.06 198.331 Q2606.55 201.132 2600.06 201.132 Q2597.89 201.132 2595.57 200.692 Q2593.28 200.275 2590.83 199.419 L2590.83 194.905 Q2592.77 196.039 2595.09 196.618 Q2597.4 197.197 2599.92 197.197 Q2604.32 197.197 2606.61 195.461 Q2608.93 193.725 2608.93 190.414 Q2608.93 187.359 2606.78 185.646 Q2604.65 183.91 2600.83 183.91 L2596.8 183.91 L2596.8 180.067 L2601.01 180.067 Q2604.46 180.067 2606.29 178.701 Q2608.12 177.313 2608.12 174.72 Q2608.12 172.058 2606.22 170.646 Q2604.35 169.211 2600.83 169.211 Q2598.91 169.211 2596.71 169.627 Q2594.51 170.044 2591.87 170.924 L2591.87 166.757 Q2594.53 166.016 2596.85 165.646 Q2599.18 165.276 2601.24 165.276 Q2606.57 165.276 2609.67 167.706 Q2612.77 170.114 2612.77 174.234 Q2612.77 177.104 2611.13 179.095 Q2609.48 181.063 2606.45 181.826 Z\" fill=\"#000000\" fill-rule=\"evenodd\" fill-opacity=\"1\" /></svg>\n"
     },
     "metadata": {},
     "output_type": "display_data"
    }
   ],
   "source": [
    "# for (n, i) in enumerate(pl)\n",
    "#       display(i)\n",
    "# end\n",
    "display(pl[4])"
   ]
  },
  {
   "cell_type": "code",
   "execution_count": 47,
   "id": "protecting-table",
   "metadata": {},
   "outputs": [],
   "source": [
    "# for (n, i) in enumerate(pl)\n",
    "#     savefig(i, \"optportfolio-$(n-1).png\")\n",
    "#     savefig(i, \"optportfolio-$(n-1).pdf\")\n",
    "# end"
   ]
  },
  {
   "cell_type": "code",
   "execution_count": 3,
   "id": "spatial-savings",
   "metadata": {},
   "outputs": [],
   "source": [
    "# Helper for making my seminar slides\n",
    "# for i in 0:length(pl)-1\n",
    "#     print(\"\\\\begin{frame}\\\\begin{center}\\\\includegraphics[height=\\\\textheight]{./plots/optportfolio-$i.pdf}\\\\end{center}\\\\end{frame}\\n\")\n",
    "# end"
   ]
  },
  {
   "cell_type": "markdown",
   "id": "organizational-franklin",
   "metadata": {},
   "source": [
    "### Comparative statics example"
   ]
  },
  {
   "cell_type": "code",
   "execution_count": 21,
   "id": "outdoor-slide",
   "metadata": {},
   "outputs": [
    {
     "data": {
      "text/plain": [
       "8-element Vector{Float64}:\n",
       " 0.39\n",
       " 0.33\n",
       " 0.24\n",
       " 0.24\n",
       " 0.05\n",
       " 0.03\n",
       " 0.1\n",
       " 0.12"
      ]
     },
     "execution_count": 21,
     "metadata": {},
     "output_type": "execute_result"
    }
   ],
   "source": [
    "t = Float64.(collect(range(start=200, step=50, length=8)))\n",
    "f = [0.39, 0.33, 0.24, 0.24, 0.05, 0.03, 0.1, 0.12]"
   ]
  },
  {
   "cell_type": "code",
   "execution_count": 22,
   "id": "romantic-pontiac",
   "metadata": {},
   "outputs": [
    {
     "data": {
      "text/plain": [
       "8×4 Matrix{Float64}:\n",
       " 200.0  0.39  4.0  230.0\n",
       " 250.0  0.33  2.0  147.0\n",
       " 300.0  0.24  8.0  294.0\n",
       " 350.0  0.24  1.0   84.0\n",
       " 400.0  0.05  7.0  289.0\n",
       " 450.0  0.03  3.0  195.0\n",
       " 500.0  0.1   5.0  258.0\n",
       " 550.0  0.12  6.0  282.0"
      ]
     },
     "execution_count": 22,
     "metadata": {},
     "output_type": "execute_result"
    }
   ],
   "source": [
    "apporder, v = applicationorder(f, t)\n",
    "# v = [valuation(apporder[1:i], f, t) for i in 1:8]\n",
    "\n",
    "[t f apporder round.(v)[apporder]]"
   ]
  },
  {
   "cell_type": "code",
   "execution_count": 23,
   "id": "popular-locking",
   "metadata": {},
   "outputs": [
    {
     "data": {
      "image/svg+xml": "<?xml version=\"1.0\" encoding=\"utf-8\"?>\n<svg xmlns=\"http://www.w3.org/2000/svg\" xmlns:xlink=\"http://www.w3.org/1999/xlink\" width=\"720\" height=\"420\" viewBox=\"0 0 2880 1680\">\n<defs>\n  <clipPath id=\"clip980\">\n    <rect x=\"0\" y=\"0\" width=\"2880\" height=\"1680\"/>\n  </clipPath>\n</defs>\n<path clip-path=\"url(#clip980)\" d=\"\nM0 1680 L2880 1680 L2880 0 L0 0  Z\n  \" fill=\"#ffffff\" fill-rule=\"evenodd\" fill-opacity=\"1\"/>\n<defs>\n  <clipPath id=\"clip981\">\n    <rect x=\"576\" y=\"0\" width=\"2017\" height=\"1680\"/>\n  </clipPath>\n</defs>\n<path clip-path=\"url(#clip980)\" d=\"\nM232.985 1512.64 L2832.76 1512.64 L2832.76 47.2441 L232.985 47.2441  Z\n  \" fill=\"#ffffff\" fill-rule=\"evenodd\" fill-opacity=\"1\"/>\n<defs>\n  <clipPath id=\"clip982\">\n    <rect x=\"232\" y=\"47\" width=\"2601\" height=\"1466\"/>\n  </clipPath>\n</defs>\n<polyline clip-path=\"url(#clip982)\" style=\"stroke:#000000; stroke-linecap:butt; stroke-linejoin:round; stroke-width:2; stroke-opacity:0.1; fill:none\" points=\"\n  306.564,1512.64 306.564,47.2441 \n  \"/>\n<polyline clip-path=\"url(#clip982)\" style=\"stroke:#000000; stroke-linecap:butt; stroke-linejoin:round; stroke-width:2; stroke-opacity:0.1; fill:none\" points=\"\n  656.937,1512.64 656.937,47.2441 \n  \"/>\n<polyline clip-path=\"url(#clip982)\" style=\"stroke:#000000; stroke-linecap:butt; stroke-linejoin:round; stroke-width:2; stroke-opacity:0.1; fill:none\" points=\"\n  1007.31,1512.64 1007.31,47.2441 \n  \"/>\n<polyline clip-path=\"url(#clip982)\" style=\"stroke:#000000; stroke-linecap:butt; stroke-linejoin:round; stroke-width:2; stroke-opacity:0.1; fill:none\" points=\"\n  1357.68,1512.64 1357.68,47.2441 \n  \"/>\n<polyline clip-path=\"url(#clip982)\" style=\"stroke:#000000; stroke-linecap:butt; stroke-linejoin:round; stroke-width:2; stroke-opacity:0.1; fill:none\" points=\"\n  1708.06,1512.64 1708.06,47.2441 \n  \"/>\n<polyline clip-path=\"url(#clip982)\" style=\"stroke:#000000; stroke-linecap:butt; stroke-linejoin:round; stroke-width:2; stroke-opacity:0.1; fill:none\" points=\"\n  2058.43,1512.64 2058.43,47.2441 \n  \"/>\n<polyline clip-path=\"url(#clip982)\" style=\"stroke:#000000; stroke-linecap:butt; stroke-linejoin:round; stroke-width:2; stroke-opacity:0.1; fill:none\" points=\"\n  2408.8,1512.64 2408.8,47.2441 \n  \"/>\n<polyline clip-path=\"url(#clip982)\" style=\"stroke:#000000; stroke-linecap:butt; stroke-linejoin:round; stroke-width:2; stroke-opacity:0.1; fill:none\" points=\"\n  2759.18,1512.64 2759.18,47.2441 \n  \"/>\n<polyline clip-path=\"url(#clip980)\" style=\"stroke:#000000; stroke-linecap:butt; stroke-linejoin:round; stroke-width:4; stroke-opacity:1; fill:none\" points=\"\n  232.985,1512.64 2832.76,1512.64 \n  \"/>\n<polyline clip-path=\"url(#clip980)\" style=\"stroke:#000000; stroke-linecap:butt; stroke-linejoin:round; stroke-width:4; stroke-opacity:1; fill:none\" points=\"\n  306.564,1512.64 306.564,1493.74 \n  \"/>\n<polyline clip-path=\"url(#clip980)\" style=\"stroke:#000000; stroke-linecap:butt; stroke-linejoin:round; stroke-width:4; stroke-opacity:1; fill:none\" points=\"\n  656.937,1512.64 656.937,1493.74 \n  \"/>\n<polyline clip-path=\"url(#clip980)\" style=\"stroke:#000000; stroke-linecap:butt; stroke-linejoin:round; stroke-width:4; stroke-opacity:1; fill:none\" points=\"\n  1007.31,1512.64 1007.31,1493.74 \n  \"/>\n<polyline clip-path=\"url(#clip980)\" style=\"stroke:#000000; stroke-linecap:butt; stroke-linejoin:round; stroke-width:4; stroke-opacity:1; fill:none\" points=\"\n  1357.68,1512.64 1357.68,1493.74 \n  \"/>\n<polyline clip-path=\"url(#clip980)\" style=\"stroke:#000000; stroke-linecap:butt; stroke-linejoin:round; stroke-width:4; stroke-opacity:1; fill:none\" points=\"\n  1708.06,1512.64 1708.06,1493.74 \n  \"/>\n<polyline clip-path=\"url(#clip980)\" style=\"stroke:#000000; stroke-linecap:butt; stroke-linejoin:round; stroke-width:4; stroke-opacity:1; fill:none\" points=\"\n  2058.43,1512.64 2058.43,1493.74 \n  \"/>\n<polyline clip-path=\"url(#clip980)\" style=\"stroke:#000000; stroke-linecap:butt; stroke-linejoin:round; stroke-width:4; stroke-opacity:1; fill:none\" points=\"\n  2408.8,1512.64 2408.8,1493.74 \n  \"/>\n<polyline clip-path=\"url(#clip980)\" style=\"stroke:#000000; stroke-linecap:butt; stroke-linejoin:round; stroke-width:4; stroke-opacity:1; fill:none\" points=\"\n  2759.18,1512.64 2759.18,1493.74 \n  \"/>\n<path clip-path=\"url(#clip980)\" d=\"M296.946 1574.94 L304.585 1574.94 L304.585 1548.58 L296.275 1550.25 L296.275 1545.99 L304.538 1544.32 L309.214 1544.32 L309.214 1574.94 L316.853 1574.94 L316.853 1578.88 L296.946 1578.88 L296.946 1574.94 Z\" fill=\"#000000\" fill-rule=\"evenodd\" fill-opacity=\"1\" /><path clip-path=\"url(#clip980)\" d=\"M651.59 1574.94 L667.909 1574.94 L667.909 1578.88 L645.965 1578.88 L645.965 1574.94 Q648.627 1572.19 653.21 1567.56 Q657.817 1562.91 658.997 1561.57 Q661.243 1559.04 662.122 1557.31 Q663.025 1555.55 663.025 1553.86 Q663.025 1551.1 661.081 1549.37 Q659.159 1547.63 656.058 1547.63 Q653.859 1547.63 651.405 1548.39 Q648.974 1549.16 646.197 1550.71 L646.197 1545.99 Q649.021 1544.85 651.474 1544.27 Q653.928 1543.69 655.965 1543.69 Q661.335 1543.69 664.53 1546.38 Q667.724 1549.07 667.724 1553.56 Q667.724 1555.69 666.914 1557.61 Q666.127 1559.5 664.021 1562.1 Q663.442 1562.77 660.34 1565.99 Q657.238 1569.18 651.59 1574.94 Z\" fill=\"#000000\" fill-rule=\"evenodd\" fill-opacity=\"1\" /><path clip-path=\"url(#clip980)\" d=\"M1011.56 1560.25 Q1014.91 1560.96 1016.79 1563.23 Q1018.69 1565.5 1018.69 1568.83 Q1018.69 1573.95 1015.17 1576.75 Q1011.65 1579.55 1005.17 1579.55 Q1002.99 1579.55 1000.68 1579.11 Q998.387 1578.69 995.933 1577.84 L995.933 1573.32 Q997.878 1574.46 1000.19 1575.04 Q1002.51 1575.62 1005.03 1575.62 Q1009.43 1575.62 1011.72 1573.88 Q1014.04 1572.14 1014.04 1568.83 Q1014.04 1565.78 1011.88 1564.07 Q1009.75 1562.33 1005.93 1562.33 L1001.91 1562.33 L1001.91 1558.49 L1006.12 1558.49 Q1009.57 1558.49 1011.4 1557.12 Q1013.22 1555.73 1013.22 1553.14 Q1013.22 1550.48 1011.33 1549.07 Q1009.45 1547.63 1005.93 1547.63 Q1004.01 1547.63 1001.81 1548.05 Q999.614 1548.46 996.975 1549.34 L996.975 1545.18 Q999.637 1544.44 1001.95 1544.07 Q1004.29 1543.69 1006.35 1543.69 Q1011.67 1543.69 1014.78 1546.13 Q1017.88 1548.53 1017.88 1552.65 Q1017.88 1555.52 1016.23 1557.51 Q1014.59 1559.48 1011.56 1560.25 Z\" fill=\"#000000\" fill-rule=\"evenodd\" fill-opacity=\"1\" /><path clip-path=\"url(#clip980)\" d=\"M1360.69 1548.39 L1348.89 1566.84 L1360.69 1566.84 L1360.69 1548.39 M1359.47 1544.32 L1365.35 1544.32 L1365.35 1566.84 L1370.28 1566.84 L1370.28 1570.73 L1365.35 1570.73 L1365.35 1578.88 L1360.69 1578.88 L1360.69 1570.73 L1345.09 1570.73 L1345.09 1566.22 L1359.47 1544.32 Z\" fill=\"#000000\" fill-rule=\"evenodd\" fill-opacity=\"1\" /><path clip-path=\"url(#clip980)\" d=\"M1698.34 1544.32 L1716.69 1544.32 L1716.69 1548.26 L1702.62 1548.26 L1702.62 1556.73 Q1703.64 1556.38 1704.65 1556.22 Q1705.67 1556.03 1706.69 1556.03 Q1712.48 1556.03 1715.86 1559.2 Q1719.24 1562.38 1719.24 1567.79 Q1719.24 1573.37 1715.77 1576.47 Q1712.29 1579.55 1705.97 1579.55 Q1703.8 1579.55 1701.53 1579.18 Q1699.28 1578.81 1696.88 1578.07 L1696.88 1573.37 Q1698.96 1574.5 1701.18 1575.06 Q1703.4 1575.62 1705.88 1575.62 Q1709.89 1575.62 1712.22 1573.51 Q1714.56 1571.4 1714.56 1567.79 Q1714.56 1564.18 1712.22 1562.07 Q1709.89 1559.97 1705.88 1559.97 Q1704.01 1559.97 1702.13 1560.38 Q1700.28 1560.8 1698.34 1561.68 L1698.34 1544.32 Z\" fill=\"#000000\" fill-rule=\"evenodd\" fill-opacity=\"1\" /><path clip-path=\"url(#clip980)\" d=\"M2058.84 1559.74 Q2055.69 1559.74 2053.84 1561.89 Q2052.01 1564.04 2052.01 1567.79 Q2052.01 1571.52 2053.84 1573.69 Q2055.69 1575.85 2058.84 1575.85 Q2061.98 1575.85 2063.81 1573.69 Q2065.66 1571.52 2065.66 1567.79 Q2065.66 1564.04 2063.81 1561.89 Q2061.98 1559.74 2058.84 1559.74 M2068.12 1545.08 L2068.12 1549.34 Q2066.36 1548.51 2064.55 1548.07 Q2062.77 1547.63 2061.01 1547.63 Q2056.38 1547.63 2053.93 1550.75 Q2051.5 1553.88 2051.15 1560.2 Q2052.52 1558.19 2054.58 1557.12 Q2056.64 1556.03 2059.11 1556.03 Q2064.32 1556.03 2067.33 1559.2 Q2070.36 1562.35 2070.36 1567.79 Q2070.36 1573.12 2067.22 1576.33 Q2064.07 1579.55 2058.84 1579.55 Q2052.84 1579.55 2049.67 1574.97 Q2046.5 1570.36 2046.5 1561.63 Q2046.5 1553.44 2050.39 1548.58 Q2054.28 1543.69 2060.83 1543.69 Q2062.59 1543.69 2064.37 1544.04 Q2066.17 1544.39 2068.12 1545.08 Z\" fill=\"#000000\" fill-rule=\"evenodd\" fill-opacity=\"1\" /><path clip-path=\"url(#clip980)\" d=\"M2397.69 1544.32 L2419.92 1544.32 L2419.92 1546.31 L2407.37 1578.88 L2402.48 1578.88 L2414.29 1548.26 L2397.69 1548.26 L2397.69 1544.32 Z\" fill=\"#000000\" fill-rule=\"evenodd\" fill-opacity=\"1\" /><path clip-path=\"url(#clip980)\" d=\"M2759.18 1562.47 Q2755.84 1562.47 2753.92 1564.25 Q2752.02 1566.03 2752.02 1569.16 Q2752.02 1572.28 2753.92 1574.07 Q2755.84 1575.85 2759.18 1575.85 Q2762.51 1575.85 2764.43 1574.07 Q2766.35 1572.26 2766.35 1569.16 Q2766.35 1566.03 2764.43 1564.25 Q2762.53 1562.47 2759.18 1562.47 M2754.5 1560.48 Q2751.49 1559.74 2749.8 1557.68 Q2748.14 1555.62 2748.14 1552.65 Q2748.14 1548.51 2751.08 1546.1 Q2754.04 1543.69 2759.18 1543.69 Q2764.34 1543.69 2767.28 1546.1 Q2770.22 1548.51 2770.22 1552.65 Q2770.22 1555.62 2768.53 1557.68 Q2766.86 1559.74 2763.88 1560.48 Q2767.26 1561.26 2769.13 1563.56 Q2771.03 1565.85 2771.03 1569.16 Q2771.03 1574.18 2767.95 1576.87 Q2764.9 1579.55 2759.18 1579.55 Q2753.46 1579.55 2750.38 1576.87 Q2747.33 1574.18 2747.33 1569.16 Q2747.33 1565.85 2749.22 1563.56 Q2751.12 1561.26 2754.5 1560.48 M2752.79 1553.09 Q2752.79 1555.78 2754.46 1557.28 Q2756.15 1558.79 2759.18 1558.79 Q2762.19 1558.79 2763.88 1557.28 Q2765.59 1555.78 2765.59 1553.09 Q2765.59 1550.41 2763.88 1548.9 Q2762.19 1547.4 2759.18 1547.4 Q2756.15 1547.4 2754.46 1548.9 Q2752.79 1550.41 2752.79 1553.09 Z\" fill=\"#000000\" fill-rule=\"evenodd\" fill-opacity=\"1\" /><path clip-path=\"url(#clip980)\" d=\"M1547.8 1643.19 L1547.8 1664.7 L1541.94 1664.7 L1541.94 1643.38 Q1541.94 1638.32 1539.97 1635.8 Q1538 1633.29 1534.05 1633.29 Q1529.31 1633.29 1526.57 1636.31 Q1523.83 1639.34 1523.83 1644.56 L1523.83 1664.7 L1517.94 1664.7 L1517.94 1615.18 L1523.83 1615.18 L1523.83 1634.59 Q1525.93 1631.38 1528.76 1629.79 Q1531.63 1628.2 1535.35 1628.2 Q1541.5 1628.2 1544.65 1632.02 Q1547.8 1635.8 1547.8 1643.19 Z\" fill=\"#000000\" fill-rule=\"evenodd\" fill-opacity=\"1\" /><polyline clip-path=\"url(#clip982)\" style=\"stroke:#000000; stroke-linecap:butt; stroke-linejoin:round; stroke-width:2; stroke-opacity:0.1; fill:none\" points=\"\n  232.985,1365.89 2832.76,1365.89 \n  \"/>\n<polyline clip-path=\"url(#clip982)\" style=\"stroke:#000000; stroke-linecap:butt; stroke-linejoin:round; stroke-width:2; stroke-opacity:0.1; fill:none\" points=\"\n  232.985,1036.9 2832.76,1036.9 \n  \"/>\n<polyline clip-path=\"url(#clip982)\" style=\"stroke:#000000; stroke-linecap:butt; stroke-linejoin:round; stroke-width:2; stroke-opacity:0.1; fill:none\" points=\"\n  232.985,707.915 2832.76,707.915 \n  \"/>\n<polyline clip-path=\"url(#clip982)\" style=\"stroke:#000000; stroke-linecap:butt; stroke-linejoin:round; stroke-width:2; stroke-opacity:0.1; fill:none\" points=\"\n  232.985,378.927 2832.76,378.927 \n  \"/>\n<polyline clip-path=\"url(#clip982)\" style=\"stroke:#000000; stroke-linecap:butt; stroke-linejoin:round; stroke-width:2; stroke-opacity:0.1; fill:none\" points=\"\n  232.985,49.9394 2832.76,49.9394 \n  \"/>\n<polyline clip-path=\"url(#clip980)\" style=\"stroke:#000000; stroke-linecap:butt; stroke-linejoin:round; stroke-width:4; stroke-opacity:1; fill:none\" points=\"\n  232.985,1512.64 232.985,47.2441 \n  \"/>\n<polyline clip-path=\"url(#clip980)\" style=\"stroke:#000000; stroke-linecap:butt; stroke-linejoin:round; stroke-width:4; stroke-opacity:1; fill:none\" points=\"\n  232.985,1365.89 251.883,1365.89 \n  \"/>\n<polyline clip-path=\"url(#clip980)\" style=\"stroke:#000000; stroke-linecap:butt; stroke-linejoin:round; stroke-width:4; stroke-opacity:1; fill:none\" points=\"\n  232.985,1036.9 251.883,1036.9 \n  \"/>\n<polyline clip-path=\"url(#clip980)\" style=\"stroke:#000000; stroke-linecap:butt; stroke-linejoin:round; stroke-width:4; stroke-opacity:1; fill:none\" points=\"\n  232.985,707.915 251.883,707.915 \n  \"/>\n<polyline clip-path=\"url(#clip980)\" style=\"stroke:#000000; stroke-linecap:butt; stroke-linejoin:round; stroke-width:4; stroke-opacity:1; fill:none\" points=\"\n  232.985,378.927 251.883,378.927 \n  \"/>\n<polyline clip-path=\"url(#clip980)\" style=\"stroke:#000000; stroke-linecap:butt; stroke-linejoin:round; stroke-width:4; stroke-opacity:1; fill:none\" points=\"\n  232.985,49.9394 251.883,49.9394 \n  \"/>\n<path clip-path=\"url(#clip980)\" d=\"M108.328 1379.24 L115.966 1379.24 L115.966 1352.87 L107.656 1354.54 L107.656 1350.28 L115.92 1348.61 L120.596 1348.61 L120.596 1379.24 L128.235 1379.24 L128.235 1383.17 L108.328 1383.17 L108.328 1379.24 Z\" fill=\"#000000\" fill-rule=\"evenodd\" fill-opacity=\"1\" /><path clip-path=\"url(#clip980)\" d=\"M147.679 1351.69 Q144.068 1351.69 142.239 1355.25 Q140.434 1358.8 140.434 1365.93 Q140.434 1373.03 142.239 1376.6 Q144.068 1380.14 147.679 1380.14 Q151.313 1380.14 153.119 1376.6 Q154.948 1373.03 154.948 1365.93 Q154.948 1358.8 153.119 1355.25 Q151.313 1351.69 147.679 1351.69 M147.679 1347.99 Q153.489 1347.99 156.545 1352.59 Q159.624 1357.18 159.624 1365.93 Q159.624 1374.65 156.545 1379.26 Q153.489 1383.84 147.679 1383.84 Q141.869 1383.84 138.79 1379.26 Q135.735 1374.65 135.735 1365.93 Q135.735 1357.18 138.79 1352.59 Q141.869 1347.99 147.679 1347.99 Z\" fill=\"#000000\" fill-rule=\"evenodd\" fill-opacity=\"1\" /><path clip-path=\"url(#clip980)\" d=\"M177.841 1351.69 Q174.23 1351.69 172.401 1355.25 Q170.596 1358.8 170.596 1365.93 Q170.596 1373.03 172.401 1376.6 Q174.23 1380.14 177.841 1380.14 Q181.475 1380.14 183.281 1376.6 Q185.11 1373.03 185.11 1365.93 Q185.11 1358.8 183.281 1355.25 Q181.475 1351.69 177.841 1351.69 M177.841 1347.99 Q183.651 1347.99 186.707 1352.59 Q189.785 1357.18 189.785 1365.93 Q189.785 1374.65 186.707 1379.26 Q183.651 1383.84 177.841 1383.84 Q172.031 1383.84 168.952 1379.26 Q165.897 1374.65 165.897 1365.93 Q165.897 1357.18 168.952 1352.59 Q172.031 1347.99 177.841 1347.99 Z\" fill=\"#000000\" fill-rule=\"evenodd\" fill-opacity=\"1\" /><path clip-path=\"url(#clip980)\" d=\"M108.328 1050.25 L115.966 1050.25 L115.966 1023.88 L107.656 1025.55 L107.656 1021.29 L115.92 1019.62 L120.596 1019.62 L120.596 1050.25 L128.235 1050.25 L128.235 1054.18 L108.328 1054.18 L108.328 1050.25 Z\" fill=\"#000000\" fill-rule=\"evenodd\" fill-opacity=\"1\" /><path clip-path=\"url(#clip980)\" d=\"M137.726 1019.62 L156.082 1019.62 L156.082 1023.56 L142.008 1023.56 L142.008 1032.03 Q143.026 1031.68 144.045 1031.52 Q145.063 1031.34 146.082 1031.34 Q151.869 1031.34 155.249 1034.51 Q158.628 1037.68 158.628 1043.09 Q158.628 1048.67 155.156 1051.78 Q151.684 1054.85 145.364 1054.85 Q143.188 1054.85 140.92 1054.48 Q138.675 1054.11 136.267 1053.37 L136.267 1048.67 Q138.351 1049.81 140.573 1050.36 Q142.795 1050.92 145.272 1050.92 Q149.276 1050.92 151.614 1048.81 Q153.952 1046.71 153.952 1043.09 Q153.952 1039.48 151.614 1037.38 Q149.276 1035.27 145.272 1035.27 Q143.397 1035.27 141.522 1035.69 Q139.67 1036.1 137.726 1036.98 L137.726 1019.62 Z\" fill=\"#000000\" fill-rule=\"evenodd\" fill-opacity=\"1\" /><path clip-path=\"url(#clip980)\" d=\"M177.841 1022.7 Q174.23 1022.7 172.401 1026.27 Q170.596 1029.81 170.596 1036.94 Q170.596 1044.04 172.401 1047.61 Q174.23 1051.15 177.841 1051.15 Q181.475 1051.15 183.281 1047.61 Q185.11 1044.04 185.11 1036.94 Q185.11 1029.81 183.281 1026.27 Q181.475 1022.7 177.841 1022.7 M177.841 1019 Q183.651 1019 186.707 1023.6 Q189.785 1028.19 189.785 1036.94 Q189.785 1045.66 186.707 1050.27 Q183.651 1054.85 177.841 1054.85 Q172.031 1054.85 168.952 1050.27 Q165.897 1045.66 165.897 1036.94 Q165.897 1028.19 168.952 1023.6 Q172.031 1019 177.841 1019 Z\" fill=\"#000000\" fill-rule=\"evenodd\" fill-opacity=\"1\" /><path clip-path=\"url(#clip980)\" d=\"M111.545 721.26 L127.864 721.26 L127.864 725.195 L105.92 725.195 L105.92 721.26 Q108.582 718.505 113.165 713.875 Q117.772 709.223 118.952 707.88 Q121.198 705.357 122.077 703.621 Q122.98 701.862 122.98 700.172 Q122.98 697.417 121.036 695.681 Q119.115 693.945 116.013 693.945 Q113.814 693.945 111.36 694.709 Q108.929 695.473 106.152 697.024 L106.152 692.301 Q108.976 691.167 111.429 690.589 Q113.883 690.01 115.92 690.01 Q121.29 690.01 124.485 692.695 Q127.679 695.38 127.679 699.871 Q127.679 702.001 126.869 703.922 Q126.082 705.82 123.976 708.413 Q123.397 709.084 120.295 712.301 Q117.193 715.496 111.545 721.26 Z\" fill=\"#000000\" fill-rule=\"evenodd\" fill-opacity=\"1\" /><path clip-path=\"url(#clip980)\" d=\"M147.679 693.714 Q144.068 693.714 142.239 697.278 Q140.434 700.82 140.434 707.95 Q140.434 715.056 142.239 718.621 Q144.068 722.162 147.679 722.162 Q151.313 722.162 153.119 718.621 Q154.948 715.056 154.948 707.95 Q154.948 700.82 153.119 697.278 Q151.313 693.714 147.679 693.714 M147.679 690.01 Q153.489 690.01 156.545 694.616 Q159.624 699.2 159.624 707.95 Q159.624 716.676 156.545 721.283 Q153.489 725.866 147.679 725.866 Q141.869 725.866 138.79 721.283 Q135.735 716.676 135.735 707.95 Q135.735 699.2 138.79 694.616 Q141.869 690.01 147.679 690.01 Z\" fill=\"#000000\" fill-rule=\"evenodd\" fill-opacity=\"1\" /><path clip-path=\"url(#clip980)\" d=\"M177.841 693.714 Q174.23 693.714 172.401 697.278 Q170.596 700.82 170.596 707.95 Q170.596 715.056 172.401 718.621 Q174.23 722.162 177.841 722.162 Q181.475 722.162 183.281 718.621 Q185.11 715.056 185.11 707.95 Q185.11 700.82 183.281 697.278 Q181.475 693.714 177.841 693.714 M177.841 690.01 Q183.651 690.01 186.707 694.616 Q189.785 699.2 189.785 707.95 Q189.785 716.676 186.707 721.283 Q183.651 725.866 177.841 725.866 Q172.031 725.866 168.952 721.283 Q165.897 716.676 165.897 707.95 Q165.897 699.2 168.952 694.616 Q172.031 690.01 177.841 690.01 Z\" fill=\"#000000\" fill-rule=\"evenodd\" fill-opacity=\"1\" /><path clip-path=\"url(#clip980)\" d=\"M111.545 392.272 L127.864 392.272 L127.864 396.207 L105.92 396.207 L105.92 392.272 Q108.582 389.517 113.165 384.888 Q117.772 380.235 118.952 378.892 Q121.198 376.369 122.077 374.633 Q122.98 372.874 122.98 371.184 Q122.98 368.429 121.036 366.693 Q119.115 364.957 116.013 364.957 Q113.814 364.957 111.36 365.721 Q108.929 366.485 106.152 368.036 L106.152 363.314 Q108.976 362.179 111.429 361.601 Q113.883 361.022 115.92 361.022 Q121.29 361.022 124.485 363.707 Q127.679 366.392 127.679 370.883 Q127.679 373.013 126.869 374.934 Q126.082 376.832 123.976 379.425 Q123.397 380.096 120.295 383.314 Q117.193 386.508 111.545 392.272 Z\" fill=\"#000000\" fill-rule=\"evenodd\" fill-opacity=\"1\" /><path clip-path=\"url(#clip980)\" d=\"M137.726 361.647 L156.082 361.647 L156.082 365.582 L142.008 365.582 L142.008 374.054 Q143.026 373.707 144.045 373.545 Q145.063 373.36 146.082 373.36 Q151.869 373.36 155.249 376.531 Q158.628 379.703 158.628 385.119 Q158.628 390.698 155.156 393.8 Q151.684 396.878 145.364 396.878 Q143.188 396.878 140.92 396.508 Q138.675 396.138 136.267 395.397 L136.267 390.698 Q138.351 391.832 140.573 392.388 Q142.795 392.943 145.272 392.943 Q149.276 392.943 151.614 390.837 Q153.952 388.73 153.952 385.119 Q153.952 381.508 151.614 379.402 Q149.276 377.295 145.272 377.295 Q143.397 377.295 141.522 377.712 Q139.67 378.128 137.726 379.008 L137.726 361.647 Z\" fill=\"#000000\" fill-rule=\"evenodd\" fill-opacity=\"1\" /><path clip-path=\"url(#clip980)\" d=\"M177.841 364.726 Q174.23 364.726 172.401 368.291 Q170.596 371.832 170.596 378.962 Q170.596 386.068 172.401 389.633 Q174.23 393.175 177.841 393.175 Q181.475 393.175 183.281 389.633 Q185.11 386.068 185.11 378.962 Q185.11 371.832 183.281 368.291 Q181.475 364.726 177.841 364.726 M177.841 361.022 Q183.651 361.022 186.707 365.629 Q189.785 370.212 189.785 378.962 Q189.785 387.689 186.707 392.295 Q183.651 396.878 177.841 396.878 Q172.031 396.878 168.952 392.295 Q165.897 387.689 165.897 378.962 Q165.897 370.212 168.952 365.629 Q172.031 361.022 177.841 361.022 Z\" fill=\"#000000\" fill-rule=\"evenodd\" fill-opacity=\"1\" /><path clip-path=\"url(#clip980)\" d=\"M121.684 48.5852 Q125.04 49.3028 126.915 51.5713 Q128.814 53.8398 128.814 57.1731 Q128.814 62.2888 125.295 65.0897 Q121.777 67.8907 115.295 67.8907 Q113.119 67.8907 110.804 67.4508 Q108.513 67.0342 106.059 66.1777 L106.059 61.6638 Q108.003 62.7981 110.318 63.3768 Q112.633 63.9555 115.156 63.9555 Q119.554 63.9555 121.846 62.2194 Q124.161 60.4833 124.161 57.1731 Q124.161 54.1176 122.008 52.4046 Q119.878 50.6685 116.059 50.6685 L112.031 50.6685 L112.031 46.8259 L116.244 46.8259 Q119.693 46.8259 121.522 45.4602 Q123.351 44.0713 123.351 41.4788 Q123.351 38.8167 121.452 37.4047 Q119.577 35.9695 116.059 35.9695 Q114.138 35.9695 111.939 36.3862 Q109.74 36.8029 107.101 37.6825 L107.101 33.5158 Q109.763 32.7751 112.078 32.4047 Q114.415 32.0344 116.476 32.0344 Q121.8 32.0344 124.902 34.4649 Q128.003 36.8723 128.003 40.9926 Q128.003 43.863 126.36 45.8537 Q124.716 47.8213 121.684 48.5852 Z\" fill=\"#000000\" fill-rule=\"evenodd\" fill-opacity=\"1\" /><path clip-path=\"url(#clip980)\" d=\"M147.679 35.738 Q144.068 35.738 142.239 39.3028 Q140.434 42.8445 140.434 49.9741 Q140.434 57.0805 142.239 60.6453 Q144.068 64.187 147.679 64.187 Q151.313 64.187 153.119 60.6453 Q154.948 57.0805 154.948 49.9741 Q154.948 42.8445 153.119 39.3028 Q151.313 35.738 147.679 35.738 M147.679 32.0344 Q153.489 32.0344 156.545 36.6408 Q159.624 41.2241 159.624 49.9741 Q159.624 58.7009 156.545 63.3073 Q153.489 67.8907 147.679 67.8907 Q141.869 67.8907 138.79 63.3073 Q135.735 58.7009 135.735 49.9741 Q135.735 41.2241 138.79 36.6408 Q141.869 32.0344 147.679 32.0344 Z\" fill=\"#000000\" fill-rule=\"evenodd\" fill-opacity=\"1\" /><path clip-path=\"url(#clip980)\" d=\"M177.841 35.738 Q174.23 35.738 172.401 39.3028 Q170.596 42.8445 170.596 49.9741 Q170.596 57.0805 172.401 60.6453 Q174.23 64.187 177.841 64.187 Q181.475 64.187 183.281 60.6453 Q185.11 57.0805 185.11 49.9741 Q185.11 42.8445 183.281 39.3028 Q181.475 35.738 177.841 35.738 M177.841 32.0344 Q183.651 32.0344 186.707 36.6408 Q189.785 41.2241 189.785 49.9741 Q189.785 58.7009 186.707 63.3073 Q183.651 67.8907 177.841 67.8907 Q172.031 67.8907 168.952 63.3073 Q165.897 58.7009 165.897 49.9741 Q165.897 41.2241 168.952 36.6408 Q172.031 32.0344 177.841 32.0344 Z\" fill=\"#000000\" fill-rule=\"evenodd\" fill-opacity=\"1\" /><path clip-path=\"url(#clip980)\" d=\"M12.8162 813.585 L12.8162 807.378 L42.735 796.238 L12.8162 785.098 L12.8162 778.892 L48.4642 792.26 L48.4642 800.217 L12.8162 813.585 Z\" fill=\"#000000\" fill-rule=\"evenodd\" fill-opacity=\"1\" /><path clip-path=\"url(#clip980)\" d=\"M8.77398 746.299 L14.9487 757.726 L21.1553 746.299 L24.2745 748.145 L17.8133 758.84 L29.8126 758.84 L29.8126 762.468 L17.8133 762.468 L24.2745 773.162 L21.1553 775.009 L14.9487 763.582 L8.77398 775.009 L5.62295 773.162 L12.0841 762.468 L0.0847871 762.468 L0.0847871 758.84 L12.0841 758.84 L5.62295 748.145 L8.77398 746.299 Z\" fill=\"#000000\" fill-rule=\"evenodd\" fill-opacity=\"1\" /><polyline clip-path=\"url(#clip982)\" style=\"stroke:#dc143c; stroke-linecap:butt; stroke-linejoin:round; stroke-width:6; stroke-opacity:1; fill:none\" points=\"\n  306.564,1471.17 656.937,1058.62 1007.31,740.182 1357.68,510.21 1708.06,328.64 2058.43,171.576 2408.8,123.779 2759.18,88.7176 \n  \"/>\n<path clip-path=\"url(#clip982)\" d=\"M306.564 1451.17 L286.564 1471.17 L306.564 1491.17 L326.564 1471.17 L306.564 1451.17 Z\" fill=\"#dc143c\" fill-rule=\"evenodd\" fill-opacity=\"1\" stroke=\"#000000\" stroke-opacity=\"1\" stroke-width=\"0\"/>\n<path clip-path=\"url(#clip982)\" d=\"M656.937 1038.62 L636.937 1058.62 L656.937 1078.62 L676.937 1058.62 L656.937 1038.62 Z\" fill=\"#dc143c\" fill-rule=\"evenodd\" fill-opacity=\"1\" stroke=\"#000000\" stroke-opacity=\"1\" stroke-width=\"0\"/>\n<path clip-path=\"url(#clip982)\" d=\"M1007.31 720.182 L987.311 740.182 L1007.31 760.182 L1027.31 740.182 L1007.31 720.182 Z\" fill=\"#dc143c\" fill-rule=\"evenodd\" fill-opacity=\"1\" stroke=\"#000000\" stroke-opacity=\"1\" stroke-width=\"0\"/>\n<path clip-path=\"url(#clip982)\" d=\"M1357.68 490.21 L1337.68 510.21 L1357.68 530.21 L1377.68 510.21 L1357.68 490.21 Z\" fill=\"#dc143c\" fill-rule=\"evenodd\" fill-opacity=\"1\" stroke=\"#000000\" stroke-opacity=\"1\" stroke-width=\"0\"/>\n<path clip-path=\"url(#clip982)\" d=\"M1708.06 308.64 L1688.06 328.64 L1708.06 348.64 L1728.06 328.64 L1708.06 308.64 Z\" fill=\"#dc143c\" fill-rule=\"evenodd\" fill-opacity=\"1\" stroke=\"#000000\" stroke-opacity=\"1\" stroke-width=\"0\"/>\n<path clip-path=\"url(#clip982)\" d=\"M2058.43 151.576 L2038.43 171.576 L2058.43 191.576 L2078.43 171.576 L2058.43 151.576 Z\" fill=\"#dc143c\" fill-rule=\"evenodd\" fill-opacity=\"1\" stroke=\"#000000\" stroke-opacity=\"1\" stroke-width=\"0\"/>\n<path clip-path=\"url(#clip982)\" d=\"M2408.8 103.779 L2388.8 123.779 L2408.8 143.779 L2428.8 123.779 L2408.8 103.779 Z\" fill=\"#dc143c\" fill-rule=\"evenodd\" fill-opacity=\"1\" stroke=\"#000000\" stroke-opacity=\"1\" stroke-width=\"0\"/>\n<path clip-path=\"url(#clip982)\" d=\"M2759.18 68.7176 L2739.18 88.7176 L2759.18 108.718 L2779.18 88.7176 L2759.18 68.7176 Z\" fill=\"#dc143c\" fill-rule=\"evenodd\" fill-opacity=\"1\" stroke=\"#000000\" stroke-opacity=\"1\" stroke-width=\"0\"/>\n</svg>\n"
     },
     "execution_count": 23,
     "metadata": {},
     "output_type": "execute_result"
    }
   ],
   "source": [
    "pl = plot(v, legend=false, size=(720, 420), xlabel=\"h\", ylabel=\"v*\", lw=1.5, color=:crimson, xticks=1:8, marker=:diamond, msw=0, msa=0, ms=5)"
   ]
  },
  {
   "cell_type": "code",
   "execution_count": 41,
   "id": "prospective-heater",
   "metadata": {},
   "outputs": [],
   "source": [
    "# savefig(pl, \"h-utility.png\")\n",
    "# savefig(pl, \"h-utility.pdf\")"
   ]
  },
  {
   "cell_type": "code",
   "execution_count": null,
   "id": "magnetic-ancient",
   "metadata": {},
   "outputs": [],
   "source": [
    "Slightly nicer formatting of print above:\n",
    "\n",
    " 200  0.39  4  230\n",
    " 250  0.33  2  147\n",
    " 300  0.24  6  282\n",
    " 350  0.24  1   84\n",
    " 400  0.05  7  289\n",
    " 450  0.03  8  294\n",
    " 500  0.1   5  258\n",
    " 550  0.12  3  195"
   ]
  },
  {
   "cell_type": "markdown",
   "id": "threatened-continent",
   "metadata": {},
   "source": [
    "### Tight example\n",
    "\n",
    "Tight example for bound $v(\\mathcal{Y}) \\geq v(\\mathcal{X}) /h$, where $\\mathcal{Y}$ is the naive solution that picks the $h$ schools with highest $f_j t_j$-value."
   ]
  },
  {
   "cell_type": "code",
   "execution_count": 9,
   "id": "american-shore",
   "metadata": {},
   "outputs": [
    {
     "data": {
      "image/svg+xml": "<?xml version=\"1.0\" encoding=\"utf-8\"?>\n<svg xmlns=\"http://www.w3.org/2000/svg\" xmlns:xlink=\"http://www.w3.org/1999/xlink\" width=\"600\" height=\"400\" viewBox=\"0 0 2400 1600\">\n<defs>\n  <clipPath id=\"clip230\">\n    <rect x=\"0\" y=\"0\" width=\"2400\" height=\"1600\"/>\n  </clipPath>\n</defs>\n<path clip-path=\"url(#clip230)\" d=\"\nM0 1600 L2400 1600 L2400 0 L0 0  Z\n  \" fill=\"#ffffff\" fill-rule=\"evenodd\" fill-opacity=\"1\"/>\n<defs>\n  <clipPath id=\"clip231\">\n    <rect x=\"480\" y=\"0\" width=\"1681\" height=\"1600\"/>\n  </clipPath>\n</defs>\n<path clip-path=\"url(#clip230)\" d=\"\nM186.274 1486.45 L2352.76 1486.45 L2352.76 47.2441 L186.274 47.2441  Z\n  \" fill=\"#ffffff\" fill-rule=\"evenodd\" fill-opacity=\"1\"/>\n<defs>\n  <clipPath id=\"clip232\">\n    <rect x=\"186\" y=\"47\" width=\"2167\" height=\"1440\"/>\n  </clipPath>\n</defs>\n<polyline clip-path=\"url(#clip232)\" style=\"stroke:#000000; stroke-linecap:butt; stroke-linejoin:round; stroke-width:2; stroke-opacity:0.1; fill:none\" points=\"\n  226.945,1486.45 226.945,47.2441 \n  \"/>\n<polyline clip-path=\"url(#clip232)\" style=\"stroke:#000000; stroke-linecap:butt; stroke-linejoin:round; stroke-width:2; stroke-opacity:0.1; fill:none\" points=\"\n  743.069,1486.45 743.069,47.2441 \n  \"/>\n<polyline clip-path=\"url(#clip232)\" style=\"stroke:#000000; stroke-linecap:butt; stroke-linejoin:round; stroke-width:2; stroke-opacity:0.1; fill:none\" points=\"\n  1259.19,1486.45 1259.19,47.2441 \n  \"/>\n<polyline clip-path=\"url(#clip232)\" style=\"stroke:#000000; stroke-linecap:butt; stroke-linejoin:round; stroke-width:2; stroke-opacity:0.1; fill:none\" points=\"\n  1775.32,1486.45 1775.32,47.2441 \n  \"/>\n<polyline clip-path=\"url(#clip232)\" style=\"stroke:#000000; stroke-linecap:butt; stroke-linejoin:round; stroke-width:2; stroke-opacity:0.1; fill:none\" points=\"\n  2291.44,1486.45 2291.44,47.2441 \n  \"/>\n<polyline clip-path=\"url(#clip230)\" style=\"stroke:#000000; stroke-linecap:butt; stroke-linejoin:round; stroke-width:4; stroke-opacity:1; fill:none\" points=\"\n  186.274,1486.45 2352.76,1486.45 \n  \"/>\n<polyline clip-path=\"url(#clip230)\" style=\"stroke:#000000; stroke-linecap:butt; stroke-linejoin:round; stroke-width:4; stroke-opacity:1; fill:none\" points=\"\n  226.945,1486.45 226.945,1469.18 \n  \"/>\n<polyline clip-path=\"url(#clip230)\" style=\"stroke:#000000; stroke-linecap:butt; stroke-linejoin:round; stroke-width:4; stroke-opacity:1; fill:none\" points=\"\n  743.069,1486.45 743.069,1469.18 \n  \"/>\n<polyline clip-path=\"url(#clip230)\" style=\"stroke:#000000; stroke-linecap:butt; stroke-linejoin:round; stroke-width:4; stroke-opacity:1; fill:none\" points=\"\n  1259.19,1486.45 1259.19,1469.18 \n  \"/>\n<polyline clip-path=\"url(#clip230)\" style=\"stroke:#000000; stroke-linecap:butt; stroke-linejoin:round; stroke-width:4; stroke-opacity:1; fill:none\" points=\"\n  1775.32,1486.45 1775.32,1469.18 \n  \"/>\n<polyline clip-path=\"url(#clip230)\" style=\"stroke:#000000; stroke-linecap:butt; stroke-linejoin:round; stroke-width:4; stroke-opacity:1; fill:none\" points=\"\n  2291.44,1486.45 2291.44,1469.18 \n  \"/>\n<path clip-path=\"url(#clip230)\" d=\"M226.945 1515.64 Q223.333 1515.64 221.505 1519.2 Q219.699 1522.75 219.699 1529.87 Q219.699 1536.98 221.505 1540.55 Q223.333 1544.09 226.945 1544.09 Q230.579 1544.09 232.384 1540.55 Q234.213 1536.98 234.213 1529.87 Q234.213 1522.75 232.384 1519.2 Q230.579 1515.64 226.945 1515.64 M226.945 1511.93 Q232.755 1511.93 235.81 1516.54 Q238.889 1521.12 238.889 1529.87 Q238.889 1538.6 235.81 1543.21 Q232.755 1547.79 226.945 1547.79 Q221.134 1547.79 218.056 1543.21 Q215 1538.6 215 1529.87 Q215 1521.12 218.056 1516.54 Q221.134 1511.93 226.945 1511.93 Z\" fill=\"#000000\" fill-rule=\"evenodd\" fill-opacity=\"1\" /><path clip-path=\"url(#clip230)\" d=\"M722.339 1543.18 L738.659 1543.18 L738.659 1547.12 L716.714 1547.12 L716.714 1543.18 Q719.377 1540.43 723.96 1535.8 Q728.566 1531.15 729.747 1529.81 Q731.992 1527.28 732.872 1525.55 Q733.775 1523.79 733.775 1522.1 Q733.775 1519.34 731.83 1517.61 Q729.909 1515.87 726.807 1515.87 Q724.608 1515.87 722.154 1516.63 Q719.724 1517.4 716.946 1518.95 L716.946 1514.23 Q719.77 1513.09 722.224 1512.51 Q724.677 1511.93 726.714 1511.93 Q732.085 1511.93 735.279 1514.62 Q738.474 1517.31 738.474 1521.8 Q738.474 1523.93 737.663 1525.85 Q736.876 1527.74 734.77 1530.34 Q734.191 1531.01 731.089 1534.23 Q727.988 1537.42 722.339 1543.18 Z\" fill=\"#000000\" fill-rule=\"evenodd\" fill-opacity=\"1\" /><path clip-path=\"url(#clip230)\" d=\"M748.52 1512.56 L766.876 1512.56 L766.876 1516.5 L752.802 1516.5 L752.802 1524.97 Q753.821 1524.62 754.839 1524.46 Q755.858 1524.27 756.876 1524.27 Q762.663 1524.27 766.043 1527.44 Q769.423 1530.62 769.423 1536.03 Q769.423 1541.61 765.95 1544.71 Q762.478 1547.79 756.159 1547.79 Q753.983 1547.79 751.714 1547.42 Q749.469 1547.05 747.062 1546.31 L747.062 1541.61 Q749.145 1542.74 751.367 1543.3 Q753.589 1543.86 756.066 1543.86 Q760.071 1543.86 762.409 1541.75 Q764.747 1539.64 764.747 1536.03 Q764.747 1532.42 762.409 1530.31 Q760.071 1528.21 756.066 1528.21 Q754.191 1528.21 752.316 1528.62 Q750.464 1529.04 748.52 1529.92 L748.52 1512.56 Z\" fill=\"#000000\" fill-rule=\"evenodd\" fill-opacity=\"1\" /><path clip-path=\"url(#clip230)\" d=\"M1233.89 1512.56 L1252.25 1512.56 L1252.25 1516.5 L1238.17 1516.5 L1238.17 1524.97 Q1239.19 1524.62 1240.21 1524.46 Q1241.23 1524.27 1242.25 1524.27 Q1248.04 1524.27 1251.41 1527.44 Q1254.79 1530.62 1254.79 1536.03 Q1254.79 1541.61 1251.32 1544.71 Q1247.85 1547.79 1241.53 1547.79 Q1239.35 1547.79 1237.09 1547.42 Q1234.84 1547.05 1232.43 1546.31 L1232.43 1541.61 Q1234.52 1542.74 1236.74 1543.3 Q1238.96 1543.86 1241.44 1543.86 Q1245.44 1543.86 1247.78 1541.75 Q1250.12 1539.64 1250.12 1536.03 Q1250.12 1532.42 1247.78 1530.31 Q1245.44 1528.21 1241.44 1528.21 Q1239.56 1528.21 1237.69 1528.62 Q1235.84 1529.04 1233.89 1529.92 L1233.89 1512.56 Z\" fill=\"#000000\" fill-rule=\"evenodd\" fill-opacity=\"1\" /><path clip-path=\"url(#clip230)\" d=\"M1274.01 1515.64 Q1270.4 1515.64 1268.57 1519.2 Q1266.76 1522.75 1266.76 1529.87 Q1266.76 1536.98 1268.57 1540.55 Q1270.4 1544.09 1274.01 1544.09 Q1277.64 1544.09 1279.45 1540.55 Q1281.28 1536.98 1281.28 1529.87 Q1281.28 1522.75 1279.45 1519.2 Q1277.64 1515.64 1274.01 1515.64 M1274.01 1511.93 Q1279.82 1511.93 1282.87 1516.54 Q1285.95 1521.12 1285.95 1529.87 Q1285.95 1538.6 1282.87 1543.21 Q1279.82 1547.79 1274.01 1547.79 Q1268.2 1547.79 1265.12 1543.21 Q1262.06 1538.6 1262.06 1529.87 Q1262.06 1521.12 1265.12 1516.54 Q1268.2 1511.93 1274.01 1511.93 Z\" fill=\"#000000\" fill-rule=\"evenodd\" fill-opacity=\"1\" /><path clip-path=\"url(#clip230)\" d=\"M1749.17 1512.56 L1771.39 1512.56 L1771.39 1514.55 L1758.85 1547.12 L1753.96 1547.12 L1765.77 1516.5 L1749.17 1516.5 L1749.17 1512.56 Z\" fill=\"#000000\" fill-rule=\"evenodd\" fill-opacity=\"1\" /><path clip-path=\"url(#clip230)\" d=\"M1780.56 1512.56 L1798.92 1512.56 L1798.92 1516.5 L1784.84 1516.5 L1784.84 1524.97 Q1785.86 1524.62 1786.88 1524.46 Q1787.9 1524.27 1788.92 1524.27 Q1794.7 1524.27 1798.08 1527.44 Q1801.46 1530.62 1801.46 1536.03 Q1801.46 1541.61 1797.99 1544.71 Q1794.52 1547.79 1788.2 1547.79 Q1786.02 1547.79 1783.75 1547.42 Q1781.51 1547.05 1779.1 1546.31 L1779.1 1541.61 Q1781.18 1542.74 1783.41 1543.3 Q1785.63 1543.86 1788.11 1543.86 Q1792.11 1543.86 1794.45 1541.75 Q1796.79 1539.64 1796.79 1536.03 Q1796.79 1532.42 1794.45 1530.31 Q1792.11 1528.21 1788.11 1528.21 Q1786.23 1528.21 1784.36 1528.62 Q1782.5 1529.04 1780.56 1529.92 L1780.56 1512.56 Z\" fill=\"#000000\" fill-rule=\"evenodd\" fill-opacity=\"1\" /><path clip-path=\"url(#clip230)\" d=\"M2251.05 1543.18 L2258.69 1543.18 L2258.69 1516.82 L2250.38 1518.49 L2250.38 1514.23 L2258.64 1512.56 L2263.32 1512.56 L2263.32 1543.18 L2270.95 1543.18 L2270.95 1547.12 L2251.05 1547.12 L2251.05 1543.18 Z\" fill=\"#000000\" fill-rule=\"evenodd\" fill-opacity=\"1\" /><path clip-path=\"url(#clip230)\" d=\"M2290.4 1515.64 Q2286.79 1515.64 2284.96 1519.2 Q2283.15 1522.75 2283.15 1529.87 Q2283.15 1536.98 2284.96 1540.55 Q2286.79 1544.09 2290.4 1544.09 Q2294.03 1544.09 2295.84 1540.55 Q2297.67 1536.98 2297.67 1529.87 Q2297.67 1522.75 2295.84 1519.2 Q2294.03 1515.64 2290.4 1515.64 M2290.4 1511.93 Q2296.21 1511.93 2299.26 1516.54 Q2302.34 1521.12 2302.34 1529.87 Q2302.34 1538.6 2299.26 1543.21 Q2296.21 1547.79 2290.4 1547.79 Q2284.59 1547.79 2281.51 1543.21 Q2278.45 1538.6 2278.45 1529.87 Q2278.45 1521.12 2281.51 1516.54 Q2284.59 1511.93 2290.4 1511.93 Z\" fill=\"#000000\" fill-rule=\"evenodd\" fill-opacity=\"1\" /><path clip-path=\"url(#clip230)\" d=\"M2320.56 1515.64 Q2316.95 1515.64 2315.12 1519.2 Q2313.32 1522.75 2313.32 1529.87 Q2313.32 1536.98 2315.12 1540.55 Q2316.95 1544.09 2320.56 1544.09 Q2324.19 1544.09 2326 1540.55 Q2327.83 1536.98 2327.83 1529.87 Q2327.83 1522.75 2326 1519.2 Q2324.19 1515.64 2320.56 1515.64 M2320.56 1511.93 Q2326.37 1511.93 2329.43 1516.54 Q2332.5 1521.12 2332.5 1529.87 Q2332.5 1538.6 2329.43 1543.21 Q2326.37 1547.79 2320.56 1547.79 Q2314.75 1547.79 2311.67 1543.21 Q2308.62 1538.6 2308.62 1529.87 Q2308.62 1521.12 2311.67 1516.54 Q2314.75 1511.93 2320.56 1511.93 Z\" fill=\"#000000\" fill-rule=\"evenodd\" fill-opacity=\"1\" /><polyline clip-path=\"url(#clip232)\" style=\"stroke:#000000; stroke-linecap:butt; stroke-linejoin:round; stroke-width:2; stroke-opacity:0.1; fill:none\" points=\"\n  186.274,1459.43 2352.76,1459.43 \n  \"/>\n<polyline clip-path=\"url(#clip232)\" style=\"stroke:#000000; stroke-linecap:butt; stroke-linejoin:round; stroke-width:2; stroke-opacity:0.1; fill:none\" points=\"\n  186.274,1116.57 2352.76,1116.57 \n  \"/>\n<polyline clip-path=\"url(#clip232)\" style=\"stroke:#000000; stroke-linecap:butt; stroke-linejoin:round; stroke-width:2; stroke-opacity:0.1; fill:none\" points=\"\n  186.274,773.703 2352.76,773.703 \n  \"/>\n<polyline clip-path=\"url(#clip232)\" style=\"stroke:#000000; stroke-linecap:butt; stroke-linejoin:round; stroke-width:2; stroke-opacity:0.1; fill:none\" points=\"\n  186.274,430.84 2352.76,430.84 \n  \"/>\n<polyline clip-path=\"url(#clip232)\" style=\"stroke:#000000; stroke-linecap:butt; stroke-linejoin:round; stroke-width:2; stroke-opacity:0.1; fill:none\" points=\"\n  186.274,87.9763 2352.76,87.9763 \n  \"/>\n<polyline clip-path=\"url(#clip230)\" style=\"stroke:#000000; stroke-linecap:butt; stroke-linejoin:round; stroke-width:4; stroke-opacity:1; fill:none\" points=\"\n  186.274,1486.45 186.274,47.2441 \n  \"/>\n<polyline clip-path=\"url(#clip230)\" style=\"stroke:#000000; stroke-linecap:butt; stroke-linejoin:round; stroke-width:4; stroke-opacity:1; fill:none\" points=\"\n  186.274,1459.43 212.272,1459.43 \n  \"/>\n<polyline clip-path=\"url(#clip230)\" style=\"stroke:#000000; stroke-linecap:butt; stroke-linejoin:round; stroke-width:4; stroke-opacity:1; fill:none\" points=\"\n  186.274,1116.57 212.272,1116.57 \n  \"/>\n<polyline clip-path=\"url(#clip230)\" style=\"stroke:#000000; stroke-linecap:butt; stroke-linejoin:round; stroke-width:4; stroke-opacity:1; fill:none\" points=\"\n  186.274,773.703 212.272,773.703 \n  \"/>\n<polyline clip-path=\"url(#clip230)\" style=\"stroke:#000000; stroke-linecap:butt; stroke-linejoin:round; stroke-width:4; stroke-opacity:1; fill:none\" points=\"\n  186.274,430.84 212.272,430.84 \n  \"/>\n<polyline clip-path=\"url(#clip230)\" style=\"stroke:#000000; stroke-linecap:butt; stroke-linejoin:round; stroke-width:4; stroke-opacity:1; fill:none\" points=\"\n  186.274,87.9763 212.272,87.9763 \n  \"/>\n<path clip-path=\"url(#clip230)\" d=\"M62.9365 1445.23 Q59.3254 1445.23 57.4967 1448.79 Q55.6912 1452.34 55.6912 1459.46 Q55.6912 1466.57 57.4967 1470.14 Q59.3254 1473.68 62.9365 1473.68 Q66.5707 1473.68 68.3763 1470.14 Q70.205 1466.57 70.205 1459.46 Q70.205 1452.34 68.3763 1448.79 Q66.5707 1445.23 62.9365 1445.23 M62.9365 1441.53 Q68.7467 1441.53 71.8022 1446.13 Q74.8809 1450.72 74.8809 1459.46 Q74.8809 1468.19 71.8022 1472.8 Q68.7467 1477.38 62.9365 1477.38 Q57.1264 1477.38 54.0477 1472.8 Q50.9921 1468.19 50.9921 1459.46 Q50.9921 1450.72 54.0477 1446.13 Q57.1264 1441.53 62.9365 1441.53 Z\" fill=\"#000000\" fill-rule=\"evenodd\" fill-opacity=\"1\" /><path clip-path=\"url(#clip230)\" d=\"M83.0984 1470.83 L87.9827 1470.83 L87.9827 1476.71 L83.0984 1476.71 L83.0984 1470.83 Z\" fill=\"#000000\" fill-rule=\"evenodd\" fill-opacity=\"1\" /><path clip-path=\"url(#clip230)\" d=\"M108.168 1445.23 Q104.557 1445.23 102.728 1448.79 Q100.922 1452.34 100.922 1459.46 Q100.922 1466.57 102.728 1470.14 Q104.557 1473.68 108.168 1473.68 Q111.802 1473.68 113.608 1470.14 Q115.436 1466.57 115.436 1459.46 Q115.436 1452.34 113.608 1448.79 Q111.802 1445.23 108.168 1445.23 M108.168 1441.53 Q113.978 1441.53 117.033 1446.13 Q120.112 1450.72 120.112 1459.46 Q120.112 1468.19 117.033 1472.8 Q113.978 1477.38 108.168 1477.38 Q102.358 1477.38 99.2789 1472.8 Q96.2234 1468.19 96.2234 1459.46 Q96.2234 1450.72 99.2789 1446.13 Q102.358 1441.53 108.168 1441.53 Z\" fill=\"#000000\" fill-rule=\"evenodd\" fill-opacity=\"1\" /><path clip-path=\"url(#clip230)\" d=\"M138.33 1445.23 Q134.719 1445.23 132.89 1448.79 Q131.084 1452.34 131.084 1459.46 Q131.084 1466.57 132.89 1470.14 Q134.719 1473.68 138.33 1473.68 Q141.964 1473.68 143.769 1470.14 Q145.598 1466.57 145.598 1459.46 Q145.598 1452.34 143.769 1448.79 Q141.964 1445.23 138.33 1445.23 M138.33 1441.53 Q144.14 1441.53 147.195 1446.13 Q150.274 1450.72 150.274 1459.46 Q150.274 1468.19 147.195 1472.8 Q144.14 1477.38 138.33 1477.38 Q132.519 1477.38 129.441 1472.8 Q126.385 1468.19 126.385 1459.46 Q126.385 1450.72 129.441 1446.13 Q132.519 1441.53 138.33 1441.53 Z\" fill=\"#000000\" fill-rule=\"evenodd\" fill-opacity=\"1\" /><path clip-path=\"url(#clip230)\" d=\"M63.9319 1102.37 Q60.3208 1102.37 58.4921 1105.93 Q56.6865 1109.47 56.6865 1116.6 Q56.6865 1123.71 58.4921 1127.27 Q60.3208 1130.81 63.9319 1130.81 Q67.5661 1130.81 69.3717 1127.27 Q71.2004 1123.71 71.2004 1116.6 Q71.2004 1109.47 69.3717 1105.93 Q67.5661 1102.37 63.9319 1102.37 M63.9319 1098.66 Q69.742 1098.66 72.7976 1103.27 Q75.8763 1107.85 75.8763 1116.6 Q75.8763 1125.33 72.7976 1129.93 Q69.742 1134.52 63.9319 1134.52 Q58.1217 1134.52 55.043 1129.93 Q51.9875 1125.33 51.9875 1116.6 Q51.9875 1107.85 55.043 1103.27 Q58.1217 1098.66 63.9319 1098.66 Z\" fill=\"#000000\" fill-rule=\"evenodd\" fill-opacity=\"1\" /><path clip-path=\"url(#clip230)\" d=\"M84.0938 1127.97 L88.978 1127.97 L88.978 1133.85 L84.0938 1133.85 L84.0938 1127.97 Z\" fill=\"#000000\" fill-rule=\"evenodd\" fill-opacity=\"1\" /><path clip-path=\"url(#clip230)\" d=\"M103.191 1129.91 L119.51 1129.91 L119.51 1133.85 L97.566 1133.85 L97.566 1129.91 Q100.228 1127.16 104.811 1122.53 Q109.418 1117.87 110.598 1116.53 Q112.844 1114.01 113.723 1112.27 Q114.626 1110.51 114.626 1108.82 Q114.626 1106.07 112.682 1104.33 Q110.76 1102.6 107.658 1102.6 Q105.459 1102.6 103.006 1103.36 Q100.575 1104.12 97.7974 1105.68 L97.7974 1100.95 Q100.621 1099.82 103.075 1099.24 Q105.529 1098.66 107.566 1098.66 Q112.936 1098.66 116.131 1101.35 Q119.325 1104.03 119.325 1108.52 Q119.325 1110.65 118.515 1112.57 Q117.728 1114.47 115.621 1117.06 Q115.043 1117.74 111.941 1120.95 Q108.839 1124.15 103.191 1129.91 Z\" fill=\"#000000\" fill-rule=\"evenodd\" fill-opacity=\"1\" /><path clip-path=\"url(#clip230)\" d=\"M129.371 1099.29 L147.728 1099.29 L147.728 1103.22 L133.654 1103.22 L133.654 1111.69 Q134.672 1111.35 135.691 1111.18 Q136.709 1111 137.728 1111 Q143.515 1111 146.894 1114.17 Q150.274 1117.34 150.274 1122.76 Q150.274 1128.34 146.802 1131.44 Q143.33 1134.52 137.01 1134.52 Q134.834 1134.52 132.566 1134.15 Q130.32 1133.78 127.913 1133.04 L127.913 1128.34 Q129.996 1129.47 132.219 1130.03 Q134.441 1130.58 136.918 1130.58 Q140.922 1130.58 143.26 1128.48 Q145.598 1126.37 145.598 1122.76 Q145.598 1119.15 143.26 1117.04 Q140.922 1114.93 136.918 1114.93 Q135.043 1114.93 133.168 1115.35 Q131.316 1115.77 129.371 1116.65 L129.371 1099.29 Z\" fill=\"#000000\" fill-rule=\"evenodd\" fill-opacity=\"1\" /><path clip-path=\"url(#clip230)\" d=\"M62.9365 759.502 Q59.3254 759.502 57.4967 763.067 Q55.6912 766.608 55.6912 773.738 Q55.6912 780.844 57.4967 784.409 Q59.3254 787.951 62.9365 787.951 Q66.5707 787.951 68.3763 784.409 Q70.205 780.844 70.205 773.738 Q70.205 766.608 68.3763 763.067 Q66.5707 759.502 62.9365 759.502 M62.9365 755.798 Q68.7467 755.798 71.8022 760.405 Q74.8809 764.988 74.8809 773.738 Q74.8809 782.465 71.8022 787.071 Q68.7467 791.655 62.9365 791.655 Q57.1264 791.655 54.0477 787.071 Q50.9921 782.465 50.9921 773.738 Q50.9921 764.988 54.0477 760.405 Q57.1264 755.798 62.9365 755.798 Z\" fill=\"#000000\" fill-rule=\"evenodd\" fill-opacity=\"1\" /><path clip-path=\"url(#clip230)\" d=\"M83.0984 785.104 L87.9827 785.104 L87.9827 790.983 L83.0984 790.983 L83.0984 785.104 Z\" fill=\"#000000\" fill-rule=\"evenodd\" fill-opacity=\"1\" /><path clip-path=\"url(#clip230)\" d=\"M98.2141 756.423 L116.57 756.423 L116.57 760.358 L102.496 760.358 L102.496 768.831 Q103.515 768.483 104.534 768.321 Q105.552 768.136 106.571 768.136 Q112.358 768.136 115.737 771.307 Q119.117 774.479 119.117 779.895 Q119.117 785.474 115.645 788.576 Q112.172 791.655 105.853 791.655 Q103.677 791.655 101.409 791.284 Q99.1632 790.914 96.7558 790.173 L96.7558 785.474 Q98.8391 786.608 101.061 787.164 Q103.284 787.719 105.76 787.719 Q109.765 787.719 112.103 785.613 Q114.441 783.506 114.441 779.895 Q114.441 776.284 112.103 774.178 Q109.765 772.071 105.76 772.071 Q103.885 772.071 102.01 772.488 Q100.159 772.905 98.2141 773.784 L98.2141 756.423 Z\" fill=\"#000000\" fill-rule=\"evenodd\" fill-opacity=\"1\" /><path clip-path=\"url(#clip230)\" d=\"M138.33 759.502 Q134.719 759.502 132.89 763.067 Q131.084 766.608 131.084 773.738 Q131.084 780.844 132.89 784.409 Q134.719 787.951 138.33 787.951 Q141.964 787.951 143.769 784.409 Q145.598 780.844 145.598 773.738 Q145.598 766.608 143.769 763.067 Q141.964 759.502 138.33 759.502 M138.33 755.798 Q144.14 755.798 147.195 760.405 Q150.274 764.988 150.274 773.738 Q150.274 782.465 147.195 787.071 Q144.14 791.655 138.33 791.655 Q132.519 791.655 129.441 787.071 Q126.385 782.465 126.385 773.738 Q126.385 764.988 129.441 760.405 Q132.519 755.798 138.33 755.798 Z\" fill=\"#000000\" fill-rule=\"evenodd\" fill-opacity=\"1\" /><path clip-path=\"url(#clip230)\" d=\"M63.9319 416.638 Q60.3208 416.638 58.4921 420.203 Q56.6865 423.745 56.6865 430.874 Q56.6865 437.981 58.4921 441.546 Q60.3208 445.087 63.9319 445.087 Q67.5661 445.087 69.3717 441.546 Q71.2004 437.981 71.2004 430.874 Q71.2004 423.745 69.3717 420.203 Q67.5661 416.638 63.9319 416.638 M63.9319 412.935 Q69.742 412.935 72.7976 417.541 Q75.8763 422.125 75.8763 430.874 Q75.8763 439.601 72.7976 444.208 Q69.742 448.791 63.9319 448.791 Q58.1217 448.791 55.043 444.208 Q51.9875 439.601 51.9875 430.874 Q51.9875 422.125 55.043 417.541 Q58.1217 412.935 63.9319 412.935 Z\" fill=\"#000000\" fill-rule=\"evenodd\" fill-opacity=\"1\" /><path clip-path=\"url(#clip230)\" d=\"M84.0938 442.24 L88.978 442.24 L88.978 448.12 L84.0938 448.12 L84.0938 442.24 Z\" fill=\"#000000\" fill-rule=\"evenodd\" fill-opacity=\"1\" /><path clip-path=\"url(#clip230)\" d=\"M97.9826 413.56 L120.205 413.56 L120.205 415.55 L107.658 448.12 L102.774 448.12 L114.58 417.495 L97.9826 417.495 L97.9826 413.56 Z\" fill=\"#000000\" fill-rule=\"evenodd\" fill-opacity=\"1\" /><path clip-path=\"url(#clip230)\" d=\"M129.371 413.56 L147.728 413.56 L147.728 417.495 L133.654 417.495 L133.654 425.967 Q134.672 425.62 135.691 425.458 Q136.709 425.273 137.728 425.273 Q143.515 425.273 146.894 428.444 Q150.274 431.615 150.274 437.032 Q150.274 442.611 146.802 445.712 Q143.33 448.791 137.01 448.791 Q134.834 448.791 132.566 448.421 Q130.32 448.05 127.913 447.31 L127.913 442.611 Q129.996 443.745 132.219 444.3 Q134.441 444.856 136.918 444.856 Q140.922 444.856 143.26 442.749 Q145.598 440.643 145.598 437.032 Q145.598 433.421 143.26 431.314 Q140.922 429.208 136.918 429.208 Q135.043 429.208 133.168 429.624 Q131.316 430.041 129.371 430.921 L129.371 413.56 Z\" fill=\"#000000\" fill-rule=\"evenodd\" fill-opacity=\"1\" /><path clip-path=\"url(#clip230)\" d=\"M53.7467 101.321 L61.3856 101.321 L61.3856 74.9555 L53.0754 76.6222 L53.0754 72.3629 L61.3393 70.6963 L66.0152 70.6963 L66.0152 101.321 L73.654 101.321 L73.654 105.256 L53.7467 105.256 L53.7467 101.321 Z\" fill=\"#000000\" fill-rule=\"evenodd\" fill-opacity=\"1\" /><path clip-path=\"url(#clip230)\" d=\"M83.0984 99.3767 L87.9827 99.3767 L87.9827 105.256 L83.0984 105.256 L83.0984 99.3767 Z\" fill=\"#000000\" fill-rule=\"evenodd\" fill-opacity=\"1\" /><path clip-path=\"url(#clip230)\" d=\"M108.168 73.775 Q104.557 73.775 102.728 77.3398 Q100.922 80.8814 100.922 88.011 Q100.922 95.1174 102.728 98.6822 Q104.557 102.224 108.168 102.224 Q111.802 102.224 113.608 98.6822 Q115.436 95.1174 115.436 88.011 Q115.436 80.8814 113.608 77.3398 Q111.802 73.775 108.168 73.775 M108.168 70.0713 Q113.978 70.0713 117.033 74.6777 Q120.112 79.261 120.112 88.011 Q120.112 96.7378 117.033 101.344 Q113.978 105.928 108.168 105.928 Q102.358 105.928 99.2789 101.344 Q96.2234 96.7378 96.2234 88.011 Q96.2234 79.261 99.2789 74.6777 Q102.358 70.0713 108.168 70.0713 Z\" fill=\"#000000\" fill-rule=\"evenodd\" fill-opacity=\"1\" /><path clip-path=\"url(#clip230)\" d=\"M138.33 73.775 Q134.719 73.775 132.89 77.3398 Q131.084 80.8814 131.084 88.011 Q131.084 95.1174 132.89 98.6822 Q134.719 102.224 138.33 102.224 Q141.964 102.224 143.769 98.6822 Q145.598 95.1174 145.598 88.011 Q145.598 80.8814 143.769 77.3398 Q141.964 73.775 138.33 73.775 M138.33 70.0713 Q144.14 70.0713 147.195 74.6777 Q150.274 79.261 150.274 88.011 Q150.274 96.7378 147.195 101.344 Q144.14 105.928 138.33 105.928 Q132.519 105.928 129.441 101.344 Q126.385 96.7378 126.385 88.011 Q126.385 79.261 129.441 74.6777 Q132.519 70.0713 138.33 70.0713 Z\" fill=\"#000000\" fill-rule=\"evenodd\" fill-opacity=\"1\" /><polyline clip-path=\"url(#clip232)\" style=\"stroke:#009af9; stroke-linecap:butt; stroke-linejoin:round; stroke-width:4; stroke-opacity:1; fill:none\" points=\"\n  247.59,87.9763 268.234,773.703 288.879,1002.28 309.524,1116.57 330.169,1185.14 350.814,1230.85 371.459,1263.51 392.104,1288 412.749,1307.05 433.394,1322.28 \n  454.039,1334.75 474.684,1345.14 495.329,1353.93 515.974,1361.47 536.619,1368 557.264,1373.71 577.909,1378.76 598.554,1383.24 619.199,1387.25 639.844,1390.86 \n  660.489,1394.12 681.134,1397.09 701.779,1399.8 722.424,1402.29 743.069,1404.57 763.713,1406.68 784.358,1408.64 805.003,1410.45 825.648,1412.14 846.293,1413.72 \n  866.938,1415.19 887.583,1416.57 908.228,1417.87 928.873,1419.09 949.518,1420.25 970.163,1421.33 990.808,1422.36 1011.45,1423.34 1032.1,1424.26 1052.74,1425.14 \n  1073.39,1425.98 1094.03,1426.78 1114.68,1427.54 1135.32,1428.26 1155.97,1428.95 1176.61,1429.62 1197.26,1430.25 1217.9,1430.86 1238.55,1431.44 1259.19,1432 \n  1279.84,1432.54 1300.48,1433.06 1321.13,1433.55 1341.77,1434.03 1362.42,1434.49 1383.06,1434.94 1403.71,1435.37 1424.35,1435.78 1445,1436.19 1465.64,1436.57 \n  1486.29,1436.95 1506.93,1437.31 1527.58,1437.66 1548.22,1438 1568.87,1438.33 1589.51,1438.65 1610.16,1438.96 1630.8,1439.26 1651.45,1439.55 1672.09,1439.84 \n  1692.74,1440.11 1713.38,1440.38 1734.03,1440.64 1754.67,1440.9 1775.32,1441.14 1795.96,1441.38 1816.61,1441.62 1837.25,1441.85 1857.9,1442.07 1878.54,1442.29 \n  1899.19,1442.5 1919.83,1442.71 1940.48,1442.91 1961.12,1443.1 1981.77,1443.3 2002.41,1443.48 2023.06,1443.67 2043.7,1443.85 2064.35,1444.02 2084.99,1444.19 \n  2105.64,1444.36 2126.28,1444.52 2146.93,1444.68 2167.57,1444.84 2188.22,1444.99 2208.86,1445.14 2229.51,1445.29 2250.15,1445.44 2270.8,1445.58 2291.44,1445.72 \n  \n  \"/>\n<path clip-path=\"url(#clip230)\" d=\"\nM1987.39 198.898 L2280.54 198.898 L2280.54 95.2176 L1987.39 95.2176  Z\n  \" fill=\"#ffffff\" fill-rule=\"evenodd\" fill-opacity=\"1\"/>\n<polyline clip-path=\"url(#clip230)\" style=\"stroke:#000000; stroke-linecap:butt; stroke-linejoin:round; stroke-width:4; stroke-opacity:1; fill:none\" points=\"\n  1987.39,198.898 2280.54,198.898 2280.54,95.2176 1987.39,95.2176 1987.39,198.898 \n  \"/>\n<polyline clip-path=\"url(#clip230)\" style=\"stroke:#009af9; stroke-linecap:butt; stroke-linejoin:round; stroke-width:4; stroke-opacity:1; fill:none\" points=\"\n  2011.46,147.058 2155.89,147.058 \n  \"/>\n<path clip-path=\"url(#clip230)\" d=\"M2193.81 166.745 Q2192 171.375 2190.29 172.787 Q2188.58 174.199 2185.71 174.199 L2182.3 174.199 L2182.3 170.634 L2184.8 170.634 Q2186.56 170.634 2187.53 169.8 Q2188.51 168.967 2189.69 165.865 L2190.45 163.921 L2179.97 138.412 L2184.48 138.412 L2192.58 158.689 L2200.68 138.412 L2205.2 138.412 L2193.81 166.745 Z\" fill=\"#000000\" fill-rule=\"evenodd\" fill-opacity=\"1\" /><path clip-path=\"url(#clip230)\" d=\"M2212.49 160.402 L2220.13 160.402 L2220.13 134.037 L2211.82 135.703 L2211.82 131.444 L2220.08 129.778 L2224.76 129.778 L2224.76 160.402 L2232.4 160.402 L2232.4 164.338 L2212.49 164.338 L2212.49 160.402 Z\" fill=\"#000000\" fill-rule=\"evenodd\" fill-opacity=\"1\" /></svg>\n"
     },
     "execution_count": 9,
     "metadata": {},
     "output_type": "execute_result"
    }
   ],
   "source": [
    "h = 100\n",
    "m = 2 * h\n",
    "\n",
    "f = vcat(ones(h), 2.0 .^ range(-1, step=-1, length=m))\n",
    "t = 1 ./ f # (1 .+ range(0.000001, 0, length=m)) ./ f\n",
    "ft = f .* t\n",
    "\n",
    "X, V = applicationorder(f, t, h)\n",
    "[valuation(collect(1:j), f, t)/V[j] for j in 1:h] |> plot"
   ]
  },
  {
   "cell_type": "markdown",
   "id": "closed-greensboro",
   "metadata": {},
   "source": [
    "## Quasipolynomial-time algorithm for generalization with variable application costs\n",
    "\n",
    "Ellis's problem: Now $g_j$ is the cost of applying to college $c_j$; $H$ is the total application budget. The problem is\n",
    "$$\\max\\Bigl\\lbrace \\operatorname{E}[\\max\\lbrace t_j Z_j: j \\in \\mathcal{X}\\rbrace] : \\sum_{j \\in \\mathcal{X}} g_j \\leq H\\Bigr\\rbrace$$\n",
    "\n",
    "Let $V[j, h]$ denote the optimal portfolio costing no more than $h$ using only the first $j$ schools. \n",
    "\n",
    "Base cases:\n",
    "$$\n",
    "\\begin{align*}\n",
    "V[j, 0] &= 0, \\quad & j = 0\\dots m \\\\\n",
    "V[0, h] &= -\\infty, \\quad & h < 0 \\\\\n",
    "\\end{align*}\n",
    "$$\n",
    "\n",
    "Bellman equation:\n",
    "$$\n",
    "\\begin{align*}\n",
    "V[j, h] &= \\max\\bigl( V[j-1, h],~(1 - f_j) V[j-1, h-g_j] + f_j t_j \\bigr), \\quad & j = 1\\dots m, h = 1\\dots H\n",
    "\\end{align*}\n",
    "$$"
   ]
  },
  {
   "cell_type": "code",
   "execution_count": 122,
   "id": "industrial-poison",
   "metadata": {},
   "outputs": [
    {
     "data": {
      "text/plain": [
       "optimalportfolio_variablecosts"
      ]
     },
     "execution_count": 122,
     "metadata": {},
     "output_type": "execute_result"
    }
   ],
   "source": [
    "\"\"\"\n",
    "    valuationtable(f, t, g, H)\n",
    "\n",
    "Given admissions probabilities `f`, utility values `t`, application costs `g`, and\n",
    "budget `H`, uses a dynamic program to produce the optimal portfolio `X` and associated\n",
    "valuation table `V`.\n",
    "\"\"\"\n",
    "function valuationtable(\n",
    "        f::Vector{Float64},\n",
    "        t::Vector{Float64},\n",
    "        g::Vector{Int64},\n",
    "        H=nothing::Union{Int64, Nothing})\n",
    "    m = length(f)\n",
    "    @assert m == length(t) == length(g)\n",
    "    @assert issorted(t)\n",
    "    if isnothing(H)\n",
    "        H = sum(g)\n",
    "    else\n",
    "        @assert 0 < H\n",
    "    end\n",
    "    \n",
    "    V = zeros(m, H)\n",
    "#     U = falses(m, H)\n",
    "    for j in 1:m, h in 1:H\n",
    "        if h < g[j]\n",
    "            V[j, h] = get(V, (j-1, h), 0)\n",
    "        else\n",
    "            V[j, h] = max(\n",
    "                get(V, (j-1, h), 0),\n",
    "                (1 - f[j])*get(V, (j-1, h - g[j]), 0) + f[j] * t[j]\n",
    "            )\n",
    "        end\n",
    "    end\n",
    "    \n",
    "    h = H\n",
    "    X = Int64[]\n",
    "    for j in m:-1:1\n",
    "        if get(V, (j-1, h), 0) <  get(V, (j, h), 0)\n",
    "            push!(X, j)\n",
    "            h -= g[j]\n",
    "        end\n",
    "    end\n",
    "\n",
    "    return X, V\n",
    "end\n",
    "\n",
    "\n",
    "\"\"\"\n",
    "    optimalportfolio_variablecosts(f, t, g, H)\n",
    "\n",
    "Given admissions probabilities `f`, utility values `t`, application costs `g`, and\n",
    "budget `H`, uses a dynamic program to produce the optimal portfolio `X` and associated\n",
    "value `v`.\n",
    "\"\"\"\n",
    "function optimalportfolio_variablecosts(\n",
    "        f::Vector{Float64},\n",
    "        t::Vector{<:Real},\n",
    "        g::Vector{Int64},\n",
    "        H::Int64,\n",
    "        memoize=true)\n",
    "    m = length(f)\n",
    "    @assert m == length(t) == length(g)\n",
    "    @assert issorted(t)\n",
    "    @assert 0 < H\n",
    "    \n",
    "    if memoize\n",
    "        V_dict = Dict{Tuple{Int64, Int64}, Float64}()\n",
    "    end\n",
    "    \n",
    "    function V(j, h)\n",
    "        if memoize && haskey(V_dict, (j, h))\n",
    "            return V_dict[(j, h)]\n",
    "        end\n",
    "        \n",
    "        if j == 0 || h == 0\n",
    "            return 0.0\n",
    "        elseif h < g[j]\n",
    "            if memoize\n",
    "                push!(V_dict, (j, h)=>V(j-1, h))\n",
    "                return V_dict[(j, h)]\n",
    "            else\n",
    "                return V(j-1, h)\n",
    "            end\n",
    "        else\n",
    "            if memoize\n",
    "                push!(V_dict, (j, h)=>max(\n",
    "                    V(j-1, h),\n",
    "                    (1 - f[j]) * V(j-1, h - g[j]) + f[j] * t[j]\n",
    "                ))\n",
    "                return V_dict[(j, h)]\n",
    "            else\n",
    "                return max(\n",
    "                    V(j-1, h),\n",
    "                    (1 - f[j]) * V(j-1, h - g[j]) + f[j] * t[j]\n",
    "                )\n",
    "            end\n",
    "        end\n",
    "    end\n",
    "    \n",
    "    h = H\n",
    "    X = Int64[]\n",
    "    \n",
    "    if memoize\n",
    "        v = V(m, H)\n",
    "    end\n",
    "        \n",
    "    for j in m:-1:1\n",
    "        if V(j-1, h) < V(j, h)\n",
    "            push!(X, j)\n",
    "            h -= g[j]\n",
    "        end\n",
    "    end\n",
    "    \n",
    "    if memoize\n",
    "        return X, v\n",
    "    else\n",
    "        return X, valuation(X, f, t)\n",
    "    end\n",
    "end"
   ]
  },
  {
   "cell_type": "markdown",
   "id": "monetary-pakistan",
   "metadata": {},
   "source": [
    "Solve an instance with all $g_j = 1$ and make sure it agrees with solution from above."
   ]
  },
  {
   "cell_type": "code",
   "execution_count": 123,
   "id": "institutional-behavior",
   "metadata": {},
   "outputs": [
    {
     "ename": "LoadError",
     "evalue": "MethodError: optimalportfolio_variablecosts(::Vector{Float64}, ::Vector{Float64}, ::Vector{Int64}, ::Int64) is ambiguous. Candidates:\n  optimalportfolio_variablecosts(f::Vector{Float64}, t::Vector{<:Real}, g::Vector{Int64}, H::Int64) in Main at In[122]:55\n  optimalportfolio_variablecosts(f::Vector{Float64}, t::Vector{Float64}, g::Vector{Int64}, H) in Main at In[120]:55\nPossible fix, define\n  optimalportfolio_variablecosts(::Vector{Float64}, ::Vector{Float64}, ::Vector{Int64}, ::Int64)",
     "output_type": "error",
     "traceback": [
      "MethodError: optimalportfolio_variablecosts(::Vector{Float64}, ::Vector{Float64}, ::Vector{Int64}, ::Int64) is ambiguous. Candidates:\n  optimalportfolio_variablecosts(f::Vector{Float64}, t::Vector{<:Real}, g::Vector{Int64}, H::Int64) in Main at In[122]:55\n  optimalportfolio_variablecosts(f::Vector{Float64}, t::Vector{Float64}, g::Vector{Int64}, H) in Main at In[120]:55\nPossible fix, define\n  optimalportfolio_variablecosts(::Vector{Float64}, ::Vector{Float64}, ::Vector{Int64}, ::Int64)",
      "",
      "Stacktrace:",
      " [1] top-level scope",
      "   @ In[123]:11",
      " [2] eval",
      "   @ ./boot.jl:373 [inlined]",
      " [3] include_string(mapexpr::typeof(REPL.softscope), mod::Module, code::String, filename::String)",
      "   @ Base ./loading.jl:1196"
     ]
    }
   ],
   "source": [
    "m = 10\n",
    "\n",
    "φ = 0.7\n",
    "t = rand(m) |> sort\n",
    "f = 1 .- (φ*t + (1-φ)*rand(m))\n",
    "g = ones(Int64, m)\n",
    "h = m ÷ 2\n",
    "\n",
    "X, V = valuationtable(f, t, g, h)\n",
    "sort!(X)\n",
    "X_, v_ = optimalportfolio_variablecosts(f, t, g, h)\n",
    "sort!(X_)\n",
    "X__, V__ = applicationorder(f, t, h)\n",
    "sort!(X__)\n",
    "display([X X_ X__])\n",
    "V[end, end], v_, V__[h]"
   ]
  },
  {
   "cell_type": "markdown",
   "id": "pointed-zealand",
   "metadata": {},
   "source": [
    "Make sure the table form and recursive form agree with each other."
   ]
  },
  {
   "cell_type": "code",
   "execution_count": 8,
   "id": "vocational-superintendent",
   "metadata": {},
   "outputs": [
    {
     "data": {
      "text/plain": [
       "10×10 Matrix{Float64}:\n",
       " 0.0  0.0       0.00701334  0.00701334  …  0.00701334  0.00701334  0.00701334\n",
       " 0.0  0.0       0.136857    0.136857       0.139031    0.139031    0.139031\n",
       " 0.0  0.0       0.156895    0.156895       0.196224    0.196848    0.196848\n",
       " 0.0  0.225452  0.225452    0.225452       0.306778    0.306778    0.306778\n",
       " 0.0  0.225452  0.251081    0.251081       0.362327    0.362327    0.362327\n",
       " 0.0  0.225452  0.251081    0.251081    …  0.422997    0.422997    0.467525\n",
       " 0.0  0.225452  0.251081    0.251081       0.422997    0.459811    0.467525\n",
       " 0.0  0.225452  0.251081    0.251081       0.422997    0.468152    0.500515\n",
       " 0.0  0.225452  0.251081    0.289946       0.434787    0.468152    0.500515\n",
       " 0.0  0.225452  0.251081    0.289946       0.460262    0.497983    0.519095"
      ]
     },
     "metadata": {},
     "output_type": "display_data"
    },
    {
     "data": {
      "text/plain": [
       "3×4 Matrix{Int64}:\n",
       "  4  2   4  2\n",
       "  6  5   6  5\n",
       " 10  3  10  3"
      ]
     },
     "metadata": {},
     "output_type": "display_data"
    },
    {
     "name": "stdout",
     "output_type": "stream",
     "text": [
      "g = [3, 3, 3, 2, 3, 5, 4, 4, 2, 3]\n",
      "H = 10\n",
      "(V[end, end], v_) = (0.5190946973996011, 0.5190946973996011)\n"
     ]
    },
    {
     "data": {
      "text/plain": [
       "(0.5190946973996011, 0.5190946973996011)"
      ]
     },
     "execution_count": 8,
     "metadata": {},
     "output_type": "execute_result"
    }
   ],
   "source": [
    "m = 10\n",
    "\n",
    "φ = 0.7\n",
    "t = rand(m) |> sort\n",
    "f = 1 .- (φ*t + (1-φ)*rand(m))\n",
    "g = rand(1:5, m)\n",
    "H = sum(g) ÷ 3\n",
    "\n",
    "@show g\n",
    "@show H\n",
    "\n",
    "X, V = valuationtable(f, t, g, H)\n",
    "display(V)\n",
    "sort!(X)\n",
    "\n",
    "X_, v_ = optimalportfolio_variablecosts(f, t, g, H, true)\n",
    "sort!(X_)\n",
    "display([X g[X] X_ g[X_]])\n",
    "\n",
    "@show V[end, end], v_"
   ]
  },
  {
   "cell_type": "markdown",
   "id": "maritime-blues",
   "metadata": {},
   "source": [
    "## FPTAS for Ellis's problem\n",
    "\n",
    "To do. Use `Normed{UInt64, P}(v)` from FixedPointNumbers.jl to get a float `v` rounded down to `P` binary digits. "
   ]
  },
  {
   "cell_type": "code",
   "execution_count": 11,
   "id": "47ad62e2-9ce8-4dd4-813c-66bc6bd1475b",
   "metadata": {},
   "outputs": [
    {
     "data": {
      "text/plain": [
       "45"
      ]
     },
     "execution_count": 11,
     "metadata": {},
     "output_type": "execute_result"
    }
   ],
   "source": [
    "a = Fixed{Int64, 5}(45)\n",
    "\n",
    "45::Real"
   ]
  },
  {
   "cell_type": "code",
   "execution_count": 63,
   "id": "scheduled-radius",
   "metadata": {},
   "outputs": [
    {
     "data": {
      "text/plain": [
       "optimalportfolio_fptas (generic function with 1 method)"
      ]
     },
     "execution_count": 63,
     "metadata": {},
     "output_type": "execute_result"
    }
   ],
   "source": [
    "function optimalportfolio_fptas(\n",
    "        f::Vector{Float64},\n",
    "        t::Vector{Int64},\n",
    "        g::Vector{Int64},\n",
    "        H::Int64,\n",
    "        ε::Float64)\n",
    "    m = length(f)\n",
    "    @assert m == length(t) == length(g)\n",
    "    @assert issorted(t)\n",
    "    if isnothing(H)\n",
    "        H = sum(g)\n",
    "    else\n",
    "        @assert 0 < H\n",
    "    end\n",
    "    \n",
    "    Ū = sum(f .* t)\n",
    "    P = ceil(Int64, log2(m^2 / (ε * Ū)))\n",
    "    \n",
    "    FP = Fixed{Int64, P}\n",
    "    \n",
    "    infty = 2 * sum(g)\n",
    "    \n",
    "    G_dict = Dict{Tuple{Int64, FP}, Int64}()\n",
    "    \n",
    "    # Want to assert v::FP here but gives a strange error\n",
    "    function G(j::Int64, v::Real)::Int64\n",
    "        haskey(G_dict, (j, v)) && return G_dict[(j, v)]\n",
    "        \n",
    "        if v ≤ 0\n",
    "            return 0\n",
    "        elseif j == 0 || t[j] < v\n",
    "            push!(G_dict, (j, v)=>infty)\n",
    "            return infty # G_dict[(j, v)]\n",
    "        else\n",
    "            if f[j] < 1\n",
    "                v_minus_Δ = FP(v - f[j] * (t[j] - v) / (1 - f[j]))\n",
    "                push!(G_dict, (j, v)=>min(\n",
    "                        G(j-1, v),\n",
    "                        g[j] + G(j-1, v_minus_Δ)\n",
    "                        ))\n",
    "                return G_dict[(j, v)]\n",
    "            else\n",
    "                push!(G_dict, (j, v)=>min(G(j-1, v), g[j]))\n",
    "                return G_dict[(j, v)]\n",
    "            end\n",
    "        end\n",
    "    end\n",
    "    \n",
    "    # Should be binary search instead\n",
    "    v = findlast(g -> g ≤ H, G(m, w) for w in eps(FP):eps(FP):FP(Ū)) * eps(FP)\n",
    "    X = Int64[]\n",
    "    \n",
    "    for j in m:-1:1\n",
    "        if G(j, v) < infty && G(j, v) < G(j - 1, v)\n",
    "            push!(X, j)\n",
    "            v = FP(v - f[j] * (t[j] - v) / (1 - f[j]))\n",
    "        end\n",
    "    end\n",
    "    \n",
    "    return X\n",
    "end"
   ]
  },
  {
   "cell_type": "code",
   "execution_count": 116,
   "id": "1664fc02-18c8-49cb-9561-16b79cec7cc8",
   "metadata": {},
   "outputs": [
    {
     "name": "stdout",
     "output_type": "stream",
     "text": [
      "t = [23, 26, 29, 36, 36, 41, 43, 45, 47, 53, 55, 56, 60, 70, 79, 82, 93, 93, 95, 99]\n",
      "round.(f, digits = 3) = [0.706, 0.68, 0.63, 0.657, 0.722, 0.438, 0.409, 0.462, 0.445, 0.51, 0.384, 0.405, 0.361, 0.228, 0.339, 0.205, 0.338, 0.194, 0.182, 0.226]\n",
      "g = [1, 3, 3, 4, 3, 5, 5, 2, 1, 3, 1, 5, 4, 1, 5, 1, 3, 4, 4, 4]\n",
      "H = 20\n",
      "v = 81.0Q62f1\n",
      "W = [9, 11, 14, 15, 16, 17, 19, 20]\n",
      "X = [1, 9, 11, 14, 16, 17, 18, 19, 20]\n"
     ]
    },
    {
     "data": {
      "text/plain": [
       "0.9944071025429936"
      ]
     },
     "execution_count": 116,
     "metadata": {},
     "output_type": "execute_result"
    }
   ],
   "source": [
    "m = 20\n",
    "\n",
    "φ = 0.7\n",
    "t = rand(m) |> sort\n",
    "f = 1 .- (φ*t + (1-φ)*rand(m))\n",
    "t = round.(Int, 100 * t)\n",
    "g = rand(1:10, m)\n",
    "H = sum(g) ÷ 3\n",
    "\n",
    "@show t\n",
    "@show round.(f, digits=3)\n",
    "@show g\n",
    "@show H\n",
    "\n",
    "W = optimalportfolio_fptas(f, t, g, H, 0.5) |> sort\n",
    "X = optimalportfolio_enumerate(f, t, g, H) |> sort\n",
    "\n",
    "@show W\n",
    "@show X\n",
    "\n",
    "valuation(W, f, t) / valuation(X, f, t)"
   ]
  },
  {
   "cell_type": "code",
   "execution_count": 137,
   "id": "149a6a80-292f-48f9-81b4-6a17d2fd26a5",
   "metadata": {},
   "outputs": [
    {
     "name": "stdout",
     "output_type": "stream",
     "text": [
      "v = 99.6309Q53f10\n",
      " 63.492875 seconds (483.09 M allocations: 15.364 GiB, 4.54% gc time)\n",
      "  0.595041 seconds (12.30 M allocations: 359.509 MiB, 7.41% gc time)\n",
      "W = [701, 715, 759, 831, 869, 876, 886, 911, 917, 919, 920, 923, 932, 939, 944, 947, 949, 952, 953, 954, 955, 956, 957, 958, 959, 960, 961, 962, 963, 964, 965, 968, 969, 970, 971, 972, 973, 974, 975, 976, 977, 978, 979, 980, 981, 982, 983, 984, 985, 986, 987, 988, 989, 990, 991, 992, 993, 994, 995, 996, 997, 998, 999, 1000]\n",
      "X = [1000, 999, 998, 997, 996, 995, 994, 993, 992, 991, 990, 989, 988, 987, 986, 985, 984, 983, 982, 981, 980, 979, 978, 977, 976, 975, 974, 973, 972, 971, 970, 969, 968, 967, 966, 965, 964, 963, 962, 961, 960, 959, 958, 957, 956, 955, 954, 953, 952, 951, 950, 949, 948, 947, 946, 945, 944, 943, 942, 941, 940, 939, 938, 937, 936, 935, 934, 933, 932, 931, 930, 929, 928, 927, 926, 925, 924, 923, 922, 921, 920, 919, 918, 917, 916, 915, 914, 913, 912, 911, 910, 909, 908, 907, 906, 905, 904, 903, 902, 901, 900, 899, 898, 897, 896, 895, 894, 893, 892, 891, 890, 889, 888, 887, 886, 885, 884, 883, 882, 881, 880, 879, 878, 877, 876, 875, 874, 873, 872, 871, 870, 869, 868, 867, 866, 865, 864, 863, 862, 861, 860, 859, 858, 857, 856, 855, 854, 853, 852, 851, 850, 849, 848, 847, 846, 845, 844, 843, 842, 841, 840, 839, 838, 837, 836, 835, 834, 833, 832, 831, 830, 829, 828, 827, 826, 825, 824, 823, 822, 821, 820, 819, 818, 817, 816, 815, 814, 813, 812, 811, 810, 809, 808, 807, 806, 805, 804, 803, 802, 801, 800, 799, 798, 797, 796, 795, 794, 793, 792, 791, 790, 789, 788, 787, 786, 785, 784, 783, 782, 781, 780, 779, 778, 777, 776, 775, 774, 773, 772, 771, 770, 769, 768, 767, 766, 765, 764, 763, 762, 761, 760, 759, 758, 757, 756, 755, 754, 753, 752, 751, 750, 749, 748, 747, 746, 745, 744, 743, 742, 741, 740, 739, 738, 737, 736, 735, 734, 733, 732, 731, 730, 729, 728, 727, 726, 725, 724, 723, 722, 721, 720, 719, 718, 717, 716, 715, 714, 713, 712, 711, 710, 709, 708, 707, 706, 705, 704, 703, 702, 701, 700, 699, 698, 697, 696, 695, 694, 693, 692, 691, 690, 689, 688, 687, 686, 685, 684, 683, 682, 681, 680, 679, 678, 677, 676, 675, 674, 672, 671, 670, 667, 664, 661, 660, 657, 655, 635, 628, 540, 448]\n"
     ]
    },
    {
     "data": {
      "text/plain": [
       "0.9999991142604912"
      ]
     },
     "execution_count": 137,
     "metadata": {},
     "output_type": "execute_result"
    }
   ],
   "source": [
    "m = 1000\n",
    "\n",
    "φ = 0.7\n",
    "t = rand(m) |> sort\n",
    "f = 1 .- (φ*t + (1-φ)*rand(m))\n",
    "t = round.(Int, 100 * t)\n",
    "g = rand(1:5, m)\n",
    "H = sum(g) ÷ 3\n",
    "\n",
    "@time W = optimalportfolio_fptas(f, t, g, H, 0.1) |> sort\n",
    "@time X, v = optimalportfolio_variablecosts(f, t, g, H)\n",
    "\n",
    "@show W\n",
    "@show X\n",
    "\n",
    "valuation(W, f, t) / v"
   ]
  },
  {
   "cell_type": "code",
   "execution_count": 138,
   "id": "71100584-5f22-4793-a392-cd705545b156",
   "metadata": {},
   "outputs": [
    {
     "data": {
      "text/plain": [
       "2.842170943040401e-14"
      ]
     },
     "execution_count": 138,
     "metadata": {},
     "output_type": "execute_result"
    }
   ],
   "source": [
    "valuation(X, f, t)  - v"
   ]
  },
  {
   "cell_type": "code",
   "execution_count": null,
   "id": "b7f8eb7d-0a9a-486d-bf75-9fd6795cb117",
   "metadata": {},
   "outputs": [],
   "source": []
  }
 ],
 "metadata": {
  "kernelspec": {
   "display_name": "Julia 1.7.0",
   "language": "julia",
   "name": "julia-1.7"
  },
  "language_info": {
   "file_extension": ".jl",
   "mimetype": "application/julia",
   "name": "julia",
   "version": "1.7.0"
  }
 },
 "nbformat": 4,
 "nbformat_minor": 5
}
