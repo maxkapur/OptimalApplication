{
 "cells": [
  {
   "cell_type": "code",
   "execution_count": 1,
   "id": "massive-disorder",
   "metadata": {},
   "outputs": [],
   "source": [
    "using Plots\n",
    "using Combinatorics: multiset_combinations\n",
    "using DataStructures\n",
    "import Base.isless"
   ]
  },
  {
   "cell_type": "markdown",
   "id": "assisted-plain",
   "metadata": {},
   "source": [
    "# Optimal college application strategy\n",
    "\n",
    "Alma's problem: $$\\max\\bigl\\lbrace \\operatorname{E}[\\max\\lbrace t_j Z_j: j \\in \\mathcal{X}\\rbrace] : |\\mathcal{X}| \\leq h\\bigr\\rbrace$$\n",
    "\n",
    "where $Z_j$ are independent Bernoulli with probabilities $f_j$. "
   ]
  },
  {
   "cell_type": "code",
   "execution_count": 2,
   "id": "acknowledged-cooperation",
   "metadata": {},
   "outputs": [
    {
     "data": {
      "text/plain": [
       "isless (generic function with 56 methods)"
      ]
     },
     "execution_count": 2,
     "metadata": {},
     "output_type": "execute_result"
    }
   ],
   "source": [
    "\"\"\"\n",
    "    College(f, t, ft)\n",
    "\n",
    "Contains a college's admissions probability `f`, utility value `t`,\n",
    "and their product `ft`.\n",
    "\"\"\"\n",
    "struct College\n",
    "    f::Float64\n",
    "    t::Float64\n",
    "    ft::Float64\n",
    "    \n",
    "    College(f::Float64, t::Float64) = new(f, t, f*t)\n",
    "end\n",
    "\n",
    "isless(c1::College, c2::College) = isless(c1.ft, c2.ft)"
   ]
  },
  {
   "cell_type": "code",
   "execution_count": 3,
   "id": "blessed-travel",
   "metadata": {},
   "outputs": [
    {
     "data": {
      "text/plain": [
       "optimalportfolio_enumerate"
      ]
     },
     "execution_count": 3,
     "metadata": {},
     "output_type": "execute_result"
    }
   ],
   "source": [
    "\"\"\"\n",
    "    applicationorder(f, t, h=m)\n",
    "\n",
    "Produce the optimal order of application for the market defined by admissions probabilities `f`\n",
    "and utility values `t`. \n",
    "\"\"\"\n",
    "function applicationorder(f::Vector{Float64}, t::Vector{Float64}, h=nothing::Union{Int64, Nothing})\n",
    "    m = length(f)\n",
    "    @assert m == length(t)\n",
    "    @assert issorted(t)\n",
    "    if isnothing(h)\n",
    "        h = m\n",
    "    else\n",
    "        @assert 0 < h ≤ m\n",
    "    end\n",
    "\n",
    "    mkt = MutableBinaryMaxHeap{College}()\n",
    "    for j in 1:m\n",
    "        push!(mkt, College(f[j], t[j]))\n",
    "    end\n",
    "\n",
    "    onheap = trues(m)\n",
    "    apporder = zeros(Int, h)\n",
    "    v = zeros(h)\n",
    "    for j in 1:h\n",
    "        c_k, k = top_with_handle(mkt)\n",
    "        v[j] = get(v, j-1, 0) + c_k.ft\n",
    "        \n",
    "        pop!(mkt)\n",
    "        \n",
    "        apporder[j] = k\n",
    "        onheap[k] = false\n",
    "        for i in 1:k-1\n",
    "            onheap[i] && update!(mkt, i, College(mkt[i].f, mkt[i].t * (1 - c_k.f)))\n",
    "        end\n",
    "        for i in k+1:m\n",
    "            onheap[i] && update!(mkt, i, College(mkt[i].f, mkt[i].t - c_k.ft))\n",
    "        end\n",
    "    end\n",
    "    \n",
    "    return apporder, v\n",
    "end\n",
    "\n",
    "\n",
    "\"\"\"\n",
    "    valuation(X, f, t)\n",
    "\n",
    "Returns the expected value of the portfolio `X`, a vector of school indices, on the\n",
    "the market defined by admissions probabilities `f` and utility values `t`. \n",
    "\"\"\"\n",
    "function valuation(X::Vector{Int64}, f, t)\n",
    "    @assert issorted(t)\n",
    "    sort!(X)\n",
    "    h = length(X)\n",
    "    \n",
    "    if h > 1    \n",
    "        res = 0.0\n",
    "        cp = reverse(cumprod(1 .- reverse(f[X[2:end]])))\n",
    "    \n",
    "        for j in 1:h-1\n",
    "            res += t[X[j]] * f[X[j]] * cp[j]\n",
    "        end\n",
    "        \n",
    "        res += t[X[end]] * f[X[end]]\n",
    "        \n",
    "        return res\n",
    "    else\n",
    "        return f[X[1]] * t[X[1]]\n",
    "    end\n",
    "end\n",
    "\n",
    "\n",
    "\"\"\"\n",
    "    optimalportfolio_enumerate(h, f, t)\n",
    "\n",
    "Produce the optimal portfolio of size `h` on the market defined by admissions probabilities `f`\n",
    "and utility values `t`. Solves by enumeration. \n",
    "\"\"\"\n",
    "function optimalportfolio_enumerate(h, f::Vector{Float64}, t::Vector{Float64})\n",
    "    m = length(t)\n",
    "    X = zeros(Int, h)\n",
    "    v = 0.0\n",
    "    \n",
    "    for Y in multiset_combinations(1:m, h)\n",
    "        if (w = valuation(Y, f, t)) > v\n",
    "            v = w\n",
    "            X[:] = Y\n",
    "        end\n",
    "    end\n",
    "    \n",
    "    return X\n",
    "end"
   ]
  },
  {
   "cell_type": "code",
   "execution_count": 4,
   "id": "numerous-finder",
   "metadata": {},
   "outputs": [
    {
     "data": {
      "text/plain": [
       "plotsmaker (generic function with 1 method)"
      ]
     },
     "execution_count": 4,
     "metadata": {},
     "output_type": "execute_result"
    }
   ],
   "source": [
    "function plotsmaker()\n",
    "    m = length(t)\n",
    "    \n",
    "    pl = [plot(\n",
    "            xlabel=\"f\",\n",
    "            ylabel=\"t\",\n",
    "            size=(700, 700)\n",
    "            ) for i in 1:m+2]\n",
    "    \n",
    "    x = zeros(Bool, m, m)\n",
    "    \n",
    "    scatter!(pl[1], f, t, c=:darkslategray, ms=11, msw=0, msa=0, legend=nothing)\n",
    "    \n",
    "    for i in 1:m\n",
    "        x[optimalportfolio_enumerate(i, f, t), i] .= true\n",
    "        \n",
    "        scatter!(pl[i+1], f[.!x[:, i]], t[.!x[:, i]], c=:darkslategray, ms=11, msw=0, msa=0, label=nothing)\n",
    "        scatter!(pl[i+1], f[x[:, i]], t[x[:, i]], c=:orangered, ms=11, msw=0, msa=0, label=\"apply when h = $i\")\n",
    "    end\n",
    "    \n",
    "    apporder = sortperm(reshape(sum(x, dims=2), :), rev=true)\n",
    "    \n",
    "    scatter!(pl[end], f, t, c=:forestgreen, ms=13, msw=0, msa=0, legend=nothing)\n",
    "    annotate!(pl[end], [(f[i], t[i], text(\"$(apporder[i])\", 9, :white)) for i in 1:m])\n",
    "    \n",
    "    return pl, x, apporder\n",
    "end"
   ]
  },
  {
   "cell_type": "markdown",
   "id": "supreme-travel",
   "metadata": {},
   "source": [
    "Solve an instance by enumeration, check that the results agree with the fast algorithm, produce a series of plots showing the nestedness property."
   ]
  },
  {
   "cell_type": "code",
   "execution_count": 25,
   "id": "sensitive-declaration",
   "metadata": {},
   "outputs": [
    {
     "name": "stdout",
     "output_type": "stream",
     "text": [
      "  3.206155 seconds (13.70 M allocations: 1.304 GiB, 8.90% gc time)\n",
      "Bool[0, 0, 0, 0, 0, 0, 0, 0, 0, 1, 0, 0, 0, 0, 0, 0, 0, 0, 0, 0]\n",
      "Bool[0, 0, 0, 0, 0, 0, 0, 0, 0, 1, 0, 0, 0, 0, 0, 0, 0, 0, 0, 1]\n",
      "Bool[0, 0, 0, 0, 0, 0, 0, 0, 0, 1, 0, 1, 0, 0, 0, 0, 0, 0, 0, 1]\n",
      "Bool[0, 0, 0, 0, 0, 0, 0, 0, 0, 1, 0, 1, 1, 0, 0, 0, 0, 0, 0, 1]\n",
      "Bool[0, 0, 0, 0, 0, 0, 0, 0, 0, 1, 0, 1, 1, 0, 0, 0, 0, 1, 0, 1]\n",
      "Bool[0, 0, 0, 0, 0, 0, 0, 0, 0, 1, 0, 1, 1, 0, 1, 0, 0, 1, 0, 1]\n",
      "Bool[0, 0, 0, 0, 0, 0, 0, 0, 0, 1, 0, 1, 1, 0, 1, 1, 0, 1, 0, 1]\n",
      "Bool[0, 0, 0, 0, 0, 0, 0, 0, 0, 1, 0, 1, 1, 0, 1, 1, 1, 1, 0, 1]\n",
      "Bool[0, 0, 0, 0, 0, 0, 0, 0, 0, 1, 0, 1, 1, 0, 1, 1, 1, 1, 1, 1]\n",
      "Bool[0, 0, 0, 0, 0, 0, 0, 0, 0, 1, 0, 1, 1, 1, 1, 1, 1, 1, 1, 1]\n",
      "Bool[0, 0, 0, 0, 0, 1, 0, 0, 0, 1, 0, 1, 1, 1, 1, 1, 1, 1, 1, 1]\n",
      "Bool[0, 0, 0, 0, 0, 1, 0, 0, 0, 1, 1, 1, 1, 1, 1, 1, 1, 1, 1, 1]\n",
      "Bool[0, 0, 0, 0, 0, 1, 0, 1, 0, 1, 1, 1, 1, 1, 1, 1, 1, 1, 1, 1]\n",
      "Bool[0, 0, 0, 0, 0, 1, 0, 1, 1, 1, 1, 1, 1, 1, 1, 1, 1, 1, 1, 1]\n",
      "Bool[0, 0, 0, 0, 1, 1, 0, 1, 1, 1, 1, 1, 1, 1, 1, 1, 1, 1, 1, 1]\n",
      "Bool[0, 0, 0, 0, 1, 1, 1, 1, 1, 1, 1, 1, 1, 1, 1, 1, 1, 1, 1, 1]\n",
      "Bool[0, 0, 1, 0, 1, 1, 1, 1, 1, 1, 1, 1, 1, 1, 1, 1, 1, 1, 1, 1]\n",
      "Bool[0, 0, 1, 1, 1, 1, 1, 1, 1, 1, 1, 1, 1, 1, 1, 1, 1, 1, 1, 1]\n",
      "Bool[0, 1, 1, 1, 1, 1, 1, 1, 1, 1, 1, 1, 1, 1, 1, 1, 1, 1, 1, 1]\n",
      "Bool[1, 1, 1, 1, 1, 1, 1, 1, 1, 1, 1, 1, 1, 1, 1, 1, 1, 1, 1, 1]\n"
     ]
    },
    {
     "data": {
      "text/plain": [
       "20×4 Matrix{Float64}:\n",
       " 10.0  0.356129  10.0  0.356129\n",
       " 20.0  0.537388  20.0  0.537388\n",
       " 12.0  0.659722  12.0  0.659722\n",
       " 13.0  0.724828  13.0  0.724828\n",
       " 18.0  0.769901  18.0  0.769901\n",
       " 15.0  0.803292  15.0  0.803292\n",
       " 16.0  0.826043  16.0  0.826043\n",
       " 17.0  0.843559  17.0  0.843559\n",
       " 19.0  0.853105  19.0  0.853105\n",
       " 14.0  0.860191  14.0  0.860191\n",
       "  6.0  0.86477    6.0  0.86477\n",
       " 11.0  0.867969  11.0  0.867969\n",
       "  8.0  0.869721   8.0  0.869721\n",
       "  9.0  0.870987   9.0  0.870987\n",
       "  5.0  0.871616   5.0  0.871616\n",
       "  7.0  0.871842   7.0  0.871842\n",
       "  3.0  0.871914   3.0  0.871914\n",
       "  4.0  0.871936   4.0  0.871936\n",
       "  2.0  0.87194    2.0  0.87194\n",
       "  1.0  0.87194    1.0  0.87194"
      ]
     },
     "execution_count": 25,
     "metadata": {},
     "output_type": "execute_result"
    }
   ],
   "source": [
    "m = 20\n",
    "\n",
    "φ = 0.7\n",
    "t = rand(m) |> sort\n",
    "f = 1 .- (φ*t + (1-φ)*rand(m))\n",
    "\n",
    "@time pl, x, apporder = plotsmaker()\n",
    "v_enum = [valuation(apporder[1:h], f, t) for h in 1:m]\n",
    "\n",
    "for c in eachcol(x)\n",
    "    println(c)\n",
    "end\n",
    "\n",
    "# for p in pl\n",
    "#     display(p)\n",
    "# end\n",
    "\n",
    "[apporder v_enum applicationorder(f, t)...]"
   ]
  },
  {
   "cell_type": "code",
   "execution_count": 26,
   "id": "explicit-talent",
   "metadata": {},
   "outputs": [
    {
     "data": {
      "image/svg+xml": [
       "<?xml version=\"1.0\" encoding=\"utf-8\"?>\n",
       "<svg xmlns=\"http://www.w3.org/2000/svg\" xmlns:xlink=\"http://www.w3.org/1999/xlink\" width=\"700\" height=\"700\" viewBox=\"0 0 2800 2800\">\n",
       "<defs>\n",
       "  <clipPath id=\"clip020\">\n",
       "    <rect x=\"0\" y=\"0\" width=\"2800\" height=\"2800\"/>\n",
       "  </clipPath>\n",
       "</defs>\n",
       "<path clip-path=\"url(#clip020)\" d=\"\n",
       "M0 2800 L2800 2800 L2800 0 L0 0  Z\n",
       "  \" fill=\"#ffffff\" fill-rule=\"evenodd\" fill-opacity=\"1\"/>\n",
       "<defs>\n",
       "  <clipPath id=\"clip021\">\n",
       "    <rect x=\"560\" y=\"280\" width=\"1961\" height=\"1961\"/>\n",
       "  </clipPath>\n",
       "</defs>\n",
       "<path clip-path=\"url(#clip020)\" d=\"\n",
       "M247.626 2570.14 L2752.76 2570.14 L2752.76 47.2441 L247.626 47.2441  Z\n",
       "  \" fill=\"#ffffff\" fill-rule=\"evenodd\" fill-opacity=\"1\"/>\n",
       "<defs>\n",
       "  <clipPath id=\"clip022\">\n",
       "    <rect x=\"247\" y=\"47\" width=\"2506\" height=\"2524\"/>\n",
       "  </clipPath>\n",
       "</defs>\n",
       "<polyline clip-path=\"url(#clip022)\" style=\"stroke:#000000; stroke-linecap:butt; stroke-linejoin:round; stroke-width:2; stroke-opacity:0.1; fill:none\" points=\"\n",
       "  366.813,2570.14 366.813,47.2441 \n",
       "  \"/>\n",
       "<polyline clip-path=\"url(#clip022)\" style=\"stroke:#000000; stroke-linecap:butt; stroke-linejoin:round; stroke-width:2; stroke-opacity:0.1; fill:none\" points=\"\n",
       "  731.209,2570.14 731.209,47.2441 \n",
       "  \"/>\n",
       "<polyline clip-path=\"url(#clip022)\" style=\"stroke:#000000; stroke-linecap:butt; stroke-linejoin:round; stroke-width:2; stroke-opacity:0.1; fill:none\" points=\"\n",
       "  1095.6,2570.14 1095.6,47.2441 \n",
       "  \"/>\n",
       "<polyline clip-path=\"url(#clip022)\" style=\"stroke:#000000; stroke-linecap:butt; stroke-linejoin:round; stroke-width:2; stroke-opacity:0.1; fill:none\" points=\"\n",
       "  1460,2570.14 1460,47.2441 \n",
       "  \"/>\n",
       "<polyline clip-path=\"url(#clip022)\" style=\"stroke:#000000; stroke-linecap:butt; stroke-linejoin:round; stroke-width:2; stroke-opacity:0.1; fill:none\" points=\"\n",
       "  1824.4,2570.14 1824.4,47.2441 \n",
       "  \"/>\n",
       "<polyline clip-path=\"url(#clip022)\" style=\"stroke:#000000; stroke-linecap:butt; stroke-linejoin:round; stroke-width:2; stroke-opacity:0.1; fill:none\" points=\"\n",
       "  2188.79,2570.14 2188.79,47.2441 \n",
       "  \"/>\n",
       "<polyline clip-path=\"url(#clip022)\" style=\"stroke:#000000; stroke-linecap:butt; stroke-linejoin:round; stroke-width:2; stroke-opacity:0.1; fill:none\" points=\"\n",
       "  2553.19,2570.14 2553.19,47.2441 \n",
       "  \"/>\n",
       "<polyline clip-path=\"url(#clip020)\" style=\"stroke:#000000; stroke-linecap:butt; stroke-linejoin:round; stroke-width:4; stroke-opacity:1; fill:none\" points=\"\n",
       "  247.626,2570.14 2752.76,2570.14 \n",
       "  \"/>\n",
       "<polyline clip-path=\"url(#clip020)\" style=\"stroke:#000000; stroke-linecap:butt; stroke-linejoin:round; stroke-width:4; stroke-opacity:1; fill:none\" points=\"\n",
       "  366.813,2570.14 366.813,2551.24 \n",
       "  \"/>\n",
       "<polyline clip-path=\"url(#clip020)\" style=\"stroke:#000000; stroke-linecap:butt; stroke-linejoin:round; stroke-width:4; stroke-opacity:1; fill:none\" points=\"\n",
       "  731.209,2570.14 731.209,2551.24 \n",
       "  \"/>\n",
       "<polyline clip-path=\"url(#clip020)\" style=\"stroke:#000000; stroke-linecap:butt; stroke-linejoin:round; stroke-width:4; stroke-opacity:1; fill:none\" points=\"\n",
       "  1095.6,2570.14 1095.6,2551.24 \n",
       "  \"/>\n",
       "<polyline clip-path=\"url(#clip020)\" style=\"stroke:#000000; stroke-linecap:butt; stroke-linejoin:round; stroke-width:4; stroke-opacity:1; fill:none\" points=\"\n",
       "  1460,2570.14 1460,2551.24 \n",
       "  \"/>\n",
       "<polyline clip-path=\"url(#clip020)\" style=\"stroke:#000000; stroke-linecap:butt; stroke-linejoin:round; stroke-width:4; stroke-opacity:1; fill:none\" points=\"\n",
       "  1824.4,2570.14 1824.4,2551.24 \n",
       "  \"/>\n",
       "<polyline clip-path=\"url(#clip020)\" style=\"stroke:#000000; stroke-linecap:butt; stroke-linejoin:round; stroke-width:4; stroke-opacity:1; fill:none\" points=\"\n",
       "  2188.79,2570.14 2188.79,2551.24 \n",
       "  \"/>\n",
       "<polyline clip-path=\"url(#clip020)\" style=\"stroke:#000000; stroke-linecap:butt; stroke-linejoin:round; stroke-width:4; stroke-opacity:1; fill:none\" points=\"\n",
       "  2553.19,2570.14 2553.19,2551.24 \n",
       "  \"/>\n",
       "<path clip-path=\"url(#clip020)\" d=\"M344.811 2604.26 Q341.2 2604.26 339.371 2607.82 Q337.565 2611.36 337.565 2618.49 Q337.565 2625.6 339.371 2629.17 Q341.2 2632.71 344.811 2632.71 Q348.445 2632.71 350.25 2629.17 Q352.079 2625.6 352.079 2618.49 Q352.079 2611.36 350.25 2607.82 Q348.445 2604.26 344.811 2604.26 M344.811 2600.55 Q350.621 2600.55 353.676 2605.16 Q356.755 2609.74 356.755 2618.49 Q356.755 2627.22 353.676 2631.83 Q350.621 2636.41 344.811 2636.41 Q339.001 2636.41 335.922 2631.83 Q332.866 2627.22 332.866 2618.49 Q332.866 2609.74 335.922 2605.16 Q339.001 2600.55 344.811 2600.55 Z\" fill=\"#000000\" fill-rule=\"evenodd\" fill-opacity=\"1\" /><path clip-path=\"url(#clip020)\" d=\"M364.973 2629.86 L369.857 2629.86 L369.857 2635.74 L364.973 2635.74 L364.973 2629.86 Z\" fill=\"#000000\" fill-rule=\"evenodd\" fill-opacity=\"1\" /><path clip-path=\"url(#clip020)\" d=\"M380.852 2631.8 L388.491 2631.8 L388.491 2605.44 L380.181 2607.11 L380.181 2602.85 L388.445 2601.18 L393.121 2601.18 L393.121 2631.8 L400.759 2631.8 L400.759 2635.74 L380.852 2635.74 L380.852 2631.8 Z\" fill=\"#000000\" fill-rule=\"evenodd\" fill-opacity=\"1\" /><path clip-path=\"url(#clip020)\" d=\"M709.392 2604.26 Q705.781 2604.26 703.952 2607.82 Q702.147 2611.36 702.147 2618.49 Q702.147 2625.6 703.952 2629.17 Q705.781 2632.71 709.392 2632.71 Q713.026 2632.71 714.832 2629.17 Q716.66 2625.6 716.66 2618.49 Q716.66 2611.36 714.832 2607.82 Q713.026 2604.26 709.392 2604.26 M709.392 2600.55 Q715.202 2600.55 718.258 2605.16 Q721.336 2609.74 721.336 2618.49 Q721.336 2627.22 718.258 2631.83 Q715.202 2636.41 709.392 2636.41 Q703.582 2636.41 700.503 2631.83 Q697.447 2627.22 697.447 2618.49 Q697.447 2609.74 700.503 2605.16 Q703.582 2600.55 709.392 2600.55 Z\" fill=\"#000000\" fill-rule=\"evenodd\" fill-opacity=\"1\" /><path clip-path=\"url(#clip020)\" d=\"M729.554 2629.86 L734.438 2629.86 L734.438 2635.74 L729.554 2635.74 L729.554 2629.86 Z\" fill=\"#000000\" fill-rule=\"evenodd\" fill-opacity=\"1\" /><path clip-path=\"url(#clip020)\" d=\"M748.651 2631.8 L764.97 2631.8 L764.97 2635.74 L743.026 2635.74 L743.026 2631.8 Q745.688 2629.05 750.271 2624.42 Q754.878 2619.77 756.058 2618.43 Q758.304 2615.9 759.183 2614.17 Q760.086 2612.41 760.086 2610.72 Q760.086 2607.96 758.142 2606.23 Q756.22 2604.49 753.118 2604.49 Q750.919 2604.49 748.466 2605.25 Q746.035 2606.02 743.257 2607.57 L743.257 2602.85 Q746.081 2601.71 748.535 2601.13 Q750.989 2600.55 753.026 2600.55 Q758.396 2600.55 761.591 2603.24 Q764.785 2605.93 764.785 2610.42 Q764.785 2612.55 763.975 2614.47 Q763.188 2616.36 761.081 2618.96 Q760.503 2619.63 757.401 2622.85 Q754.299 2626.04 748.651 2631.8 Z\" fill=\"#000000\" fill-rule=\"evenodd\" fill-opacity=\"1\" /><path clip-path=\"url(#clip020)\" d=\"M1073.31 2604.26 Q1069.7 2604.26 1067.87 2607.82 Q1066.07 2611.36 1066.07 2618.49 Q1066.07 2625.6 1067.87 2629.17 Q1069.7 2632.71 1073.31 2632.71 Q1076.95 2632.71 1078.75 2629.17 Q1080.58 2625.6 1080.58 2618.49 Q1080.58 2611.36 1078.75 2607.82 Q1076.95 2604.26 1073.31 2604.26 M1073.31 2600.55 Q1079.12 2600.55 1082.18 2605.16 Q1085.26 2609.74 1085.26 2618.49 Q1085.26 2627.22 1082.18 2631.83 Q1079.12 2636.41 1073.31 2636.41 Q1067.5 2636.41 1064.42 2631.83 Q1061.37 2627.22 1061.37 2618.49 Q1061.37 2609.74 1064.42 2605.16 Q1067.5 2600.55 1073.31 2600.55 Z\" fill=\"#000000\" fill-rule=\"evenodd\" fill-opacity=\"1\" /><path clip-path=\"url(#clip020)\" d=\"M1093.48 2629.86 L1098.36 2629.86 L1098.36 2635.74 L1093.48 2635.74 L1093.48 2629.86 Z\" fill=\"#000000\" fill-rule=\"evenodd\" fill-opacity=\"1\" /><path clip-path=\"url(#clip020)\" d=\"M1122.71 2617.11 Q1126.07 2617.82 1127.94 2620.09 Q1129.84 2622.36 1129.84 2625.69 Q1129.84 2630.81 1126.32 2633.61 Q1122.8 2636.41 1116.32 2636.41 Q1114.15 2636.41 1111.83 2635.97 Q1109.54 2635.55 1107.09 2634.7 L1107.09 2630.18 Q1109.03 2631.32 1111.35 2631.9 Q1113.66 2632.48 1116.18 2632.48 Q1120.58 2632.48 1122.87 2630.74 Q1125.19 2629 1125.19 2625.69 Q1125.19 2622.64 1123.04 2620.93 Q1120.91 2619.19 1117.09 2619.19 L1113.06 2619.19 L1113.06 2615.35 L1117.27 2615.35 Q1120.72 2615.35 1122.55 2613.98 Q1124.38 2612.59 1124.38 2610 Q1124.38 2607.34 1122.48 2605.93 Q1120.6 2604.49 1117.09 2604.49 Q1115.16 2604.49 1112.97 2604.91 Q1110.77 2605.32 1108.13 2606.2 L1108.13 2602.04 Q1110.79 2601.3 1113.1 2600.93 Q1115.44 2600.55 1117.5 2600.55 Q1122.83 2600.55 1125.93 2602.99 Q1129.03 2605.39 1129.03 2609.51 Q1129.03 2612.38 1127.39 2614.37 Q1125.74 2616.34 1122.71 2617.11 Z\" fill=\"#000000\" fill-rule=\"evenodd\" fill-opacity=\"1\" /><path clip-path=\"url(#clip020)\" d=\"M1437.14 2604.26 Q1433.53 2604.26 1431.7 2607.82 Q1429.9 2611.36 1429.9 2618.49 Q1429.9 2625.6 1431.7 2629.17 Q1433.53 2632.71 1437.14 2632.71 Q1440.78 2632.71 1442.58 2629.17 Q1444.41 2625.6 1444.41 2618.49 Q1444.41 2611.36 1442.58 2607.82 Q1440.78 2604.26 1437.14 2604.26 M1437.14 2600.55 Q1442.95 2600.55 1446.01 2605.16 Q1449.09 2609.74 1449.09 2618.49 Q1449.09 2627.22 1446.01 2631.83 Q1442.95 2636.41 1437.14 2636.41 Q1431.33 2636.41 1428.25 2631.83 Q1425.2 2627.22 1425.2 2618.49 Q1425.2 2609.74 1428.25 2605.16 Q1431.33 2600.55 1437.14 2600.55 Z\" fill=\"#000000\" fill-rule=\"evenodd\" fill-opacity=\"1\" /><path clip-path=\"url(#clip020)\" d=\"M1457.3 2629.86 L1462.19 2629.86 L1462.19 2635.74 L1457.3 2635.74 L1457.3 2629.86 Z\" fill=\"#000000\" fill-rule=\"evenodd\" fill-opacity=\"1\" /><path clip-path=\"url(#clip020)\" d=\"M1485.22 2605.25 L1473.42 2623.7 L1485.22 2623.7 L1485.22 2605.25 M1483.99 2601.18 L1489.87 2601.18 L1489.87 2623.7 L1494.8 2623.7 L1494.8 2627.59 L1489.87 2627.59 L1489.87 2635.74 L1485.22 2635.74 L1485.22 2627.59 L1469.62 2627.59 L1469.62 2623.08 L1483.99 2601.18 Z\" fill=\"#000000\" fill-rule=\"evenodd\" fill-opacity=\"1\" /><path clip-path=\"url(#clip020)\" d=\"M1802.28 2604.26 Q1798.67 2604.26 1796.84 2607.82 Q1795.03 2611.36 1795.03 2618.49 Q1795.03 2625.6 1796.84 2629.17 Q1798.67 2632.71 1802.28 2632.71 Q1805.91 2632.71 1807.72 2629.17 Q1809.55 2625.6 1809.55 2618.49 Q1809.55 2611.36 1807.72 2607.82 Q1805.91 2604.26 1802.28 2604.26 M1802.28 2600.55 Q1808.09 2600.55 1811.14 2605.16 Q1814.22 2609.74 1814.22 2618.49 Q1814.22 2627.22 1811.14 2631.83 Q1808.09 2636.41 1802.28 2636.41 Q1796.47 2636.41 1793.39 2631.83 Q1790.33 2627.22 1790.33 2618.49 Q1790.33 2609.74 1793.39 2605.16 Q1796.47 2600.55 1802.28 2600.55 Z\" fill=\"#000000\" fill-rule=\"evenodd\" fill-opacity=\"1\" /><path clip-path=\"url(#clip020)\" d=\"M1822.44 2629.86 L1827.33 2629.86 L1827.33 2635.74 L1822.44 2635.74 L1822.44 2629.86 Z\" fill=\"#000000\" fill-rule=\"evenodd\" fill-opacity=\"1\" /><path clip-path=\"url(#clip020)\" d=\"M1837.56 2601.18 L1855.91 2601.18 L1855.91 2605.12 L1841.84 2605.12 L1841.84 2613.59 Q1842.86 2613.24 1843.88 2613.08 Q1844.89 2612.89 1845.91 2612.89 Q1851.7 2612.89 1855.08 2616.06 Q1858.46 2619.24 1858.46 2624.65 Q1858.46 2630.23 1854.99 2633.33 Q1851.51 2636.41 1845.2 2636.41 Q1843.02 2636.41 1840.75 2636.04 Q1838.51 2635.67 1836.1 2634.93 L1836.1 2630.23 Q1838.18 2631.36 1840.4 2631.92 Q1842.63 2632.48 1845.1 2632.48 Q1849.11 2632.48 1851.45 2630.37 Q1853.78 2628.26 1853.78 2624.65 Q1853.78 2621.04 1851.45 2618.93 Q1849.11 2616.83 1845.1 2616.83 Q1843.23 2616.83 1841.35 2617.24 Q1839.5 2617.66 1837.56 2618.54 L1837.56 2601.18 Z\" fill=\"#000000\" fill-rule=\"evenodd\" fill-opacity=\"1\" /><path clip-path=\"url(#clip020)\" d=\"M2166.1 2604.26 Q2162.49 2604.26 2160.66 2607.82 Q2158.85 2611.36 2158.85 2618.49 Q2158.85 2625.6 2160.66 2629.17 Q2162.49 2632.71 2166.1 2632.71 Q2169.73 2632.71 2171.54 2629.17 Q2173.36 2625.6 2173.36 2618.49 Q2173.36 2611.36 2171.54 2607.82 Q2169.73 2604.26 2166.1 2604.26 M2166.1 2600.55 Q2171.91 2600.55 2174.96 2605.16 Q2178.04 2609.74 2178.04 2618.49 Q2178.04 2627.22 2174.96 2631.83 Q2171.91 2636.41 2166.1 2636.41 Q2160.29 2636.41 2157.21 2631.83 Q2154.15 2627.22 2154.15 2618.49 Q2154.15 2609.74 2157.21 2605.16 Q2160.29 2600.55 2166.1 2600.55 Z\" fill=\"#000000\" fill-rule=\"evenodd\" fill-opacity=\"1\" /><path clip-path=\"url(#clip020)\" d=\"M2186.26 2629.86 L2191.14 2629.86 L2191.14 2635.74 L2186.26 2635.74 L2186.26 2629.86 Z\" fill=\"#000000\" fill-rule=\"evenodd\" fill-opacity=\"1\" /><path clip-path=\"url(#clip020)\" d=\"M2211.91 2616.6 Q2208.76 2616.6 2206.91 2618.75 Q2205.08 2620.9 2205.08 2624.65 Q2205.08 2628.38 2206.91 2630.55 Q2208.76 2632.71 2211.91 2632.71 Q2215.05 2632.71 2216.88 2630.55 Q2218.73 2628.38 2218.73 2624.65 Q2218.73 2620.9 2216.88 2618.75 Q2215.05 2616.6 2211.91 2616.6 M2221.19 2601.94 L2221.19 2606.2 Q2219.43 2605.37 2217.62 2604.93 Q2215.84 2604.49 2214.08 2604.49 Q2209.45 2604.49 2207 2607.61 Q2204.57 2610.74 2204.22 2617.06 Q2205.59 2615.05 2207.65 2613.98 Q2209.71 2612.89 2212.18 2612.89 Q2217.39 2612.89 2220.4 2616.06 Q2223.43 2619.21 2223.43 2624.65 Q2223.43 2629.98 2220.29 2633.19 Q2217.14 2636.41 2211.91 2636.41 Q2205.91 2636.41 2202.74 2631.83 Q2199.57 2627.22 2199.57 2618.49 Q2199.57 2610.3 2203.46 2605.44 Q2207.35 2600.55 2213.9 2600.55 Q2215.66 2600.55 2217.44 2600.9 Q2219.24 2601.25 2221.19 2601.94 Z\" fill=\"#000000\" fill-rule=\"evenodd\" fill-opacity=\"1\" /><path clip-path=\"url(#clip020)\" d=\"M2531.02 2604.26 Q2527.41 2604.26 2525.58 2607.82 Q2523.78 2611.36 2523.78 2618.49 Q2523.78 2625.6 2525.58 2629.17 Q2527.41 2632.71 2531.02 2632.71 Q2534.66 2632.71 2536.46 2629.17 Q2538.29 2625.6 2538.29 2618.49 Q2538.29 2611.36 2536.46 2607.82 Q2534.66 2604.26 2531.02 2604.26 M2531.02 2600.55 Q2536.83 2600.55 2539.89 2605.16 Q2542.97 2609.74 2542.97 2618.49 Q2542.97 2627.22 2539.89 2631.83 Q2536.83 2636.41 2531.02 2636.41 Q2525.21 2636.41 2522.14 2631.83 Q2519.08 2627.22 2519.08 2618.49 Q2519.08 2609.74 2522.14 2605.16 Q2525.21 2600.55 2531.02 2600.55 Z\" fill=\"#000000\" fill-rule=\"evenodd\" fill-opacity=\"1\" /><path clip-path=\"url(#clip020)\" d=\"M2551.19 2629.86 L2556.07 2629.86 L2556.07 2635.74 L2551.19 2635.74 L2551.19 2629.86 Z\" fill=\"#000000\" fill-rule=\"evenodd\" fill-opacity=\"1\" /><path clip-path=\"url(#clip020)\" d=\"M2565.08 2601.18 L2587.3 2601.18 L2587.3 2603.17 L2574.75 2635.74 L2569.87 2635.74 L2581.67 2605.12 L2565.08 2605.12 L2565.08 2601.18 Z\" fill=\"#000000\" fill-rule=\"evenodd\" fill-opacity=\"1\" /><path clip-path=\"url(#clip020)\" d=\"M1511.54 2671.48 L1511.54 2676.35 L1505.94 2676.35 Q1502.79 2676.35 1501.54 2677.62 Q1500.33 2678.89 1500.33 2682.2 L1500.33 2685.36 L1509.98 2685.36 L1509.98 2689.91 L1500.33 2689.91 L1500.33 2721 L1494.45 2721 L1494.45 2689.91 L1488.84 2689.91 L1488.84 2685.36 L1494.45 2685.36 L1494.45 2682.87 Q1494.45 2676.92 1497.22 2674.22 Q1499.98 2671.48 1506 2671.48 L1511.54 2671.48 Z\" fill=\"#000000\" fill-rule=\"evenodd\" fill-opacity=\"1\" /><polyline clip-path=\"url(#clip022)\" style=\"stroke:#000000; stroke-linecap:butt; stroke-linejoin:round; stroke-width:2; stroke-opacity:0.1; fill:none\" points=\"\n",
       "  247.626,2140.35 2752.76,2140.35 \n",
       "  \"/>\n",
       "<polyline clip-path=\"url(#clip022)\" style=\"stroke:#000000; stroke-linecap:butt; stroke-linejoin:round; stroke-width:2; stroke-opacity:0.1; fill:none\" points=\"\n",
       "  247.626,1631.75 2752.76,1631.75 \n",
       "  \"/>\n",
       "<polyline clip-path=\"url(#clip022)\" style=\"stroke:#000000; stroke-linecap:butt; stroke-linejoin:round; stroke-width:2; stroke-opacity:0.1; fill:none\" points=\"\n",
       "  247.626,1123.16 2752.76,1123.16 \n",
       "  \"/>\n",
       "<polyline clip-path=\"url(#clip022)\" style=\"stroke:#000000; stroke-linecap:butt; stroke-linejoin:round; stroke-width:2; stroke-opacity:0.1; fill:none\" points=\"\n",
       "  247.626,614.557 2752.76,614.557 \n",
       "  \"/>\n",
       "<polyline clip-path=\"url(#clip022)\" style=\"stroke:#000000; stroke-linecap:butt; stroke-linejoin:round; stroke-width:2; stroke-opacity:0.1; fill:none\" points=\"\n",
       "  247.626,105.958 2752.76,105.958 \n",
       "  \"/>\n",
       "<polyline clip-path=\"url(#clip020)\" style=\"stroke:#000000; stroke-linecap:butt; stroke-linejoin:round; stroke-width:4; stroke-opacity:1; fill:none\" points=\"\n",
       "  247.626,2570.14 247.626,47.2441 \n",
       "  \"/>\n",
       "<polyline clip-path=\"url(#clip020)\" style=\"stroke:#000000; stroke-linecap:butt; stroke-linejoin:round; stroke-width:4; stroke-opacity:1; fill:none\" points=\"\n",
       "  247.626,2140.35 266.524,2140.35 \n",
       "  \"/>\n",
       "<polyline clip-path=\"url(#clip020)\" style=\"stroke:#000000; stroke-linecap:butt; stroke-linejoin:round; stroke-width:4; stroke-opacity:1; fill:none\" points=\"\n",
       "  247.626,1631.75 266.524,1631.75 \n",
       "  \"/>\n",
       "<polyline clip-path=\"url(#clip020)\" style=\"stroke:#000000; stroke-linecap:butt; stroke-linejoin:round; stroke-width:4; stroke-opacity:1; fill:none\" points=\"\n",
       "  247.626,1123.16 266.524,1123.16 \n",
       "  \"/>\n",
       "<polyline clip-path=\"url(#clip020)\" style=\"stroke:#000000; stroke-linecap:butt; stroke-linejoin:round; stroke-width:4; stroke-opacity:1; fill:none\" points=\"\n",
       "  247.626,614.557 266.524,614.557 \n",
       "  \"/>\n",
       "<polyline clip-path=\"url(#clip020)\" style=\"stroke:#000000; stroke-linecap:butt; stroke-linejoin:round; stroke-width:4; stroke-opacity:1; fill:none\" points=\"\n",
       "  247.626,105.958 266.524,105.958 \n",
       "  \"/>\n",
       "<path clip-path=\"url(#clip020)\" d=\"M150.048 2126.15 Q146.437 2126.15 144.608 2129.72 Q142.803 2133.26 142.803 2140.39 Q142.803 2147.49 144.608 2151.06 Q146.437 2154.6 150.048 2154.6 Q153.682 2154.6 155.488 2151.06 Q157.316 2147.49 157.316 2140.39 Q157.316 2133.26 155.488 2129.72 Q153.682 2126.15 150.048 2126.15 M150.048 2122.45 Q155.858 2122.45 158.914 2127.05 Q161.992 2131.64 161.992 2140.39 Q161.992 2149.11 158.914 2153.72 Q155.858 2158.3 150.048 2158.3 Q144.238 2158.3 141.159 2153.72 Q138.103 2149.11 138.103 2140.39 Q138.103 2131.64 141.159 2127.05 Q144.238 2122.45 150.048 2122.45 Z\" fill=\"#000000\" fill-rule=\"evenodd\" fill-opacity=\"1\" /><path clip-path=\"url(#clip020)\" d=\"M170.21 2151.75 L175.094 2151.75 L175.094 2157.63 L170.21 2157.63 L170.21 2151.75 Z\" fill=\"#000000\" fill-rule=\"evenodd\" fill-opacity=\"1\" /><path clip-path=\"url(#clip020)\" d=\"M189.307 2153.7 L205.626 2153.7 L205.626 2157.63 L183.682 2157.63 L183.682 2153.7 Q186.344 2150.94 190.927 2146.31 Q195.534 2141.66 196.714 2140.32 Q198.96 2137.79 199.839 2136.06 Q200.742 2134.3 200.742 2132.61 Q200.742 2129.85 198.798 2128.12 Q196.876 2126.38 193.774 2126.38 Q191.575 2126.38 189.122 2127.15 Q186.691 2127.91 183.913 2129.46 L183.913 2124.74 Q186.737 2123.6 189.191 2123.03 Q191.645 2122.45 193.682 2122.45 Q199.052 2122.45 202.247 2125.13 Q205.441 2127.82 205.441 2132.31 Q205.441 2134.44 204.631 2136.36 Q203.844 2138.26 201.737 2140.85 Q201.159 2141.52 198.057 2144.74 Q194.955 2147.93 189.307 2153.7 Z\" fill=\"#000000\" fill-rule=\"evenodd\" fill-opacity=\"1\" /><path clip-path=\"url(#clip020)\" d=\"M147.965 1617.55 Q144.353 1617.55 142.525 1621.12 Q140.719 1624.66 140.719 1631.79 Q140.719 1638.89 142.525 1642.46 Q144.353 1646 147.965 1646 Q151.599 1646 153.404 1642.46 Q155.233 1638.89 155.233 1631.79 Q155.233 1624.66 153.404 1621.12 Q151.599 1617.55 147.965 1617.55 M147.965 1613.85 Q153.775 1613.85 156.83 1618.46 Q159.909 1623.04 159.909 1631.79 Q159.909 1640.52 156.83 1645.12 Q153.775 1649.71 147.965 1649.71 Q142.154 1649.71 139.076 1645.12 Q136.02 1640.52 136.02 1631.79 Q136.02 1623.04 139.076 1618.46 Q142.154 1613.85 147.965 1613.85 Z\" fill=\"#000000\" fill-rule=\"evenodd\" fill-opacity=\"1\" /><path clip-path=\"url(#clip020)\" d=\"M168.126 1643.15 L173.011 1643.15 L173.011 1649.03 L168.126 1649.03 L168.126 1643.15 Z\" fill=\"#000000\" fill-rule=\"evenodd\" fill-opacity=\"1\" /><path clip-path=\"url(#clip020)\" d=\"M196.043 1618.55 L184.237 1637 L196.043 1637 L196.043 1618.55 M194.816 1614.47 L200.696 1614.47 L200.696 1637 L205.626 1637 L205.626 1640.89 L200.696 1640.89 L200.696 1649.03 L196.043 1649.03 L196.043 1640.89 L180.441 1640.89 L180.441 1636.37 L194.816 1614.47 Z\" fill=\"#000000\" fill-rule=\"evenodd\" fill-opacity=\"1\" /><path clip-path=\"url(#clip020)\" d=\"M148.289 1108.95 Q144.678 1108.95 142.849 1112.52 Q141.043 1116.06 141.043 1123.19 Q141.043 1130.3 142.849 1133.86 Q144.678 1137.4 148.289 1137.4 Q151.923 1137.4 153.728 1133.86 Q155.557 1130.3 155.557 1123.19 Q155.557 1116.06 153.728 1112.52 Q151.923 1108.95 148.289 1108.95 M148.289 1105.25 Q154.099 1105.25 157.154 1109.86 Q160.233 1114.44 160.233 1123.19 Q160.233 1131.92 157.154 1136.52 Q154.099 1141.11 148.289 1141.11 Q142.478 1141.11 139.4 1136.52 Q136.344 1131.92 136.344 1123.19 Q136.344 1114.44 139.4 1109.86 Q142.478 1105.25 148.289 1105.25 Z\" fill=\"#000000\" fill-rule=\"evenodd\" fill-opacity=\"1\" /><path clip-path=\"url(#clip020)\" d=\"M168.451 1134.56 L173.335 1134.56 L173.335 1140.44 L168.451 1140.44 L168.451 1134.56 Z\" fill=\"#000000\" fill-rule=\"evenodd\" fill-opacity=\"1\" /><path clip-path=\"url(#clip020)\" d=\"M194.099 1121.29 Q190.95 1121.29 189.099 1123.44 Q187.27 1125.6 187.27 1129.35 Q187.27 1133.07 189.099 1135.25 Q190.95 1137.4 194.099 1137.4 Q197.247 1137.4 199.075 1135.25 Q200.927 1133.07 200.927 1129.35 Q200.927 1125.6 199.075 1123.44 Q197.247 1121.29 194.099 1121.29 M203.381 1106.64 L203.381 1110.9 Q201.622 1110.06 199.816 1109.63 Q198.034 1109.19 196.274 1109.19 Q191.645 1109.19 189.191 1112.31 Q186.761 1115.44 186.413 1121.75 Q187.779 1119.74 189.839 1118.68 Q191.899 1117.59 194.376 1117.59 Q199.585 1117.59 202.594 1120.76 Q205.626 1123.91 205.626 1129.35 Q205.626 1134.67 202.478 1137.89 Q199.33 1141.11 194.099 1141.11 Q188.103 1141.11 184.932 1136.52 Q181.761 1131.92 181.761 1123.19 Q181.761 1115 185.65 1110.13 Q189.538 1105.25 196.089 1105.25 Q197.849 1105.25 199.631 1105.6 Q201.436 1105.94 203.381 1106.64 Z\" fill=\"#000000\" fill-rule=\"evenodd\" fill-opacity=\"1\" /><path clip-path=\"url(#clip020)\" d=\"M148.543 600.355 Q144.932 600.355 143.103 603.92 Q141.298 607.462 141.298 614.591 Q141.298 621.698 143.103 625.263 Q144.932 628.804 148.543 628.804 Q152.177 628.804 153.983 625.263 Q155.812 621.698 155.812 614.591 Q155.812 607.462 153.983 603.92 Q152.177 600.355 148.543 600.355 M148.543 596.652 Q154.353 596.652 157.409 601.258 Q160.488 605.841 160.488 614.591 Q160.488 623.318 157.409 627.925 Q154.353 632.508 148.543 632.508 Q142.733 632.508 139.654 627.925 Q136.599 623.318 136.599 614.591 Q136.599 605.841 139.654 601.258 Q142.733 596.652 148.543 596.652 Z\" fill=\"#000000\" fill-rule=\"evenodd\" fill-opacity=\"1\" /><path clip-path=\"url(#clip020)\" d=\"M168.705 625.957 L173.589 625.957 L173.589 631.837 L168.705 631.837 L168.705 625.957 Z\" fill=\"#000000\" fill-rule=\"evenodd\" fill-opacity=\"1\" /><path clip-path=\"url(#clip020)\" d=\"M193.774 615.425 Q190.441 615.425 188.52 617.207 Q186.622 618.989 186.622 622.114 Q186.622 625.239 188.52 627.022 Q190.441 628.804 193.774 628.804 Q197.108 628.804 199.029 627.022 Q200.95 625.216 200.95 622.114 Q200.95 618.989 199.029 617.207 Q197.131 615.425 193.774 615.425 M189.099 613.434 Q186.089 612.693 184.4 610.633 Q182.733 608.573 182.733 605.61 Q182.733 601.466 185.673 599.059 Q188.636 596.652 193.774 596.652 Q198.936 596.652 201.876 599.059 Q204.816 601.466 204.816 605.61 Q204.816 608.573 203.126 610.633 Q201.46 612.693 198.474 613.434 Q201.853 614.221 203.728 616.513 Q205.626 618.804 205.626 622.114 Q205.626 627.138 202.548 629.823 Q199.492 632.508 193.774 632.508 Q188.057 632.508 184.978 629.823 Q181.923 627.138 181.923 622.114 Q181.923 618.804 183.821 616.513 Q185.719 614.221 189.099 613.434 M187.386 606.05 Q187.386 608.735 189.052 610.24 Q190.742 611.744 193.774 611.744 Q196.784 611.744 198.474 610.24 Q200.186 608.735 200.186 606.05 Q200.186 603.365 198.474 601.86 Q196.784 600.355 193.774 600.355 Q190.742 600.355 189.052 601.86 Q187.386 603.365 187.386 606.05 Z\" fill=\"#000000\" fill-rule=\"evenodd\" fill-opacity=\"1\" /><path clip-path=\"url(#clip020)\" d=\"M139.261 119.303 L146.9 119.303 L146.9 92.9373 L138.59 94.604 L138.59 90.3448 L146.853 88.6781 L151.529 88.6781 L151.529 119.303 L159.168 119.303 L159.168 123.238 L139.261 123.238 L139.261 119.303 Z\" fill=\"#000000\" fill-rule=\"evenodd\" fill-opacity=\"1\" /><path clip-path=\"url(#clip020)\" d=\"M168.613 117.358 L173.497 117.358 L173.497 123.238 L168.613 123.238 L168.613 117.358 Z\" fill=\"#000000\" fill-rule=\"evenodd\" fill-opacity=\"1\" /><path clip-path=\"url(#clip020)\" d=\"M193.682 91.7568 Q190.071 91.7568 188.242 95.3216 Q186.437 98.8632 186.437 105.993 Q186.437 113.099 188.242 116.664 Q190.071 120.206 193.682 120.206 Q197.316 120.206 199.122 116.664 Q200.95 113.099 200.95 105.993 Q200.95 98.8632 199.122 95.3216 Q197.316 91.7568 193.682 91.7568 M193.682 88.0531 Q199.492 88.0531 202.548 92.6596 Q205.626 97.2429 205.626 105.993 Q205.626 114.72 202.548 119.326 Q199.492 123.909 193.682 123.909 Q187.872 123.909 184.793 119.326 Q181.738 114.72 181.738 105.993 Q181.738 97.2429 184.793 92.6596 Q187.872 88.0531 193.682 88.0531 Z\" fill=\"#000000\" fill-rule=\"evenodd\" fill-opacity=\"1\" /><path clip-path=\"url(#clip020)\" d=\"M33.9947 1309.63 L44.1162 1309.63 L44.1162 1297.57 L48.6677 1297.57 L48.6677 1309.63 L68.0194 1309.63 Q72.3799 1309.63 73.6213 1308.45 Q74.8626 1307.24 74.8626 1303.58 L74.8626 1297.57 L79.7642 1297.57 L79.7642 1303.58 Q79.7642 1310.36 77.2497 1312.94 Q74.7034 1315.52 68.0194 1315.52 L48.6677 1315.52 L48.6677 1319.82 L44.1162 1319.82 L44.1162 1315.52 L33.9947 1315.52 L33.9947 1309.63 Z\" fill=\"#000000\" fill-rule=\"evenodd\" fill-opacity=\"1\" /><circle clip-path=\"url(#clip022)\" cx=\"2415.08\" cy=\"2498.74\" r=\"39\" fill=\"#2f4f4f\" fill-rule=\"evenodd\" fill-opacity=\"1\" stroke=\"#000000\" stroke-opacity=\"1\" stroke-width=\"0\"/>\n",
       "<circle clip-path=\"url(#clip022)\" cx=\"2441.82\" cy=\"2171.61\" r=\"39\" fill=\"#2f4f4f\" fill-rule=\"evenodd\" fill-opacity=\"1\" stroke=\"#000000\" stroke-opacity=\"1\" stroke-width=\"0\"/>\n",
       "<circle clip-path=\"url(#clip022)\" cx=\"2662.46\" cy=\"1959.37\" r=\"39\" fill=\"#2f4f4f\" fill-rule=\"evenodd\" fill-opacity=\"1\" stroke=\"#000000\" stroke-opacity=\"1\" stroke-width=\"0\"/>\n",
       "<circle clip-path=\"url(#clip022)\" cx=\"2479.54\" cy=\"1923.67\" r=\"39\" fill=\"#2f4f4f\" fill-rule=\"evenodd\" fill-opacity=\"1\" stroke=\"#000000\" stroke-opacity=\"1\" stroke-width=\"0\"/>\n",
       "<circle clip-path=\"url(#clip022)\" cx=\"2681.86\" cy=\"1899.25\" r=\"39\" fill=\"#2f4f4f\" fill-rule=\"evenodd\" fill-opacity=\"1\" stroke=\"#000000\" stroke-opacity=\"1\" stroke-width=\"0\"/>\n",
       "<circle clip-path=\"url(#clip022)\" cx=\"2360.53\" cy=\"1796.88\" r=\"39\" fill=\"#2f4f4f\" fill-rule=\"evenodd\" fill-opacity=\"1\" stroke=\"#000000\" stroke-opacity=\"1\" stroke-width=\"0\"/>\n",
       "<circle clip-path=\"url(#clip022)\" cx=\"1907.69\" cy=\"1769.79\" r=\"39\" fill=\"#2f4f4f\" fill-rule=\"evenodd\" fill-opacity=\"1\" stroke=\"#000000\" stroke-opacity=\"1\" stroke-width=\"0\"/>\n",
       "<circle clip-path=\"url(#clip022)\" cx=\"1082.7\" cy=\"1132.47\" r=\"39\" fill=\"#2f4f4f\" fill-rule=\"evenodd\" fill-opacity=\"1\" stroke=\"#000000\" stroke-opacity=\"1\" stroke-width=\"0\"/>\n",
       "<circle clip-path=\"url(#clip022)\" cx=\"909.732\" cy=\"980.973\" r=\"39\" fill=\"#2f4f4f\" fill-rule=\"evenodd\" fill-opacity=\"1\" stroke=\"#000000\" stroke-opacity=\"1\" stroke-width=\"0\"/>\n",
       "<circle clip-path=\"url(#clip022)\" cx=\"960.046\" cy=\"776.01\" r=\"39\" fill=\"#2f4f4f\" fill-rule=\"evenodd\" fill-opacity=\"1\" stroke=\"#000000\" stroke-opacity=\"1\" stroke-width=\"0\"/>\n",
       "<circle clip-path=\"url(#clip022)\" cx=\"1487.79\" cy=\"741.961\" r=\"39\" fill=\"#2f4f4f\" fill-rule=\"evenodd\" fill-opacity=\"1\" stroke=\"#000000\" stroke-opacity=\"1\" stroke-width=\"0\"/>\n",
       "<circle clip-path=\"url(#clip022)\" cx=\"1038.94\" cy=\"737.883\" r=\"39\" fill=\"#2f4f4f\" fill-rule=\"evenodd\" fill-opacity=\"1\" stroke=\"#000000\" stroke-opacity=\"1\" stroke-width=\"0\"/>\n",
       "<circle clip-path=\"url(#clip022)\" cx=\"1188.12\" cy=\"599.482\" r=\"39\" fill=\"#2f4f4f\" fill-rule=\"evenodd\" fill-opacity=\"1\" stroke=\"#000000\" stroke-opacity=\"1\" stroke-width=\"0\"/>\n",
       "<circle clip-path=\"url(#clip022)\" cx=\"1025.99\" cy=\"544.626\" r=\"39\" fill=\"#2f4f4f\" fill-rule=\"evenodd\" fill-opacity=\"1\" stroke=\"#000000\" stroke-opacity=\"1\" stroke-width=\"0\"/>\n",
       "<circle clip-path=\"url(#clip022)\" cx=\"836.922\" cy=\"459.59\" r=\"39\" fill=\"#2f4f4f\" fill-rule=\"evenodd\" fill-opacity=\"1\" stroke=\"#000000\" stroke-opacity=\"1\" stroke-width=\"0\"/>\n",
       "<circle clip-path=\"url(#clip022)\" cx=\"871.194\" cy=\"406.682\" r=\"39\" fill=\"#2f4f4f\" fill-rule=\"evenodd\" fill-opacity=\"1\" stroke=\"#000000\" stroke-opacity=\"1\" stroke-width=\"0\"/>\n",
       "<circle clip-path=\"url(#clip022)\" cx=\"318.526\" cy=\"265.678\" r=\"39\" fill=\"#2f4f4f\" fill-rule=\"evenodd\" fill-opacity=\"1\" stroke=\"#000000\" stroke-opacity=\"1\" stroke-width=\"0\"/>\n",
       "<circle clip-path=\"url(#clip022)\" cx=\"1898.92\" cy=\"908.852\" r=\"39\" fill=\"#ff4500\" fill-rule=\"evenodd\" fill-opacity=\"1\" stroke=\"#000000\" stroke-opacity=\"1\" stroke-width=\"0\"/>\n",
       "<circle clip-path=\"url(#clip022)\" cx=\"1614.45\" cy=\"761.556\" r=\"39\" fill=\"#ff4500\" fill-rule=\"evenodd\" fill-opacity=\"1\" stroke=\"#000000\" stroke-opacity=\"1\" stroke-width=\"0\"/>\n",
       "<circle clip-path=\"url(#clip022)\" cx=\"1036.25\" cy=\"118.647\" r=\"39\" fill=\"#ff4500\" fill-rule=\"evenodd\" fill-opacity=\"1\" stroke=\"#000000\" stroke-opacity=\"1\" stroke-width=\"0\"/>\n",
       "<path clip-path=\"url(#clip020)\" d=\"\n",
       "M1978.85 235.021 L2669.25 235.021 L2669.25 131.341 L1978.85 131.341  Z\n",
       "  \" fill=\"#ffffff\" fill-rule=\"evenodd\" fill-opacity=\"1\"/>\n",
       "<polyline clip-path=\"url(#clip020)\" style=\"stroke:#000000; stroke-linecap:butt; stroke-linejoin:round; stroke-width:4; stroke-opacity:1; fill:none\" points=\"\n",
       "  1978.85,235.021 2669.25,235.021 2669.25,131.341 1978.85,131.341 1978.85,235.021 \n",
       "  \"/>\n",
       "<circle clip-path=\"url(#clip020)\" cx=\"2090.18\" cy=\"183.181\" r=\"23\" fill=\"#ff4500\" fill-rule=\"evenodd\" fill-opacity=\"1\" stroke=\"#000000\" stroke-opacity=\"1\" stroke-width=\"0\"/>\n",
       "<path clip-path=\"url(#clip020)\" d=\"M2214.93 187.428 Q2209.76 187.428 2207.77 188.609 Q2205.78 189.789 2205.78 192.637 Q2205.78 194.905 2207.26 196.248 Q2208.77 197.567 2211.34 197.567 Q2214.88 197.567 2217.01 195.067 Q2219.16 192.544 2219.16 188.377 L2219.16 187.428 L2214.93 187.428 M2223.42 185.669 L2223.42 200.461 L2219.16 200.461 L2219.16 196.525 Q2217.7 198.887 2215.53 200.021 Q2213.35 201.132 2210.2 201.132 Q2206.22 201.132 2203.86 198.91 Q2201.52 196.664 2201.52 192.914 Q2201.52 188.539 2204.44 186.317 Q2207.38 184.095 2213.19 184.095 L2219.16 184.095 L2219.16 183.678 Q2219.16 180.739 2217.22 179.141 Q2215.3 177.521 2211.8 177.521 Q2209.58 177.521 2207.47 178.053 Q2205.37 178.586 2203.42 179.651 L2203.42 175.715 Q2205.76 174.813 2207.96 174.373 Q2210.16 173.91 2212.24 173.91 Q2217.87 173.91 2220.64 176.826 Q2223.42 179.743 2223.42 185.669 Z\" fill=\"#000000\" fill-rule=\"evenodd\" fill-opacity=\"1\" /><path clip-path=\"url(#clip020)\" d=\"M2236.32 196.572 L2236.32 210.322 L2232.03 210.322 L2232.03 174.535 L2236.32 174.535 L2236.32 178.47 Q2237.66 176.155 2239.7 175.044 Q2241.76 173.91 2244.6 173.91 Q2249.32 173.91 2252.26 177.66 Q2255.23 181.41 2255.23 187.521 Q2255.23 193.632 2252.26 197.382 Q2249.32 201.132 2244.6 201.132 Q2241.76 201.132 2239.7 200.021 Q2237.66 198.887 2236.32 196.572 M2250.81 187.521 Q2250.81 182.822 2248.86 180.16 Q2246.94 177.475 2243.56 177.475 Q2240.18 177.475 2238.24 180.16 Q2236.32 182.822 2236.32 187.521 Q2236.32 192.22 2238.24 194.905 Q2240.18 197.567 2243.56 197.567 Q2246.94 197.567 2248.86 194.905 Q2250.81 192.22 2250.81 187.521 Z\" fill=\"#000000\" fill-rule=\"evenodd\" fill-opacity=\"1\" /><path clip-path=\"url(#clip020)\" d=\"M2266.41 196.572 L2266.41 210.322 L2262.13 210.322 L2262.13 174.535 L2266.41 174.535 L2266.41 178.47 Q2267.75 176.155 2269.79 175.044 Q2271.85 173.91 2274.69 173.91 Q2279.42 173.91 2282.36 177.66 Q2285.32 181.41 2285.32 187.521 Q2285.32 193.632 2282.36 197.382 Q2279.42 201.132 2274.69 201.132 Q2271.85 201.132 2269.79 200.021 Q2267.75 198.887 2266.41 196.572 M2280.9 187.521 Q2280.9 182.822 2278.95 180.16 Q2277.03 177.475 2273.65 177.475 Q2270.27 177.475 2268.33 180.16 Q2266.41 182.822 2266.41 187.521 Q2266.41 192.22 2268.33 194.905 Q2270.27 197.567 2273.65 197.567 Q2277.03 197.567 2278.95 194.905 Q2280.9 192.22 2280.9 187.521 Z\" fill=\"#000000\" fill-rule=\"evenodd\" fill-opacity=\"1\" /><path clip-path=\"url(#clip020)\" d=\"M2292.38 164.442 L2296.64 164.442 L2296.64 200.461 L2292.38 200.461 L2292.38 164.442 Z\" fill=\"#000000\" fill-rule=\"evenodd\" fill-opacity=\"1\" /><path clip-path=\"url(#clip020)\" d=\"M2316.34 202.868 Q2314.53 207.498 2312.82 208.91 Q2311.11 210.322 2308.24 210.322 L2304.83 210.322 L2304.83 206.757 L2307.33 206.757 Q2309.09 206.757 2310.07 205.924 Q2311.04 205.09 2312.22 201.988 L2312.98 200.044 L2302.5 174.535 L2307.01 174.535 L2315.11 194.813 L2323.21 174.535 L2327.73 174.535 L2316.34 202.868 Z\" fill=\"#000000\" fill-rule=\"evenodd\" fill-opacity=\"1\" /><path clip-path=\"url(#clip020)\" d=\"M2346.2 174.535 L2350.46 174.535 L2355.78 194.766 L2361.08 174.535 L2366.11 174.535 L2371.43 194.766 L2376.73 174.535 L2380.99 174.535 L2374.21 200.461 L2369.19 200.461 L2363.61 179.211 L2358 200.461 L2352.98 200.461 L2346.2 174.535 Z\" fill=\"#000000\" fill-rule=\"evenodd\" fill-opacity=\"1\" /><path clip-path=\"url(#clip020)\" d=\"M2409 184.813 L2409 200.461 L2404.74 200.461 L2404.74 184.951 Q2404.74 181.271 2403.31 179.442 Q2401.87 177.614 2399 177.614 Q2395.55 177.614 2393.56 179.813 Q2391.57 182.012 2391.57 185.808 L2391.57 200.461 L2387.29 200.461 L2387.29 164.442 L2391.57 164.442 L2391.57 178.563 Q2393.1 176.225 2395.16 175.067 Q2397.24 173.91 2399.95 173.91 Q2404.42 173.91 2406.71 176.688 Q2409 179.442 2409 184.813 Z\" fill=\"#000000\" fill-rule=\"evenodd\" fill-opacity=\"1\" /><path clip-path=\"url(#clip020)\" d=\"M2439.67 186.433 L2439.67 188.516 L2420.09 188.516 Q2420.37 192.914 2422.73 195.229 Q2425.11 197.521 2429.35 197.521 Q2431.8 197.521 2434.09 196.919 Q2436.41 196.317 2438.68 195.113 L2438.68 199.141 Q2436.38 200.113 2433.98 200.623 Q2431.57 201.132 2429.09 201.132 Q2422.89 201.132 2419.25 197.521 Q2415.64 193.91 2415.64 187.752 Q2415.64 181.387 2419.07 177.66 Q2422.52 173.91 2428.35 173.91 Q2433.58 173.91 2436.62 177.289 Q2439.67 180.646 2439.67 186.433 M2435.41 185.183 Q2435.37 181.688 2433.44 179.604 Q2431.55 177.521 2428.4 177.521 Q2424.83 177.521 2422.68 179.535 Q2420.55 181.549 2420.23 185.206 L2435.41 185.183 Z\" fill=\"#000000\" fill-rule=\"evenodd\" fill-opacity=\"1\" /><path clip-path=\"url(#clip020)\" d=\"M2468.21 184.813 L2468.21 200.461 L2463.95 200.461 L2463.95 184.951 Q2463.95 181.271 2462.52 179.442 Q2461.08 177.614 2458.21 177.614 Q2454.76 177.614 2452.77 179.813 Q2450.78 182.012 2450.78 185.808 L2450.78 200.461 L2446.5 200.461 L2446.5 174.535 L2450.78 174.535 L2450.78 178.563 Q2452.31 176.225 2454.37 175.067 Q2456.45 173.91 2459.16 173.91 Q2463.63 173.91 2465.92 176.688 Q2468.21 179.442 2468.21 184.813 Z\" fill=\"#000000\" fill-rule=\"evenodd\" fill-opacity=\"1\" /><path clip-path=\"url(#clip020)\" d=\"M2513.33 184.813 L2513.33 200.461 L2509.07 200.461 L2509.07 184.951 Q2509.07 181.271 2507.63 179.442 Q2506.2 177.614 2503.33 177.614 Q2499.88 177.614 2497.89 179.813 Q2495.9 182.012 2495.9 185.808 L2495.9 200.461 L2491.62 200.461 L2491.62 164.442 L2495.9 164.442 L2495.9 178.563 Q2497.43 176.225 2499.49 175.067 Q2501.57 173.91 2504.28 173.91 Q2508.74 173.91 2511.04 176.688 Q2513.33 179.442 2513.33 184.813 Z\" fill=\"#000000\" fill-rule=\"evenodd\" fill-opacity=\"1\" /><path clip-path=\"url(#clip020)\" d=\"M2537.45 178.933 L2567.12 178.933 L2567.12 182.822 L2537.45 182.822 L2537.45 178.933 M2537.45 188.377 L2567.12 188.377 L2567.12 192.313 L2537.45 192.313 L2537.45 188.377 Z\" fill=\"#000000\" fill-rule=\"evenodd\" fill-opacity=\"1\" /><path clip-path=\"url(#clip020)\" d=\"M2606.45 181.826 Q2609.81 182.544 2611.68 184.813 Q2613.58 187.081 2613.58 190.414 Q2613.58 195.53 2610.06 198.331 Q2606.55 201.132 2600.06 201.132 Q2597.89 201.132 2595.57 200.692 Q2593.28 200.275 2590.83 199.419 L2590.83 194.905 Q2592.77 196.039 2595.09 196.618 Q2597.4 197.197 2599.92 197.197 Q2604.32 197.197 2606.61 195.461 Q2608.93 193.725 2608.93 190.414 Q2608.93 187.359 2606.78 185.646 Q2604.65 183.91 2600.83 183.91 L2596.8 183.91 L2596.8 180.067 L2601.01 180.067 Q2604.46 180.067 2606.29 178.701 Q2608.12 177.313 2608.12 174.72 Q2608.12 172.058 2606.22 170.646 Q2604.35 169.211 2600.83 169.211 Q2598.91 169.211 2596.71 169.627 Q2594.51 170.044 2591.87 170.924 L2591.87 166.757 Q2594.53 166.016 2596.85 165.646 Q2599.18 165.276 2601.24 165.276 Q2606.57 165.276 2609.67 167.706 Q2612.77 170.114 2612.77 174.234 Q2612.77 177.104 2611.13 179.095 Q2609.48 181.063 2606.45 181.826 Z\" fill=\"#000000\" fill-rule=\"evenodd\" fill-opacity=\"1\" /></svg>\n"
      ]
     },
     "metadata": {},
     "output_type": "display_data"
    }
   ],
   "source": [
    "# for (n, i) in enumerate(pl)\n",
    "#       display(i)\n",
    "# end\n",
    "display(pl[4])"
   ]
  },
  {
   "cell_type": "code",
   "execution_count": 47,
   "id": "extreme-mobility",
   "metadata": {},
   "outputs": [],
   "source": [
    "for (n, i) in enumerate(pl)\n",
    "    savefig(i, \"optportfolio-$(n-1).png\")\n",
    "    savefig(i, \"optportfolio-$(n-1).pdf\")\n",
    "end"
   ]
  },
  {
   "cell_type": "code",
   "execution_count": 33,
   "id": "personalized-johns",
   "metadata": {},
   "outputs": [
    {
     "name": "stdout",
     "output_type": "stream",
     "text": [
      "\\begin{frame}\\begin{center}\\includegraphics[height=\\textheight]{./plots/optportfolio-0.pdf}\\end{center}\\end{frame}\n",
      "\\begin{frame}\\begin{center}\\includegraphics[height=\\textheight]{./plots/optportfolio-1.pdf}\\end{center}\\end{frame}\n",
      "\\begin{frame}\\begin{center}\\includegraphics[height=\\textheight]{./plots/optportfolio-2.pdf}\\end{center}\\end{frame}\n",
      "\\begin{frame}\\begin{center}\\includegraphics[height=\\textheight]{./plots/optportfolio-3.pdf}\\end{center}\\end{frame}\n",
      "\\begin{frame}\\begin{center}\\includegraphics[height=\\textheight]{./plots/optportfolio-4.pdf}\\end{center}\\end{frame}\n",
      "\\begin{frame}\\begin{center}\\includegraphics[height=\\textheight]{./plots/optportfolio-5.pdf}\\end{center}\\end{frame}\n",
      "\\begin{frame}\\begin{center}\\includegraphics[height=\\textheight]{./plots/optportfolio-6.pdf}\\end{center}\\end{frame}\n",
      "\\begin{frame}\\begin{center}\\includegraphics[height=\\textheight]{./plots/optportfolio-7.pdf}\\end{center}\\end{frame}\n",
      "\\begin{frame}\\begin{center}\\includegraphics[height=\\textheight]{./plots/optportfolio-8.pdf}\\end{center}\\end{frame}\n",
      "\\begin{frame}\\begin{center}\\includegraphics[height=\\textheight]{./plots/optportfolio-9.pdf}\\end{center}\\end{frame}\n",
      "\\begin{frame}\\begin{center}\\includegraphics[height=\\textheight]{./plots/optportfolio-10.pdf}\\end{center}\\end{frame}\n",
      "\\begin{frame}\\begin{center}\\includegraphics[height=\\textheight]{./plots/optportfolio-11.pdf}\\end{center}\\end{frame}\n",
      "\\begin{frame}\\begin{center}\\includegraphics[height=\\textheight]{./plots/optportfolio-12.pdf}\\end{center}\\end{frame}\n",
      "\\begin{frame}\\begin{center}\\includegraphics[height=\\textheight]{./plots/optportfolio-13.pdf}\\end{center}\\end{frame}\n",
      "\\begin{frame}\\begin{center}\\includegraphics[height=\\textheight]{./plots/optportfolio-14.pdf}\\end{center}\\end{frame}\n",
      "\\begin{frame}\\begin{center}\\includegraphics[height=\\textheight]{./plots/optportfolio-15.pdf}\\end{center}\\end{frame}\n",
      "\\begin{frame}\\begin{center}\\includegraphics[height=\\textheight]{./plots/optportfolio-16.pdf}\\end{center}\\end{frame}\n",
      "\\begin{frame}\\begin{center}\\includegraphics[height=\\textheight]{./plots/optportfolio-17.pdf}\\end{center}\\end{frame}\n",
      "\\begin{frame}\\begin{center}\\includegraphics[height=\\textheight]{./plots/optportfolio-18.pdf}\\end{center}\\end{frame}\n",
      "\\begin{frame}\\begin{center}\\includegraphics[height=\\textheight]{./plots/optportfolio-19.pdf}\\end{center}\\end{frame}\n",
      "\\begin{frame}\\begin{center}\\includegraphics[height=\\textheight]{./plots/optportfolio-20.pdf}\\end{center}\\end{frame}\n",
      "\\begin{frame}\\begin{center}\\includegraphics[height=\\textheight]{./plots/optportfolio-21.pdf}\\end{center}\\end{frame}\n"
     ]
    }
   ],
   "source": [
    "for i in 0:length(pl)-1\n",
    "    print(\"\\\\begin{frame}\\\\begin{center}\\\\includegraphics[height=\\\\textheight]{./plots/optportfolio-$i.pdf}\\\\end{center}\\\\end{frame}\\n\")\n",
    "end"
   ]
  },
  {
   "cell_type": "markdown",
   "id": "annoying-omega",
   "metadata": {},
   "source": [
    "## Example for which greedy algorithm is inoptimal"
   ]
  },
  {
   "cell_type": "code",
   "execution_count": 3,
   "id": "automotive-while",
   "metadata": {},
   "outputs": [
    {
     "name": "stdout",
     "output_type": "stream",
     "text": [
      "Bool[1, 0, 0]\n",
      "Bool[1, 0, 1]\n",
      "Bool[1, 1, 1]\n"
     ]
    }
   ],
   "source": [
    "f = [0.4, 0.4, 0.3]\n",
    "t = [0.7, 0.8, 0.9]\n",
    "\n",
    "pl, x, apporder = plotsmaker()\n",
    "\n",
    "so = sortperm(t .* f, rev=true)\n",
    "for c in eachcol(x)\n",
    "    println(c[so])\n",
    "end"
   ]
  },
  {
   "cell_type": "code",
   "execution_count": 311,
   "id": "another-closure",
   "metadata": {},
   "outputs": [
    {
     "data": {
      "text/plain": [
       "3×3 Matrix{Float64}:\n",
       " 0.4  0.7  0.28\n",
       " 0.4  0.8  0.32\n",
       " 0.3  0.9  0.27"
      ]
     },
     "execution_count": 311,
     "metadata": {},
     "output_type": "execute_result"
    }
   ],
   "source": [
    "[f t f .* t]"
   ]
  },
  {
   "cell_type": "markdown",
   "id": "removable-compact",
   "metadata": {},
   "source": [
    "## Comparative statics example"
   ]
  },
  {
   "cell_type": "code",
   "execution_count": 21,
   "id": "extraordinary-builder",
   "metadata": {},
   "outputs": [
    {
     "data": {
      "text/plain": [
       "8-element Vector{Float64}:\n",
       " 0.39\n",
       " 0.33\n",
       " 0.24\n",
       " 0.24\n",
       " 0.05\n",
       " 0.03\n",
       " 0.1\n",
       " 0.12"
      ]
     },
     "execution_count": 21,
     "metadata": {},
     "output_type": "execute_result"
    }
   ],
   "source": [
    "t = Float64.(collect(range(start=200, step=50, length=8)))\n",
    "f = [0.39, 0.33, 0.24, 0.24, 0.05, 0.03, 0.1, 0.12]"
   ]
  },
  {
   "cell_type": "code",
   "execution_count": 22,
   "id": "composite-citation",
   "metadata": {},
   "outputs": [
    {
     "data": {
      "text/plain": [
       "8×4 Matrix{Float64}:\n",
       " 200.0  0.39  4.0  230.0\n",
       " 250.0  0.33  2.0  147.0\n",
       " 300.0  0.24  8.0  294.0\n",
       " 350.0  0.24  1.0   84.0\n",
       " 400.0  0.05  7.0  289.0\n",
       " 450.0  0.03  3.0  195.0\n",
       " 500.0  0.1   5.0  258.0\n",
       " 550.0  0.12  6.0  282.0"
      ]
     },
     "execution_count": 22,
     "metadata": {},
     "output_type": "execute_result"
    }
   ],
   "source": [
    "apporder, v = applicationorder(f, t)\n",
    "# v = [valuation(apporder[1:i], f, t) for i in 1:8]\n",
    "\n",
    "[t f apporder round.(v)[apporder]]"
   ]
  },
  {
   "cell_type": "code",
   "execution_count": 23,
   "id": "flush-scotland",
   "metadata": {},
   "outputs": [
    {
     "data": {
      "image/svg+xml": [
       "<?xml version=\"1.0\" encoding=\"utf-8\"?>\n",
       "<svg xmlns=\"http://www.w3.org/2000/svg\" xmlns:xlink=\"http://www.w3.org/1999/xlink\" width=\"720\" height=\"420\" viewBox=\"0 0 2880 1680\">\n",
       "<defs>\n",
       "  <clipPath id=\"clip980\">\n",
       "    <rect x=\"0\" y=\"0\" width=\"2880\" height=\"1680\"/>\n",
       "  </clipPath>\n",
       "</defs>\n",
       "<path clip-path=\"url(#clip980)\" d=\"\n",
       "M0 1680 L2880 1680 L2880 0 L0 0  Z\n",
       "  \" fill=\"#ffffff\" fill-rule=\"evenodd\" fill-opacity=\"1\"/>\n",
       "<defs>\n",
       "  <clipPath id=\"clip981\">\n",
       "    <rect x=\"576\" y=\"0\" width=\"2017\" height=\"1680\"/>\n",
       "  </clipPath>\n",
       "</defs>\n",
       "<path clip-path=\"url(#clip980)\" d=\"\n",
       "M232.985 1512.64 L2832.76 1512.64 L2832.76 47.2441 L232.985 47.2441  Z\n",
       "  \" fill=\"#ffffff\" fill-rule=\"evenodd\" fill-opacity=\"1\"/>\n",
       "<defs>\n",
       "  <clipPath id=\"clip982\">\n",
       "    <rect x=\"232\" y=\"47\" width=\"2601\" height=\"1466\"/>\n",
       "  </clipPath>\n",
       "</defs>\n",
       "<polyline clip-path=\"url(#clip982)\" style=\"stroke:#000000; stroke-linecap:butt; stroke-linejoin:round; stroke-width:2; stroke-opacity:0.1; fill:none\" points=\"\n",
       "  306.564,1512.64 306.564,47.2441 \n",
       "  \"/>\n",
       "<polyline clip-path=\"url(#clip982)\" style=\"stroke:#000000; stroke-linecap:butt; stroke-linejoin:round; stroke-width:2; stroke-opacity:0.1; fill:none\" points=\"\n",
       "  656.937,1512.64 656.937,47.2441 \n",
       "  \"/>\n",
       "<polyline clip-path=\"url(#clip982)\" style=\"stroke:#000000; stroke-linecap:butt; stroke-linejoin:round; stroke-width:2; stroke-opacity:0.1; fill:none\" points=\"\n",
       "  1007.31,1512.64 1007.31,47.2441 \n",
       "  \"/>\n",
       "<polyline clip-path=\"url(#clip982)\" style=\"stroke:#000000; stroke-linecap:butt; stroke-linejoin:round; stroke-width:2; stroke-opacity:0.1; fill:none\" points=\"\n",
       "  1357.68,1512.64 1357.68,47.2441 \n",
       "  \"/>\n",
       "<polyline clip-path=\"url(#clip982)\" style=\"stroke:#000000; stroke-linecap:butt; stroke-linejoin:round; stroke-width:2; stroke-opacity:0.1; fill:none\" points=\"\n",
       "  1708.06,1512.64 1708.06,47.2441 \n",
       "  \"/>\n",
       "<polyline clip-path=\"url(#clip982)\" style=\"stroke:#000000; stroke-linecap:butt; stroke-linejoin:round; stroke-width:2; stroke-opacity:0.1; fill:none\" points=\"\n",
       "  2058.43,1512.64 2058.43,47.2441 \n",
       "  \"/>\n",
       "<polyline clip-path=\"url(#clip982)\" style=\"stroke:#000000; stroke-linecap:butt; stroke-linejoin:round; stroke-width:2; stroke-opacity:0.1; fill:none\" points=\"\n",
       "  2408.8,1512.64 2408.8,47.2441 \n",
       "  \"/>\n",
       "<polyline clip-path=\"url(#clip982)\" style=\"stroke:#000000; stroke-linecap:butt; stroke-linejoin:round; stroke-width:2; stroke-opacity:0.1; fill:none\" points=\"\n",
       "  2759.18,1512.64 2759.18,47.2441 \n",
       "  \"/>\n",
       "<polyline clip-path=\"url(#clip980)\" style=\"stroke:#000000; stroke-linecap:butt; stroke-linejoin:round; stroke-width:4; stroke-opacity:1; fill:none\" points=\"\n",
       "  232.985,1512.64 2832.76,1512.64 \n",
       "  \"/>\n",
       "<polyline clip-path=\"url(#clip980)\" style=\"stroke:#000000; stroke-linecap:butt; stroke-linejoin:round; stroke-width:4; stroke-opacity:1; fill:none\" points=\"\n",
       "  306.564,1512.64 306.564,1493.74 \n",
       "  \"/>\n",
       "<polyline clip-path=\"url(#clip980)\" style=\"stroke:#000000; stroke-linecap:butt; stroke-linejoin:round; stroke-width:4; stroke-opacity:1; fill:none\" points=\"\n",
       "  656.937,1512.64 656.937,1493.74 \n",
       "  \"/>\n",
       "<polyline clip-path=\"url(#clip980)\" style=\"stroke:#000000; stroke-linecap:butt; stroke-linejoin:round; stroke-width:4; stroke-opacity:1; fill:none\" points=\"\n",
       "  1007.31,1512.64 1007.31,1493.74 \n",
       "  \"/>\n",
       "<polyline clip-path=\"url(#clip980)\" style=\"stroke:#000000; stroke-linecap:butt; stroke-linejoin:round; stroke-width:4; stroke-opacity:1; fill:none\" points=\"\n",
       "  1357.68,1512.64 1357.68,1493.74 \n",
       "  \"/>\n",
       "<polyline clip-path=\"url(#clip980)\" style=\"stroke:#000000; stroke-linecap:butt; stroke-linejoin:round; stroke-width:4; stroke-opacity:1; fill:none\" points=\"\n",
       "  1708.06,1512.64 1708.06,1493.74 \n",
       "  \"/>\n",
       "<polyline clip-path=\"url(#clip980)\" style=\"stroke:#000000; stroke-linecap:butt; stroke-linejoin:round; stroke-width:4; stroke-opacity:1; fill:none\" points=\"\n",
       "  2058.43,1512.64 2058.43,1493.74 \n",
       "  \"/>\n",
       "<polyline clip-path=\"url(#clip980)\" style=\"stroke:#000000; stroke-linecap:butt; stroke-linejoin:round; stroke-width:4; stroke-opacity:1; fill:none\" points=\"\n",
       "  2408.8,1512.64 2408.8,1493.74 \n",
       "  \"/>\n",
       "<polyline clip-path=\"url(#clip980)\" style=\"stroke:#000000; stroke-linecap:butt; stroke-linejoin:round; stroke-width:4; stroke-opacity:1; fill:none\" points=\"\n",
       "  2759.18,1512.64 2759.18,1493.74 \n",
       "  \"/>\n",
       "<path clip-path=\"url(#clip980)\" d=\"M296.946 1574.94 L304.585 1574.94 L304.585 1548.58 L296.275 1550.25 L296.275 1545.99 L304.538 1544.32 L309.214 1544.32 L309.214 1574.94 L316.853 1574.94 L316.853 1578.88 L296.946 1578.88 L296.946 1574.94 Z\" fill=\"#000000\" fill-rule=\"evenodd\" fill-opacity=\"1\" /><path clip-path=\"url(#clip980)\" d=\"M651.59 1574.94 L667.909 1574.94 L667.909 1578.88 L645.965 1578.88 L645.965 1574.94 Q648.627 1572.19 653.21 1567.56 Q657.817 1562.91 658.997 1561.57 Q661.243 1559.04 662.122 1557.31 Q663.025 1555.55 663.025 1553.86 Q663.025 1551.1 661.081 1549.37 Q659.159 1547.63 656.058 1547.63 Q653.859 1547.63 651.405 1548.39 Q648.974 1549.16 646.197 1550.71 L646.197 1545.99 Q649.021 1544.85 651.474 1544.27 Q653.928 1543.69 655.965 1543.69 Q661.335 1543.69 664.53 1546.38 Q667.724 1549.07 667.724 1553.56 Q667.724 1555.69 666.914 1557.61 Q666.127 1559.5 664.021 1562.1 Q663.442 1562.77 660.34 1565.99 Q657.238 1569.18 651.59 1574.94 Z\" fill=\"#000000\" fill-rule=\"evenodd\" fill-opacity=\"1\" /><path clip-path=\"url(#clip980)\" d=\"M1011.56 1560.25 Q1014.91 1560.96 1016.79 1563.23 Q1018.69 1565.5 1018.69 1568.83 Q1018.69 1573.95 1015.17 1576.75 Q1011.65 1579.55 1005.17 1579.55 Q1002.99 1579.55 1000.68 1579.11 Q998.387 1578.69 995.933 1577.84 L995.933 1573.32 Q997.878 1574.46 1000.19 1575.04 Q1002.51 1575.62 1005.03 1575.62 Q1009.43 1575.62 1011.72 1573.88 Q1014.04 1572.14 1014.04 1568.83 Q1014.04 1565.78 1011.88 1564.07 Q1009.75 1562.33 1005.93 1562.33 L1001.91 1562.33 L1001.91 1558.49 L1006.12 1558.49 Q1009.57 1558.49 1011.4 1557.12 Q1013.22 1555.73 1013.22 1553.14 Q1013.22 1550.48 1011.33 1549.07 Q1009.45 1547.63 1005.93 1547.63 Q1004.01 1547.63 1001.81 1548.05 Q999.614 1548.46 996.975 1549.34 L996.975 1545.18 Q999.637 1544.44 1001.95 1544.07 Q1004.29 1543.69 1006.35 1543.69 Q1011.67 1543.69 1014.78 1546.13 Q1017.88 1548.53 1017.88 1552.65 Q1017.88 1555.52 1016.23 1557.51 Q1014.59 1559.48 1011.56 1560.25 Z\" fill=\"#000000\" fill-rule=\"evenodd\" fill-opacity=\"1\" /><path clip-path=\"url(#clip980)\" d=\"M1360.69 1548.39 L1348.89 1566.84 L1360.69 1566.84 L1360.69 1548.39 M1359.47 1544.32 L1365.35 1544.32 L1365.35 1566.84 L1370.28 1566.84 L1370.28 1570.73 L1365.35 1570.73 L1365.35 1578.88 L1360.69 1578.88 L1360.69 1570.73 L1345.09 1570.73 L1345.09 1566.22 L1359.47 1544.32 Z\" fill=\"#000000\" fill-rule=\"evenodd\" fill-opacity=\"1\" /><path clip-path=\"url(#clip980)\" d=\"M1698.34 1544.32 L1716.69 1544.32 L1716.69 1548.26 L1702.62 1548.26 L1702.62 1556.73 Q1703.64 1556.38 1704.65 1556.22 Q1705.67 1556.03 1706.69 1556.03 Q1712.48 1556.03 1715.86 1559.2 Q1719.24 1562.38 1719.24 1567.79 Q1719.24 1573.37 1715.77 1576.47 Q1712.29 1579.55 1705.97 1579.55 Q1703.8 1579.55 1701.53 1579.18 Q1699.28 1578.81 1696.88 1578.07 L1696.88 1573.37 Q1698.96 1574.5 1701.18 1575.06 Q1703.4 1575.62 1705.88 1575.62 Q1709.89 1575.62 1712.22 1573.51 Q1714.56 1571.4 1714.56 1567.79 Q1714.56 1564.18 1712.22 1562.07 Q1709.89 1559.97 1705.88 1559.97 Q1704.01 1559.97 1702.13 1560.38 Q1700.28 1560.8 1698.34 1561.68 L1698.34 1544.32 Z\" fill=\"#000000\" fill-rule=\"evenodd\" fill-opacity=\"1\" /><path clip-path=\"url(#clip980)\" d=\"M2058.84 1559.74 Q2055.69 1559.74 2053.84 1561.89 Q2052.01 1564.04 2052.01 1567.79 Q2052.01 1571.52 2053.84 1573.69 Q2055.69 1575.85 2058.84 1575.85 Q2061.98 1575.85 2063.81 1573.69 Q2065.66 1571.52 2065.66 1567.79 Q2065.66 1564.04 2063.81 1561.89 Q2061.98 1559.74 2058.84 1559.74 M2068.12 1545.08 L2068.12 1549.34 Q2066.36 1548.51 2064.55 1548.07 Q2062.77 1547.63 2061.01 1547.63 Q2056.38 1547.63 2053.93 1550.75 Q2051.5 1553.88 2051.15 1560.2 Q2052.52 1558.19 2054.58 1557.12 Q2056.64 1556.03 2059.11 1556.03 Q2064.32 1556.03 2067.33 1559.2 Q2070.36 1562.35 2070.36 1567.79 Q2070.36 1573.12 2067.22 1576.33 Q2064.07 1579.55 2058.84 1579.55 Q2052.84 1579.55 2049.67 1574.97 Q2046.5 1570.36 2046.5 1561.63 Q2046.5 1553.44 2050.39 1548.58 Q2054.28 1543.69 2060.83 1543.69 Q2062.59 1543.69 2064.37 1544.04 Q2066.17 1544.39 2068.12 1545.08 Z\" fill=\"#000000\" fill-rule=\"evenodd\" fill-opacity=\"1\" /><path clip-path=\"url(#clip980)\" d=\"M2397.69 1544.32 L2419.92 1544.32 L2419.92 1546.31 L2407.37 1578.88 L2402.48 1578.88 L2414.29 1548.26 L2397.69 1548.26 L2397.69 1544.32 Z\" fill=\"#000000\" fill-rule=\"evenodd\" fill-opacity=\"1\" /><path clip-path=\"url(#clip980)\" d=\"M2759.18 1562.47 Q2755.84 1562.47 2753.92 1564.25 Q2752.02 1566.03 2752.02 1569.16 Q2752.02 1572.28 2753.92 1574.07 Q2755.84 1575.85 2759.18 1575.85 Q2762.51 1575.85 2764.43 1574.07 Q2766.35 1572.26 2766.35 1569.16 Q2766.35 1566.03 2764.43 1564.25 Q2762.53 1562.47 2759.18 1562.47 M2754.5 1560.48 Q2751.49 1559.74 2749.8 1557.68 Q2748.14 1555.62 2748.14 1552.65 Q2748.14 1548.51 2751.08 1546.1 Q2754.04 1543.69 2759.18 1543.69 Q2764.34 1543.69 2767.28 1546.1 Q2770.22 1548.51 2770.22 1552.65 Q2770.22 1555.62 2768.53 1557.68 Q2766.86 1559.74 2763.88 1560.48 Q2767.26 1561.26 2769.13 1563.56 Q2771.03 1565.85 2771.03 1569.16 Q2771.03 1574.18 2767.95 1576.87 Q2764.9 1579.55 2759.18 1579.55 Q2753.46 1579.55 2750.38 1576.87 Q2747.33 1574.18 2747.33 1569.16 Q2747.33 1565.85 2749.22 1563.56 Q2751.12 1561.26 2754.5 1560.48 M2752.79 1553.09 Q2752.79 1555.78 2754.46 1557.28 Q2756.15 1558.79 2759.18 1558.79 Q2762.19 1558.79 2763.88 1557.28 Q2765.59 1555.78 2765.59 1553.09 Q2765.59 1550.41 2763.88 1548.9 Q2762.19 1547.4 2759.18 1547.4 Q2756.15 1547.4 2754.46 1548.9 Q2752.79 1550.41 2752.79 1553.09 Z\" fill=\"#000000\" fill-rule=\"evenodd\" fill-opacity=\"1\" /><path clip-path=\"url(#clip980)\" d=\"M1547.8 1643.19 L1547.8 1664.7 L1541.94 1664.7 L1541.94 1643.38 Q1541.94 1638.32 1539.97 1635.8 Q1538 1633.29 1534.05 1633.29 Q1529.31 1633.29 1526.57 1636.31 Q1523.83 1639.34 1523.83 1644.56 L1523.83 1664.7 L1517.94 1664.7 L1517.94 1615.18 L1523.83 1615.18 L1523.83 1634.59 Q1525.93 1631.38 1528.76 1629.79 Q1531.63 1628.2 1535.35 1628.2 Q1541.5 1628.2 1544.65 1632.02 Q1547.8 1635.8 1547.8 1643.19 Z\" fill=\"#000000\" fill-rule=\"evenodd\" fill-opacity=\"1\" /><polyline clip-path=\"url(#clip982)\" style=\"stroke:#000000; stroke-linecap:butt; stroke-linejoin:round; stroke-width:2; stroke-opacity:0.1; fill:none\" points=\"\n",
       "  232.985,1365.89 2832.76,1365.89 \n",
       "  \"/>\n",
       "<polyline clip-path=\"url(#clip982)\" style=\"stroke:#000000; stroke-linecap:butt; stroke-linejoin:round; stroke-width:2; stroke-opacity:0.1; fill:none\" points=\"\n",
       "  232.985,1036.9 2832.76,1036.9 \n",
       "  \"/>\n",
       "<polyline clip-path=\"url(#clip982)\" style=\"stroke:#000000; stroke-linecap:butt; stroke-linejoin:round; stroke-width:2; stroke-opacity:0.1; fill:none\" points=\"\n",
       "  232.985,707.915 2832.76,707.915 \n",
       "  \"/>\n",
       "<polyline clip-path=\"url(#clip982)\" style=\"stroke:#000000; stroke-linecap:butt; stroke-linejoin:round; stroke-width:2; stroke-opacity:0.1; fill:none\" points=\"\n",
       "  232.985,378.927 2832.76,378.927 \n",
       "  \"/>\n",
       "<polyline clip-path=\"url(#clip982)\" style=\"stroke:#000000; stroke-linecap:butt; stroke-linejoin:round; stroke-width:2; stroke-opacity:0.1; fill:none\" points=\"\n",
       "  232.985,49.9394 2832.76,49.9394 \n",
       "  \"/>\n",
       "<polyline clip-path=\"url(#clip980)\" style=\"stroke:#000000; stroke-linecap:butt; stroke-linejoin:round; stroke-width:4; stroke-opacity:1; fill:none\" points=\"\n",
       "  232.985,1512.64 232.985,47.2441 \n",
       "  \"/>\n",
       "<polyline clip-path=\"url(#clip980)\" style=\"stroke:#000000; stroke-linecap:butt; stroke-linejoin:round; stroke-width:4; stroke-opacity:1; fill:none\" points=\"\n",
       "  232.985,1365.89 251.883,1365.89 \n",
       "  \"/>\n",
       "<polyline clip-path=\"url(#clip980)\" style=\"stroke:#000000; stroke-linecap:butt; stroke-linejoin:round; stroke-width:4; stroke-opacity:1; fill:none\" points=\"\n",
       "  232.985,1036.9 251.883,1036.9 \n",
       "  \"/>\n",
       "<polyline clip-path=\"url(#clip980)\" style=\"stroke:#000000; stroke-linecap:butt; stroke-linejoin:round; stroke-width:4; stroke-opacity:1; fill:none\" points=\"\n",
       "  232.985,707.915 251.883,707.915 \n",
       "  \"/>\n",
       "<polyline clip-path=\"url(#clip980)\" style=\"stroke:#000000; stroke-linecap:butt; stroke-linejoin:round; stroke-width:4; stroke-opacity:1; fill:none\" points=\"\n",
       "  232.985,378.927 251.883,378.927 \n",
       "  \"/>\n",
       "<polyline clip-path=\"url(#clip980)\" style=\"stroke:#000000; stroke-linecap:butt; stroke-linejoin:round; stroke-width:4; stroke-opacity:1; fill:none\" points=\"\n",
       "  232.985,49.9394 251.883,49.9394 \n",
       "  \"/>\n",
       "<path clip-path=\"url(#clip980)\" d=\"M108.328 1379.24 L115.966 1379.24 L115.966 1352.87 L107.656 1354.54 L107.656 1350.28 L115.92 1348.61 L120.596 1348.61 L120.596 1379.24 L128.235 1379.24 L128.235 1383.17 L108.328 1383.17 L108.328 1379.24 Z\" fill=\"#000000\" fill-rule=\"evenodd\" fill-opacity=\"1\" /><path clip-path=\"url(#clip980)\" d=\"M147.679 1351.69 Q144.068 1351.69 142.239 1355.25 Q140.434 1358.8 140.434 1365.93 Q140.434 1373.03 142.239 1376.6 Q144.068 1380.14 147.679 1380.14 Q151.313 1380.14 153.119 1376.6 Q154.948 1373.03 154.948 1365.93 Q154.948 1358.8 153.119 1355.25 Q151.313 1351.69 147.679 1351.69 M147.679 1347.99 Q153.489 1347.99 156.545 1352.59 Q159.624 1357.18 159.624 1365.93 Q159.624 1374.65 156.545 1379.26 Q153.489 1383.84 147.679 1383.84 Q141.869 1383.84 138.79 1379.26 Q135.735 1374.65 135.735 1365.93 Q135.735 1357.18 138.79 1352.59 Q141.869 1347.99 147.679 1347.99 Z\" fill=\"#000000\" fill-rule=\"evenodd\" fill-opacity=\"1\" /><path clip-path=\"url(#clip980)\" d=\"M177.841 1351.69 Q174.23 1351.69 172.401 1355.25 Q170.596 1358.8 170.596 1365.93 Q170.596 1373.03 172.401 1376.6 Q174.23 1380.14 177.841 1380.14 Q181.475 1380.14 183.281 1376.6 Q185.11 1373.03 185.11 1365.93 Q185.11 1358.8 183.281 1355.25 Q181.475 1351.69 177.841 1351.69 M177.841 1347.99 Q183.651 1347.99 186.707 1352.59 Q189.785 1357.18 189.785 1365.93 Q189.785 1374.65 186.707 1379.26 Q183.651 1383.84 177.841 1383.84 Q172.031 1383.84 168.952 1379.26 Q165.897 1374.65 165.897 1365.93 Q165.897 1357.18 168.952 1352.59 Q172.031 1347.99 177.841 1347.99 Z\" fill=\"#000000\" fill-rule=\"evenodd\" fill-opacity=\"1\" /><path clip-path=\"url(#clip980)\" d=\"M108.328 1050.25 L115.966 1050.25 L115.966 1023.88 L107.656 1025.55 L107.656 1021.29 L115.92 1019.62 L120.596 1019.62 L120.596 1050.25 L128.235 1050.25 L128.235 1054.18 L108.328 1054.18 L108.328 1050.25 Z\" fill=\"#000000\" fill-rule=\"evenodd\" fill-opacity=\"1\" /><path clip-path=\"url(#clip980)\" d=\"M137.726 1019.62 L156.082 1019.62 L156.082 1023.56 L142.008 1023.56 L142.008 1032.03 Q143.026 1031.68 144.045 1031.52 Q145.063 1031.34 146.082 1031.34 Q151.869 1031.34 155.249 1034.51 Q158.628 1037.68 158.628 1043.09 Q158.628 1048.67 155.156 1051.78 Q151.684 1054.85 145.364 1054.85 Q143.188 1054.85 140.92 1054.48 Q138.675 1054.11 136.267 1053.37 L136.267 1048.67 Q138.351 1049.81 140.573 1050.36 Q142.795 1050.92 145.272 1050.92 Q149.276 1050.92 151.614 1048.81 Q153.952 1046.71 153.952 1043.09 Q153.952 1039.48 151.614 1037.38 Q149.276 1035.27 145.272 1035.27 Q143.397 1035.27 141.522 1035.69 Q139.67 1036.1 137.726 1036.98 L137.726 1019.62 Z\" fill=\"#000000\" fill-rule=\"evenodd\" fill-opacity=\"1\" /><path clip-path=\"url(#clip980)\" d=\"M177.841 1022.7 Q174.23 1022.7 172.401 1026.27 Q170.596 1029.81 170.596 1036.94 Q170.596 1044.04 172.401 1047.61 Q174.23 1051.15 177.841 1051.15 Q181.475 1051.15 183.281 1047.61 Q185.11 1044.04 185.11 1036.94 Q185.11 1029.81 183.281 1026.27 Q181.475 1022.7 177.841 1022.7 M177.841 1019 Q183.651 1019 186.707 1023.6 Q189.785 1028.19 189.785 1036.94 Q189.785 1045.66 186.707 1050.27 Q183.651 1054.85 177.841 1054.85 Q172.031 1054.85 168.952 1050.27 Q165.897 1045.66 165.897 1036.94 Q165.897 1028.19 168.952 1023.6 Q172.031 1019 177.841 1019 Z\" fill=\"#000000\" fill-rule=\"evenodd\" fill-opacity=\"1\" /><path clip-path=\"url(#clip980)\" d=\"M111.545 721.26 L127.864 721.26 L127.864 725.195 L105.92 725.195 L105.92 721.26 Q108.582 718.505 113.165 713.875 Q117.772 709.223 118.952 707.88 Q121.198 705.357 122.077 703.621 Q122.98 701.862 122.98 700.172 Q122.98 697.417 121.036 695.681 Q119.115 693.945 116.013 693.945 Q113.814 693.945 111.36 694.709 Q108.929 695.473 106.152 697.024 L106.152 692.301 Q108.976 691.167 111.429 690.589 Q113.883 690.01 115.92 690.01 Q121.29 690.01 124.485 692.695 Q127.679 695.38 127.679 699.871 Q127.679 702.001 126.869 703.922 Q126.082 705.82 123.976 708.413 Q123.397 709.084 120.295 712.301 Q117.193 715.496 111.545 721.26 Z\" fill=\"#000000\" fill-rule=\"evenodd\" fill-opacity=\"1\" /><path clip-path=\"url(#clip980)\" d=\"M147.679 693.714 Q144.068 693.714 142.239 697.278 Q140.434 700.82 140.434 707.95 Q140.434 715.056 142.239 718.621 Q144.068 722.162 147.679 722.162 Q151.313 722.162 153.119 718.621 Q154.948 715.056 154.948 707.95 Q154.948 700.82 153.119 697.278 Q151.313 693.714 147.679 693.714 M147.679 690.01 Q153.489 690.01 156.545 694.616 Q159.624 699.2 159.624 707.95 Q159.624 716.676 156.545 721.283 Q153.489 725.866 147.679 725.866 Q141.869 725.866 138.79 721.283 Q135.735 716.676 135.735 707.95 Q135.735 699.2 138.79 694.616 Q141.869 690.01 147.679 690.01 Z\" fill=\"#000000\" fill-rule=\"evenodd\" fill-opacity=\"1\" /><path clip-path=\"url(#clip980)\" d=\"M177.841 693.714 Q174.23 693.714 172.401 697.278 Q170.596 700.82 170.596 707.95 Q170.596 715.056 172.401 718.621 Q174.23 722.162 177.841 722.162 Q181.475 722.162 183.281 718.621 Q185.11 715.056 185.11 707.95 Q185.11 700.82 183.281 697.278 Q181.475 693.714 177.841 693.714 M177.841 690.01 Q183.651 690.01 186.707 694.616 Q189.785 699.2 189.785 707.95 Q189.785 716.676 186.707 721.283 Q183.651 725.866 177.841 725.866 Q172.031 725.866 168.952 721.283 Q165.897 716.676 165.897 707.95 Q165.897 699.2 168.952 694.616 Q172.031 690.01 177.841 690.01 Z\" fill=\"#000000\" fill-rule=\"evenodd\" fill-opacity=\"1\" /><path clip-path=\"url(#clip980)\" d=\"M111.545 392.272 L127.864 392.272 L127.864 396.207 L105.92 396.207 L105.92 392.272 Q108.582 389.517 113.165 384.888 Q117.772 380.235 118.952 378.892 Q121.198 376.369 122.077 374.633 Q122.98 372.874 122.98 371.184 Q122.98 368.429 121.036 366.693 Q119.115 364.957 116.013 364.957 Q113.814 364.957 111.36 365.721 Q108.929 366.485 106.152 368.036 L106.152 363.314 Q108.976 362.179 111.429 361.601 Q113.883 361.022 115.92 361.022 Q121.29 361.022 124.485 363.707 Q127.679 366.392 127.679 370.883 Q127.679 373.013 126.869 374.934 Q126.082 376.832 123.976 379.425 Q123.397 380.096 120.295 383.314 Q117.193 386.508 111.545 392.272 Z\" fill=\"#000000\" fill-rule=\"evenodd\" fill-opacity=\"1\" /><path clip-path=\"url(#clip980)\" d=\"M137.726 361.647 L156.082 361.647 L156.082 365.582 L142.008 365.582 L142.008 374.054 Q143.026 373.707 144.045 373.545 Q145.063 373.36 146.082 373.36 Q151.869 373.36 155.249 376.531 Q158.628 379.703 158.628 385.119 Q158.628 390.698 155.156 393.8 Q151.684 396.878 145.364 396.878 Q143.188 396.878 140.92 396.508 Q138.675 396.138 136.267 395.397 L136.267 390.698 Q138.351 391.832 140.573 392.388 Q142.795 392.943 145.272 392.943 Q149.276 392.943 151.614 390.837 Q153.952 388.73 153.952 385.119 Q153.952 381.508 151.614 379.402 Q149.276 377.295 145.272 377.295 Q143.397 377.295 141.522 377.712 Q139.67 378.128 137.726 379.008 L137.726 361.647 Z\" fill=\"#000000\" fill-rule=\"evenodd\" fill-opacity=\"1\" /><path clip-path=\"url(#clip980)\" d=\"M177.841 364.726 Q174.23 364.726 172.401 368.291 Q170.596 371.832 170.596 378.962 Q170.596 386.068 172.401 389.633 Q174.23 393.175 177.841 393.175 Q181.475 393.175 183.281 389.633 Q185.11 386.068 185.11 378.962 Q185.11 371.832 183.281 368.291 Q181.475 364.726 177.841 364.726 M177.841 361.022 Q183.651 361.022 186.707 365.629 Q189.785 370.212 189.785 378.962 Q189.785 387.689 186.707 392.295 Q183.651 396.878 177.841 396.878 Q172.031 396.878 168.952 392.295 Q165.897 387.689 165.897 378.962 Q165.897 370.212 168.952 365.629 Q172.031 361.022 177.841 361.022 Z\" fill=\"#000000\" fill-rule=\"evenodd\" fill-opacity=\"1\" /><path clip-path=\"url(#clip980)\" d=\"M121.684 48.5852 Q125.04 49.3028 126.915 51.5713 Q128.814 53.8398 128.814 57.1731 Q128.814 62.2888 125.295 65.0897 Q121.777 67.8907 115.295 67.8907 Q113.119 67.8907 110.804 67.4508 Q108.513 67.0342 106.059 66.1777 L106.059 61.6638 Q108.003 62.7981 110.318 63.3768 Q112.633 63.9555 115.156 63.9555 Q119.554 63.9555 121.846 62.2194 Q124.161 60.4833 124.161 57.1731 Q124.161 54.1176 122.008 52.4046 Q119.878 50.6685 116.059 50.6685 L112.031 50.6685 L112.031 46.8259 L116.244 46.8259 Q119.693 46.8259 121.522 45.4602 Q123.351 44.0713 123.351 41.4788 Q123.351 38.8167 121.452 37.4047 Q119.577 35.9695 116.059 35.9695 Q114.138 35.9695 111.939 36.3862 Q109.74 36.8029 107.101 37.6825 L107.101 33.5158 Q109.763 32.7751 112.078 32.4047 Q114.415 32.0344 116.476 32.0344 Q121.8 32.0344 124.902 34.4649 Q128.003 36.8723 128.003 40.9926 Q128.003 43.863 126.36 45.8537 Q124.716 47.8213 121.684 48.5852 Z\" fill=\"#000000\" fill-rule=\"evenodd\" fill-opacity=\"1\" /><path clip-path=\"url(#clip980)\" d=\"M147.679 35.738 Q144.068 35.738 142.239 39.3028 Q140.434 42.8445 140.434 49.9741 Q140.434 57.0805 142.239 60.6453 Q144.068 64.187 147.679 64.187 Q151.313 64.187 153.119 60.6453 Q154.948 57.0805 154.948 49.9741 Q154.948 42.8445 153.119 39.3028 Q151.313 35.738 147.679 35.738 M147.679 32.0344 Q153.489 32.0344 156.545 36.6408 Q159.624 41.2241 159.624 49.9741 Q159.624 58.7009 156.545 63.3073 Q153.489 67.8907 147.679 67.8907 Q141.869 67.8907 138.79 63.3073 Q135.735 58.7009 135.735 49.9741 Q135.735 41.2241 138.79 36.6408 Q141.869 32.0344 147.679 32.0344 Z\" fill=\"#000000\" fill-rule=\"evenodd\" fill-opacity=\"1\" /><path clip-path=\"url(#clip980)\" d=\"M177.841 35.738 Q174.23 35.738 172.401 39.3028 Q170.596 42.8445 170.596 49.9741 Q170.596 57.0805 172.401 60.6453 Q174.23 64.187 177.841 64.187 Q181.475 64.187 183.281 60.6453 Q185.11 57.0805 185.11 49.9741 Q185.11 42.8445 183.281 39.3028 Q181.475 35.738 177.841 35.738 M177.841 32.0344 Q183.651 32.0344 186.707 36.6408 Q189.785 41.2241 189.785 49.9741 Q189.785 58.7009 186.707 63.3073 Q183.651 67.8907 177.841 67.8907 Q172.031 67.8907 168.952 63.3073 Q165.897 58.7009 165.897 49.9741 Q165.897 41.2241 168.952 36.6408 Q172.031 32.0344 177.841 32.0344 Z\" fill=\"#000000\" fill-rule=\"evenodd\" fill-opacity=\"1\" /><path clip-path=\"url(#clip980)\" d=\"M12.8162 813.585 L12.8162 807.378 L42.735 796.238 L12.8162 785.098 L12.8162 778.892 L48.4642 792.26 L48.4642 800.217 L12.8162 813.585 Z\" fill=\"#000000\" fill-rule=\"evenodd\" fill-opacity=\"1\" /><path clip-path=\"url(#clip980)\" d=\"M8.77398 746.299 L14.9487 757.726 L21.1553 746.299 L24.2745 748.145 L17.8133 758.84 L29.8126 758.84 L29.8126 762.468 L17.8133 762.468 L24.2745 773.162 L21.1553 775.009 L14.9487 763.582 L8.77398 775.009 L5.62295 773.162 L12.0841 762.468 L0.0847871 762.468 L0.0847871 758.84 L12.0841 758.84 L5.62295 748.145 L8.77398 746.299 Z\" fill=\"#000000\" fill-rule=\"evenodd\" fill-opacity=\"1\" /><polyline clip-path=\"url(#clip982)\" style=\"stroke:#dc143c; stroke-linecap:butt; stroke-linejoin:round; stroke-width:6; stroke-opacity:1; fill:none\" points=\"\n",
       "  306.564,1471.17 656.937,1058.62 1007.31,740.182 1357.68,510.21 1708.06,328.64 2058.43,171.576 2408.8,123.779 2759.18,88.7176 \n",
       "  \"/>\n",
       "<path clip-path=\"url(#clip982)\" d=\"M306.564 1451.17 L286.564 1471.17 L306.564 1491.17 L326.564 1471.17 L306.564 1451.17 Z\" fill=\"#dc143c\" fill-rule=\"evenodd\" fill-opacity=\"1\" stroke=\"#000000\" stroke-opacity=\"1\" stroke-width=\"0\"/>\n",
       "<path clip-path=\"url(#clip982)\" d=\"M656.937 1038.62 L636.937 1058.62 L656.937 1078.62 L676.937 1058.62 L656.937 1038.62 Z\" fill=\"#dc143c\" fill-rule=\"evenodd\" fill-opacity=\"1\" stroke=\"#000000\" stroke-opacity=\"1\" stroke-width=\"0\"/>\n",
       "<path clip-path=\"url(#clip982)\" d=\"M1007.31 720.182 L987.311 740.182 L1007.31 760.182 L1027.31 740.182 L1007.31 720.182 Z\" fill=\"#dc143c\" fill-rule=\"evenodd\" fill-opacity=\"1\" stroke=\"#000000\" stroke-opacity=\"1\" stroke-width=\"0\"/>\n",
       "<path clip-path=\"url(#clip982)\" d=\"M1357.68 490.21 L1337.68 510.21 L1357.68 530.21 L1377.68 510.21 L1357.68 490.21 Z\" fill=\"#dc143c\" fill-rule=\"evenodd\" fill-opacity=\"1\" stroke=\"#000000\" stroke-opacity=\"1\" stroke-width=\"0\"/>\n",
       "<path clip-path=\"url(#clip982)\" d=\"M1708.06 308.64 L1688.06 328.64 L1708.06 348.64 L1728.06 328.64 L1708.06 308.64 Z\" fill=\"#dc143c\" fill-rule=\"evenodd\" fill-opacity=\"1\" stroke=\"#000000\" stroke-opacity=\"1\" stroke-width=\"0\"/>\n",
       "<path clip-path=\"url(#clip982)\" d=\"M2058.43 151.576 L2038.43 171.576 L2058.43 191.576 L2078.43 171.576 L2058.43 151.576 Z\" fill=\"#dc143c\" fill-rule=\"evenodd\" fill-opacity=\"1\" stroke=\"#000000\" stroke-opacity=\"1\" stroke-width=\"0\"/>\n",
       "<path clip-path=\"url(#clip982)\" d=\"M2408.8 103.779 L2388.8 123.779 L2408.8 143.779 L2428.8 123.779 L2408.8 103.779 Z\" fill=\"#dc143c\" fill-rule=\"evenodd\" fill-opacity=\"1\" stroke=\"#000000\" stroke-opacity=\"1\" stroke-width=\"0\"/>\n",
       "<path clip-path=\"url(#clip982)\" d=\"M2759.18 68.7176 L2739.18 88.7176 L2759.18 108.718 L2779.18 88.7176 L2759.18 68.7176 Z\" fill=\"#dc143c\" fill-rule=\"evenodd\" fill-opacity=\"1\" stroke=\"#000000\" stroke-opacity=\"1\" stroke-width=\"0\"/>\n",
       "</svg>\n"
      ]
     },
     "execution_count": 23,
     "metadata": {},
     "output_type": "execute_result"
    }
   ],
   "source": [
    "pl = plot(v, legend=false, size=(720, 420), xlabel=\"h\", ylabel=\"v*\", lw=1.5, color=:crimson, xticks=1:8, marker=:diamond, msw=0, msa=0, ms=5)"
   ]
  },
  {
   "cell_type": "code",
   "execution_count": 41,
   "id": "better-attendance",
   "metadata": {},
   "outputs": [],
   "source": [
    "savefig(pl, \"h-utility.png\")\n",
    "savefig(pl, \"h-utility.pdf\")"
   ]
  },
  {
   "cell_type": "raw",
   "id": "wanted-arnold",
   "metadata": {},
   "source": [
    " 200  0.39  4  230\n",
    " 250  0.33  2  147\n",
    " 300  0.24  6  282\n",
    " 350  0.24  1   84\n",
    " 400  0.05  7  289\n",
    " 450  0.03  8  294\n",
    " 500  0.1   5  258\n",
    " 550  0.12  3  195"
   ]
  },
  {
   "cell_type": "markdown",
   "id": "southern-payment",
   "metadata": {},
   "source": [
    "## Quasipolynomial-time algorithm for generalization with variable application costs\n",
    "\n",
    "Ellis's problem: Now $g_j$ is the cost of applying to college $c_j$; $H$ is the total application budget. The problem is\n",
    "$$\\max\\Bigl\\lbrace \\operatorname{E}[\\max\\lbrace t_j Z_j: j \\in \\mathcal{X}\\rbrace] : \\sum_{j \\in \\mathcal{X}} g_j \\leq H\\Bigr\\rbrace$$\n",
    "\n",
    "Let $V[j, h]$ denote the optimal portfolio costing no more than $h$ using only the first $j$ schools. \n",
    "\n",
    "Base cases:\n",
    "$$\n",
    "\\begin{align*}\n",
    "V[j, 0] &= 0, \\quad & j = 0\\dots m \\\\\n",
    "V[0, h] &= -\\infty, \\quad & h < 0 \\\\\n",
    "\\end{align*}\n",
    "$$\n",
    "\n",
    "Bellman equation:\n",
    "$$\n",
    "\\begin{align*}\n",
    "V[j, h] &= \\max\\bigl( V[j-1, h],~(1 - f_j) V[j-1, h-g_j] + f_j t_j \\bigr), \\quad & j = 1\\dots m, h = 1\\dots H\n",
    "\\end{align*}\n",
    "$$"
   ]
  },
  {
   "cell_type": "code",
   "execution_count": 5,
   "id": "frozen-devon",
   "metadata": {},
   "outputs": [
    {
     "data": {
      "text/plain": [
       "optimalportfolio_varcosts_recursive (generic function with 3 methods)"
      ]
     },
     "execution_count": 5,
     "metadata": {},
     "output_type": "execute_result"
    }
   ],
   "source": [
    "function valuationtable(\n",
    "        f::Vector{Float64},\n",
    "        t::Vector{Float64},\n",
    "        g::Vector{Int64},\n",
    "        H=nothing::Union{Int64, Nothing})\n",
    "    m = length(f)\n",
    "    @assert m == length(t) == length(g)\n",
    "    @assert issorted(t)\n",
    "    if isnothing(H)\n",
    "        H = sum(g)\n",
    "    else\n",
    "        @assert 0 < H\n",
    "    end\n",
    "    \n",
    "    V = zeros(m, H)\n",
    "#     U = falses(m, H)\n",
    "    for j in 1:m, h in 1:H\n",
    "        if h < g[j]\n",
    "            V[j, h] = get(V, (j-1, h), 0)\n",
    "        else\n",
    "            V[j, h] = max(\n",
    "                get(V, (j-1, h), 0),\n",
    "                (1 - f[j])*get(V, (j-1, h - g[j]), 0) + f[j] * t[j]\n",
    "            )\n",
    "        end\n",
    "    end\n",
    "    \n",
    "    h = H\n",
    "    X = Int64[]\n",
    "    for j in m:-1:1\n",
    "        if get(V, (j-1, h), 0) <  get(V, (j, h), 0)\n",
    "            push!(X, j)\n",
    "            h -= g[j]\n",
    "        end\n",
    "    end\n",
    "\n",
    "    return X, V\n",
    "end\n",
    "\n",
    "\n",
    "function optimalportfolio_varcosts_recursive(\n",
    "        f::Vector{Float64},\n",
    "        t::Vector{Float64},\n",
    "        g::Vector{Int64},\n",
    "        H=nothing::Union{Int64, Nothing},\n",
    "        memoize=true)\n",
    "    m = length(f)\n",
    "    @assert m == length(t) == length(g)\n",
    "    @assert issorted(t)\n",
    "    if isnothing(H)\n",
    "        H = sum(g)\n",
    "    else\n",
    "        @assert 0 < H\n",
    "    end\n",
    "    \n",
    "    if memoize\n",
    "        V_dict = Dict{Tuple{Int64, Int64}, Float64}()\n",
    "    end\n",
    "    \n",
    "    function V(j, h)\n",
    "        if memoize && haskey(V_dict, (j, h))\n",
    "            return V_dict[(j, h)]\n",
    "        end\n",
    "        \n",
    "        if j == 0 || h == 0\n",
    "            return 0.0\n",
    "        elseif h < g[j]\n",
    "            if memoize\n",
    "                push!(V_dict, (j, h)=>V(j-1, h))\n",
    "                return V_dict[(j, h)]\n",
    "            else\n",
    "                return V(j-1, h)\n",
    "            end\n",
    "        else\n",
    "            if memoize\n",
    "                push!(V_dict, (j, h)=>max(\n",
    "                    V(j-1, h),\n",
    "                    (1 - f[j]) * V(j-1, h - g[j]) + f[j] * t[j]\n",
    "                ))\n",
    "                return V_dict[(j, h)]\n",
    "            else\n",
    "                return max(\n",
    "                    V(j-1, h),\n",
    "                    (1 - f[j]) * V(j-1, h - g[j]) + f[j] * t[j]\n",
    "                )\n",
    "            end\n",
    "        end\n",
    "    end\n",
    "    \n",
    "    h = H\n",
    "    X = Int64[]\n",
    "    \n",
    "    if memoize\n",
    "        v = V(m, H)\n",
    "    end\n",
    "        \n",
    "    for j in m:-1:1\n",
    "        if V(j-1, h) < V(j, h)\n",
    "            push!(X, j)\n",
    "            h -= g[j]\n",
    "        end\n",
    "    end\n",
    "    \n",
    "    if memoize\n",
    "        return X, v\n",
    "    else\n",
    "        return X, valuation(X, f, t)\n",
    "    end\n",
    "end"
   ]
  },
  {
   "cell_type": "markdown",
   "id": "reduced-improvement",
   "metadata": {},
   "source": [
    "Solve an instance with all $g_j = 1$ and make sure it agrees with solution from above."
   ]
  },
  {
   "cell_type": "code",
   "execution_count": 6,
   "id": "backed-belarus",
   "metadata": {},
   "outputs": [
    {
     "data": {
      "text/plain": [
       "5×3 Matrix{Int64}:\n",
       "  6   6   6\n",
       "  7   7   7\n",
       "  8   8   8\n",
       "  9   9   9\n",
       " 10  10  10"
      ]
     },
     "metadata": {},
     "output_type": "display_data"
    },
    {
     "data": {
      "text/plain": [
       "(0.7224205867832922, 0.7224205867832922, 0.7224205867832922)"
      ]
     },
     "execution_count": 6,
     "metadata": {},
     "output_type": "execute_result"
    }
   ],
   "source": [
    "m = 10\n",
    "\n",
    "φ = 0.7\n",
    "t = rand(m) |> sort\n",
    "f = 1 .- (φ*t + (1-φ)*rand(m))\n",
    "g = ones(Int64, m)\n",
    "h = m ÷ 2\n",
    "\n",
    "X, V = valuationtable(f, t, g, h)\n",
    "sort!(X)\n",
    "X_, v_ = optimalportfolio_varcosts_recursive(f, t, g, h)\n",
    "sort!(X_)\n",
    "X__, V__ = applicationorder(f, t, h)\n",
    "sort!(X__)\n",
    "display([X X_ X__])\n",
    "V[end, end], v_, V__[h]"
   ]
  },
  {
   "cell_type": "markdown",
   "id": "double-guest",
   "metadata": {},
   "source": [
    "Make sure the table form and recursive form agree with each other."
   ]
  },
  {
   "cell_type": "code",
   "execution_count": 7,
   "id": "statewide-saskatchewan",
   "metadata": {},
   "outputs": [
    {
     "data": {
      "text/plain": [
       "10×10 Matrix{Float64}:\n",
       " 0.0       0.0       0.0       0.0       …  0.135877  0.135877  0.135877\n",
       " 0.0       0.1604    0.1604    0.1604       0.1816    0.1816    0.1816\n",
       " 0.0       0.1604    0.182886  0.182886     0.251901  0.251901  0.261023\n",
       " 0.177317  0.177317  0.260453  0.272107     0.307878  0.307878  0.307878\n",
       " 0.177317  0.177317  0.260453  0.272107     0.357012  0.357012  0.379856\n",
       " 0.177317  0.32009   0.411142  0.411142  …  0.478186  0.499594  0.503416\n",
       " 0.177317  0.32009   0.411142  0.411142     0.519003  0.519003  0.545844\n",
       " 0.177317  0.32009   0.411142  0.411142     0.519003  0.519003  0.545844\n",
       " 0.314754  0.42391   0.5118    0.567852     0.60552   0.634251  0.634251\n",
       " 0.314754  0.42391   0.5118    0.567852     0.667107  0.686277  0.688964"
      ]
     },
     "metadata": {},
     "output_type": "display_data"
    },
    {
     "data": {
      "text/plain": [
       "5×4 Matrix{Int64}:\n",
       "  3  3   3  3\n",
       "  4  1   4  1\n",
       "  6  2   6  2\n",
       "  9  1   9  1\n",
       " 10  3  10  3"
      ]
     },
     "metadata": {},
     "output_type": "display_data"
    },
    {
     "name": "stdout",
     "output_type": "stream",
     "text": [
      "g = [5, 2, 3, 1, 4, 2, 5, 5, 1, 3]\n",
      "H = 10\n",
      "(V[end, end], v_) = (0.6889641367029831, 0.6889641367029831)\n"
     ]
    },
    {
     "data": {
      "text/plain": [
       "(0.6889641367029831, 0.6889641367029831)"
      ]
     },
     "execution_count": 7,
     "metadata": {},
     "output_type": "execute_result"
    }
   ],
   "source": [
    "m = 10\n",
    "\n",
    "φ = 0.7\n",
    "t = rand(m) |> sort\n",
    "f = 1 .- (φ*t + (1-φ)*rand(m))\n",
    "g = rand(1:5, m)\n",
    "H = sum(g) ÷ 3\n",
    "\n",
    "@show g\n",
    "@show H\n",
    "\n",
    "X, V = valuationtable(f, t, g, H)\n",
    "display(V)\n",
    "sort!(X)\n",
    "\n",
    "X_, v_ = optimalportfolio_varcosts_recursive(f, t, g, H, true)\n",
    "sort!(X_)\n",
    "display([X g[X] X_ g[X_]])\n",
    "\n",
    "@show V[end, end], v_"
   ]
  },
  {
   "cell_type": "markdown",
   "id": "knowing-chicago",
   "metadata": {},
   "source": [
    "## Tight example\n",
    "\n",
    "Tight example for bound $v(\\mathcal{Y}) \\geq v(\\mathcal{X}) /h$, where $\\mathcal{Y}$ is the naive solution."
   ]
  },
  {
   "cell_type": "code",
   "execution_count": 6,
   "id": "north-density",
   "metadata": {},
   "outputs": [
    {
     "name": "stdout",
     "output_type": "stream",
     "text": [
      "[1.0, 2.0, 3.0, 4.0, 5.0, 6.0, 7.0, 8.0, 9.0, 10.0, 11.0, 12.0, 13.0, 14.0, 15.0, 16.0, 17.0, 18.0, 19.0, 20.0, 21.0, 22.0, 23.0, 24.0, 25.0, 26.0, 27.0, 28.0, 29.0, 30.0, 31.0, 32.0, 33.0, 34.0, 35.0, 36.0, 37.0, 38.0, 39.0, 40.0, 41.0, 42.0, 43.0, 44.0, 45.0, 46.0, 47.0, 48.0, 49.0, 50.0, 51.0, 52.0, 53.0, 54.0, 55.0, 56.0, 57.0, 58.0, 59.0, 60.0, 61.0, 62.0, 63.0, 64.0, 65.0, 66.0, 67.0, 68.0, 69.0, 70.0, 71.0, 72.0, 73.0, 74.0, 75.0, 76.0, 77.0, 78.0, 79.0, 80.0, 81.0, 82.0, 83.0, 84.0, 85.0, 86.0, 87.0, 88.0, 89.0, 90.0, 91.0, 92.0, 93.0, 94.0, 95.0, 96.0, 97.0, 98.0, 99.0, 100.0]\n"
     ]
    },
    {
     "data": {
      "image/svg+xml": [
       "<?xml version=\"1.0\" encoding=\"utf-8\"?>\n",
       "<svg xmlns=\"http://www.w3.org/2000/svg\" xmlns:xlink=\"http://www.w3.org/1999/xlink\" width=\"600\" height=\"400\" viewBox=\"0 0 2400 1600\">\n",
       "<defs>\n",
       "  <clipPath id=\"clip060\">\n",
       "    <rect x=\"0\" y=\"0\" width=\"2400\" height=\"1600\"/>\n",
       "  </clipPath>\n",
       "</defs>\n",
       "<path clip-path=\"url(#clip060)\" d=\"\n",
       "M0 1600 L2400 1600 L2400 0 L0 0  Z\n",
       "  \" fill=\"#ffffff\" fill-rule=\"evenodd\" fill-opacity=\"1\"/>\n",
       "<defs>\n",
       "  <clipPath id=\"clip061\">\n",
       "    <rect x=\"480\" y=\"0\" width=\"1681\" height=\"1600\"/>\n",
       "  </clipPath>\n",
       "</defs>\n",
       "<path clip-path=\"url(#clip060)\" d=\"\n",
       "M186.274 1486.45 L2352.76 1486.45 L2352.76 47.2441 L186.274 47.2441  Z\n",
       "  \" fill=\"#ffffff\" fill-rule=\"evenodd\" fill-opacity=\"1\"/>\n",
       "<defs>\n",
       "  <clipPath id=\"clip062\">\n",
       "    <rect x=\"186\" y=\"47\" width=\"2167\" height=\"1440\"/>\n",
       "  </clipPath>\n",
       "</defs>\n",
       "<polyline clip-path=\"url(#clip062)\" style=\"stroke:#000000; stroke-linecap:butt; stroke-linejoin:round; stroke-width:2; stroke-opacity:0.1; fill:none\" points=\"\n",
       "  226.945,1486.45 226.945,47.2441 \n",
       "  \"/>\n",
       "<polyline clip-path=\"url(#clip062)\" style=\"stroke:#000000; stroke-linecap:butt; stroke-linejoin:round; stroke-width:2; stroke-opacity:0.1; fill:none\" points=\"\n",
       "  743.069,1486.45 743.069,47.2441 \n",
       "  \"/>\n",
       "<polyline clip-path=\"url(#clip062)\" style=\"stroke:#000000; stroke-linecap:butt; stroke-linejoin:round; stroke-width:2; stroke-opacity:0.1; fill:none\" points=\"\n",
       "  1259.19,1486.45 1259.19,47.2441 \n",
       "  \"/>\n",
       "<polyline clip-path=\"url(#clip062)\" style=\"stroke:#000000; stroke-linecap:butt; stroke-linejoin:round; stroke-width:2; stroke-opacity:0.1; fill:none\" points=\"\n",
       "  1775.32,1486.45 1775.32,47.2441 \n",
       "  \"/>\n",
       "<polyline clip-path=\"url(#clip062)\" style=\"stroke:#000000; stroke-linecap:butt; stroke-linejoin:round; stroke-width:2; stroke-opacity:0.1; fill:none\" points=\"\n",
       "  2291.44,1486.45 2291.44,47.2441 \n",
       "  \"/>\n",
       "<polyline clip-path=\"url(#clip060)\" style=\"stroke:#000000; stroke-linecap:butt; stroke-linejoin:round; stroke-width:4; stroke-opacity:1; fill:none\" points=\"\n",
       "  186.274,1486.45 2352.76,1486.45 \n",
       "  \"/>\n",
       "<polyline clip-path=\"url(#clip060)\" style=\"stroke:#000000; stroke-linecap:butt; stroke-linejoin:round; stroke-width:4; stroke-opacity:1; fill:none\" points=\"\n",
       "  226.945,1486.45 226.945,1469.18 \n",
       "  \"/>\n",
       "<polyline clip-path=\"url(#clip060)\" style=\"stroke:#000000; stroke-linecap:butt; stroke-linejoin:round; stroke-width:4; stroke-opacity:1; fill:none\" points=\"\n",
       "  743.069,1486.45 743.069,1469.18 \n",
       "  \"/>\n",
       "<polyline clip-path=\"url(#clip060)\" style=\"stroke:#000000; stroke-linecap:butt; stroke-linejoin:round; stroke-width:4; stroke-opacity:1; fill:none\" points=\"\n",
       "  1259.19,1486.45 1259.19,1469.18 \n",
       "  \"/>\n",
       "<polyline clip-path=\"url(#clip060)\" style=\"stroke:#000000; stroke-linecap:butt; stroke-linejoin:round; stroke-width:4; stroke-opacity:1; fill:none\" points=\"\n",
       "  1775.32,1486.45 1775.32,1469.18 \n",
       "  \"/>\n",
       "<polyline clip-path=\"url(#clip060)\" style=\"stroke:#000000; stroke-linecap:butt; stroke-linejoin:round; stroke-width:4; stroke-opacity:1; fill:none\" points=\"\n",
       "  2291.44,1486.45 2291.44,1469.18 \n",
       "  \"/>\n",
       "<path clip-path=\"url(#clip060)\" d=\"M226.945 1515.64 Q223.333 1515.64 221.505 1519.2 Q219.699 1522.75 219.699 1529.87 Q219.699 1536.98 221.505 1540.55 Q223.333 1544.09 226.945 1544.09 Q230.579 1544.09 232.384 1540.55 Q234.213 1536.98 234.213 1529.87 Q234.213 1522.75 232.384 1519.2 Q230.579 1515.64 226.945 1515.64 M226.945 1511.93 Q232.755 1511.93 235.81 1516.54 Q238.889 1521.12 238.889 1529.87 Q238.889 1538.6 235.81 1543.21 Q232.755 1547.79 226.945 1547.79 Q221.134 1547.79 218.056 1543.21 Q215 1538.6 215 1529.87 Q215 1521.12 218.056 1516.54 Q221.134 1511.93 226.945 1511.93 Z\" fill=\"#000000\" fill-rule=\"evenodd\" fill-opacity=\"1\" /><path clip-path=\"url(#clip060)\" d=\"M722.339 1543.18 L738.659 1543.18 L738.659 1547.12 L716.714 1547.12 L716.714 1543.18 Q719.377 1540.43 723.96 1535.8 Q728.566 1531.15 729.747 1529.81 Q731.992 1527.28 732.872 1525.55 Q733.775 1523.79 733.775 1522.1 Q733.775 1519.34 731.83 1517.61 Q729.909 1515.87 726.807 1515.87 Q724.608 1515.87 722.154 1516.63 Q719.724 1517.4 716.946 1518.95 L716.946 1514.23 Q719.77 1513.09 722.224 1512.51 Q724.677 1511.93 726.714 1511.93 Q732.085 1511.93 735.279 1514.62 Q738.474 1517.31 738.474 1521.8 Q738.474 1523.93 737.663 1525.85 Q736.876 1527.74 734.77 1530.34 Q734.191 1531.01 731.089 1534.23 Q727.988 1537.42 722.339 1543.18 Z\" fill=\"#000000\" fill-rule=\"evenodd\" fill-opacity=\"1\" /><path clip-path=\"url(#clip060)\" d=\"M748.52 1512.56 L766.876 1512.56 L766.876 1516.5 L752.802 1516.5 L752.802 1524.97 Q753.821 1524.62 754.839 1524.46 Q755.858 1524.27 756.876 1524.27 Q762.663 1524.27 766.043 1527.44 Q769.423 1530.62 769.423 1536.03 Q769.423 1541.61 765.95 1544.71 Q762.478 1547.79 756.159 1547.79 Q753.983 1547.79 751.714 1547.42 Q749.469 1547.05 747.062 1546.31 L747.062 1541.61 Q749.145 1542.74 751.367 1543.3 Q753.589 1543.86 756.066 1543.86 Q760.071 1543.86 762.409 1541.75 Q764.747 1539.64 764.747 1536.03 Q764.747 1532.42 762.409 1530.31 Q760.071 1528.21 756.066 1528.21 Q754.191 1528.21 752.316 1528.62 Q750.464 1529.04 748.52 1529.92 L748.52 1512.56 Z\" fill=\"#000000\" fill-rule=\"evenodd\" fill-opacity=\"1\" /><path clip-path=\"url(#clip060)\" d=\"M1233.89 1512.56 L1252.25 1512.56 L1252.25 1516.5 L1238.17 1516.5 L1238.17 1524.97 Q1239.19 1524.62 1240.21 1524.46 Q1241.23 1524.27 1242.25 1524.27 Q1248.04 1524.27 1251.41 1527.44 Q1254.79 1530.62 1254.79 1536.03 Q1254.79 1541.61 1251.32 1544.71 Q1247.85 1547.79 1241.53 1547.79 Q1239.35 1547.79 1237.09 1547.42 Q1234.84 1547.05 1232.43 1546.31 L1232.43 1541.61 Q1234.52 1542.74 1236.74 1543.3 Q1238.96 1543.86 1241.44 1543.86 Q1245.44 1543.86 1247.78 1541.75 Q1250.12 1539.64 1250.12 1536.03 Q1250.12 1532.42 1247.78 1530.31 Q1245.44 1528.21 1241.44 1528.21 Q1239.56 1528.21 1237.69 1528.62 Q1235.84 1529.04 1233.89 1529.92 L1233.89 1512.56 Z\" fill=\"#000000\" fill-rule=\"evenodd\" fill-opacity=\"1\" /><path clip-path=\"url(#clip060)\" d=\"M1274.01 1515.64 Q1270.4 1515.64 1268.57 1519.2 Q1266.76 1522.75 1266.76 1529.87 Q1266.76 1536.98 1268.57 1540.55 Q1270.4 1544.09 1274.01 1544.09 Q1277.64 1544.09 1279.45 1540.55 Q1281.28 1536.98 1281.28 1529.87 Q1281.28 1522.75 1279.45 1519.2 Q1277.64 1515.64 1274.01 1515.64 M1274.01 1511.93 Q1279.82 1511.93 1282.87 1516.54 Q1285.95 1521.12 1285.95 1529.87 Q1285.95 1538.6 1282.87 1543.21 Q1279.82 1547.79 1274.01 1547.79 Q1268.2 1547.79 1265.12 1543.21 Q1262.06 1538.6 1262.06 1529.87 Q1262.06 1521.12 1265.12 1516.54 Q1268.2 1511.93 1274.01 1511.93 Z\" fill=\"#000000\" fill-rule=\"evenodd\" fill-opacity=\"1\" /><path clip-path=\"url(#clip060)\" d=\"M1749.17 1512.56 L1771.39 1512.56 L1771.39 1514.55 L1758.85 1547.12 L1753.96 1547.12 L1765.77 1516.5 L1749.17 1516.5 L1749.17 1512.56 Z\" fill=\"#000000\" fill-rule=\"evenodd\" fill-opacity=\"1\" /><path clip-path=\"url(#clip060)\" d=\"M1780.56 1512.56 L1798.92 1512.56 L1798.92 1516.5 L1784.84 1516.5 L1784.84 1524.97 Q1785.86 1524.62 1786.88 1524.46 Q1787.9 1524.27 1788.92 1524.27 Q1794.7 1524.27 1798.08 1527.44 Q1801.46 1530.62 1801.46 1536.03 Q1801.46 1541.61 1797.99 1544.71 Q1794.52 1547.79 1788.2 1547.79 Q1786.02 1547.79 1783.75 1547.42 Q1781.51 1547.05 1779.1 1546.31 L1779.1 1541.61 Q1781.18 1542.74 1783.41 1543.3 Q1785.63 1543.86 1788.11 1543.86 Q1792.11 1543.86 1794.45 1541.75 Q1796.79 1539.64 1796.79 1536.03 Q1796.79 1532.42 1794.45 1530.31 Q1792.11 1528.21 1788.11 1528.21 Q1786.23 1528.21 1784.36 1528.62 Q1782.5 1529.04 1780.56 1529.92 L1780.56 1512.56 Z\" fill=\"#000000\" fill-rule=\"evenodd\" fill-opacity=\"1\" /><path clip-path=\"url(#clip060)\" d=\"M2251.05 1543.18 L2258.69 1543.18 L2258.69 1516.82 L2250.38 1518.49 L2250.38 1514.23 L2258.64 1512.56 L2263.32 1512.56 L2263.32 1543.18 L2270.95 1543.18 L2270.95 1547.12 L2251.05 1547.12 L2251.05 1543.18 Z\" fill=\"#000000\" fill-rule=\"evenodd\" fill-opacity=\"1\" /><path clip-path=\"url(#clip060)\" d=\"M2290.4 1515.64 Q2286.79 1515.64 2284.96 1519.2 Q2283.15 1522.75 2283.15 1529.87 Q2283.15 1536.98 2284.96 1540.55 Q2286.79 1544.09 2290.4 1544.09 Q2294.03 1544.09 2295.84 1540.55 Q2297.67 1536.98 2297.67 1529.87 Q2297.67 1522.75 2295.84 1519.2 Q2294.03 1515.64 2290.4 1515.64 M2290.4 1511.93 Q2296.21 1511.93 2299.26 1516.54 Q2302.34 1521.12 2302.34 1529.87 Q2302.34 1538.6 2299.26 1543.21 Q2296.21 1547.79 2290.4 1547.79 Q2284.59 1547.79 2281.51 1543.21 Q2278.45 1538.6 2278.45 1529.87 Q2278.45 1521.12 2281.51 1516.54 Q2284.59 1511.93 2290.4 1511.93 Z\" fill=\"#000000\" fill-rule=\"evenodd\" fill-opacity=\"1\" /><path clip-path=\"url(#clip060)\" d=\"M2320.56 1515.64 Q2316.95 1515.64 2315.12 1519.2 Q2313.32 1522.75 2313.32 1529.87 Q2313.32 1536.98 2315.12 1540.55 Q2316.95 1544.09 2320.56 1544.09 Q2324.19 1544.09 2326 1540.55 Q2327.83 1536.98 2327.83 1529.87 Q2327.83 1522.75 2326 1519.2 Q2324.19 1515.64 2320.56 1515.64 M2320.56 1511.93 Q2326.37 1511.93 2329.43 1516.54 Q2332.5 1521.12 2332.5 1529.87 Q2332.5 1538.6 2329.43 1543.21 Q2326.37 1547.79 2320.56 1547.79 Q2314.75 1547.79 2311.67 1543.21 Q2308.62 1538.6 2308.62 1529.87 Q2308.62 1521.12 2311.67 1516.54 Q2314.75 1511.93 2320.56 1511.93 Z\" fill=\"#000000\" fill-rule=\"evenodd\" fill-opacity=\"1\" /><polyline clip-path=\"url(#clip062)\" style=\"stroke:#000000; stroke-linecap:butt; stroke-linejoin:round; stroke-width:2; stroke-opacity:0.1; fill:none\" points=\"\n",
       "  186.274,1459.43 2352.76,1459.43 \n",
       "  \"/>\n",
       "<polyline clip-path=\"url(#clip062)\" style=\"stroke:#000000; stroke-linecap:butt; stroke-linejoin:round; stroke-width:2; stroke-opacity:0.1; fill:none\" points=\"\n",
       "  186.274,1116.57 2352.76,1116.57 \n",
       "  \"/>\n",
       "<polyline clip-path=\"url(#clip062)\" style=\"stroke:#000000; stroke-linecap:butt; stroke-linejoin:round; stroke-width:2; stroke-opacity:0.1; fill:none\" points=\"\n",
       "  186.274,773.703 2352.76,773.703 \n",
       "  \"/>\n",
       "<polyline clip-path=\"url(#clip062)\" style=\"stroke:#000000; stroke-linecap:butt; stroke-linejoin:round; stroke-width:2; stroke-opacity:0.1; fill:none\" points=\"\n",
       "  186.274,430.84 2352.76,430.84 \n",
       "  \"/>\n",
       "<polyline clip-path=\"url(#clip062)\" style=\"stroke:#000000; stroke-linecap:butt; stroke-linejoin:round; stroke-width:2; stroke-opacity:0.1; fill:none\" points=\"\n",
       "  186.274,87.9763 2352.76,87.9763 \n",
       "  \"/>\n",
       "<polyline clip-path=\"url(#clip060)\" style=\"stroke:#000000; stroke-linecap:butt; stroke-linejoin:round; stroke-width:4; stroke-opacity:1; fill:none\" points=\"\n",
       "  186.274,1486.45 186.274,47.2441 \n",
       "  \"/>\n",
       "<polyline clip-path=\"url(#clip060)\" style=\"stroke:#000000; stroke-linecap:butt; stroke-linejoin:round; stroke-width:4; stroke-opacity:1; fill:none\" points=\"\n",
       "  186.274,1459.43 212.272,1459.43 \n",
       "  \"/>\n",
       "<polyline clip-path=\"url(#clip060)\" style=\"stroke:#000000; stroke-linecap:butt; stroke-linejoin:round; stroke-width:4; stroke-opacity:1; fill:none\" points=\"\n",
       "  186.274,1116.57 212.272,1116.57 \n",
       "  \"/>\n",
       "<polyline clip-path=\"url(#clip060)\" style=\"stroke:#000000; stroke-linecap:butt; stroke-linejoin:round; stroke-width:4; stroke-opacity:1; fill:none\" points=\"\n",
       "  186.274,773.703 212.272,773.703 \n",
       "  \"/>\n",
       "<polyline clip-path=\"url(#clip060)\" style=\"stroke:#000000; stroke-linecap:butt; stroke-linejoin:round; stroke-width:4; stroke-opacity:1; fill:none\" points=\"\n",
       "  186.274,430.84 212.272,430.84 \n",
       "  \"/>\n",
       "<polyline clip-path=\"url(#clip060)\" style=\"stroke:#000000; stroke-linecap:butt; stroke-linejoin:round; stroke-width:4; stroke-opacity:1; fill:none\" points=\"\n",
       "  186.274,87.9763 212.272,87.9763 \n",
       "  \"/>\n",
       "<path clip-path=\"url(#clip060)\" d=\"M62.9365 1445.23 Q59.3254 1445.23 57.4967 1448.79 Q55.6912 1452.34 55.6912 1459.46 Q55.6912 1466.57 57.4967 1470.14 Q59.3254 1473.68 62.9365 1473.68 Q66.5707 1473.68 68.3763 1470.14 Q70.205 1466.57 70.205 1459.46 Q70.205 1452.34 68.3763 1448.79 Q66.5707 1445.23 62.9365 1445.23 M62.9365 1441.53 Q68.7467 1441.53 71.8022 1446.13 Q74.8809 1450.72 74.8809 1459.46 Q74.8809 1468.19 71.8022 1472.8 Q68.7467 1477.38 62.9365 1477.38 Q57.1264 1477.38 54.0477 1472.8 Q50.9921 1468.19 50.9921 1459.46 Q50.9921 1450.72 54.0477 1446.13 Q57.1264 1441.53 62.9365 1441.53 Z\" fill=\"#000000\" fill-rule=\"evenodd\" fill-opacity=\"1\" /><path clip-path=\"url(#clip060)\" d=\"M83.0984 1470.83 L87.9827 1470.83 L87.9827 1476.71 L83.0984 1476.71 L83.0984 1470.83 Z\" fill=\"#000000\" fill-rule=\"evenodd\" fill-opacity=\"1\" /><path clip-path=\"url(#clip060)\" d=\"M108.168 1445.23 Q104.557 1445.23 102.728 1448.79 Q100.922 1452.34 100.922 1459.46 Q100.922 1466.57 102.728 1470.14 Q104.557 1473.68 108.168 1473.68 Q111.802 1473.68 113.608 1470.14 Q115.436 1466.57 115.436 1459.46 Q115.436 1452.34 113.608 1448.79 Q111.802 1445.23 108.168 1445.23 M108.168 1441.53 Q113.978 1441.53 117.033 1446.13 Q120.112 1450.72 120.112 1459.46 Q120.112 1468.19 117.033 1472.8 Q113.978 1477.38 108.168 1477.38 Q102.358 1477.38 99.2789 1472.8 Q96.2234 1468.19 96.2234 1459.46 Q96.2234 1450.72 99.2789 1446.13 Q102.358 1441.53 108.168 1441.53 Z\" fill=\"#000000\" fill-rule=\"evenodd\" fill-opacity=\"1\" /><path clip-path=\"url(#clip060)\" d=\"M138.33 1445.23 Q134.719 1445.23 132.89 1448.79 Q131.084 1452.34 131.084 1459.46 Q131.084 1466.57 132.89 1470.14 Q134.719 1473.68 138.33 1473.68 Q141.964 1473.68 143.769 1470.14 Q145.598 1466.57 145.598 1459.46 Q145.598 1452.34 143.769 1448.79 Q141.964 1445.23 138.33 1445.23 M138.33 1441.53 Q144.14 1441.53 147.195 1446.13 Q150.274 1450.72 150.274 1459.46 Q150.274 1468.19 147.195 1472.8 Q144.14 1477.38 138.33 1477.38 Q132.519 1477.38 129.441 1472.8 Q126.385 1468.19 126.385 1459.46 Q126.385 1450.72 129.441 1446.13 Q132.519 1441.53 138.33 1441.53 Z\" fill=\"#000000\" fill-rule=\"evenodd\" fill-opacity=\"1\" /><path clip-path=\"url(#clip060)\" d=\"M63.9319 1102.37 Q60.3208 1102.37 58.4921 1105.93 Q56.6865 1109.47 56.6865 1116.6 Q56.6865 1123.71 58.4921 1127.27 Q60.3208 1130.81 63.9319 1130.81 Q67.5661 1130.81 69.3717 1127.27 Q71.2004 1123.71 71.2004 1116.6 Q71.2004 1109.47 69.3717 1105.93 Q67.5661 1102.37 63.9319 1102.37 M63.9319 1098.66 Q69.742 1098.66 72.7976 1103.27 Q75.8763 1107.85 75.8763 1116.6 Q75.8763 1125.33 72.7976 1129.93 Q69.742 1134.52 63.9319 1134.52 Q58.1217 1134.52 55.043 1129.93 Q51.9875 1125.33 51.9875 1116.6 Q51.9875 1107.85 55.043 1103.27 Q58.1217 1098.66 63.9319 1098.66 Z\" fill=\"#000000\" fill-rule=\"evenodd\" fill-opacity=\"1\" /><path clip-path=\"url(#clip060)\" d=\"M84.0938 1127.97 L88.978 1127.97 L88.978 1133.85 L84.0938 1133.85 L84.0938 1127.97 Z\" fill=\"#000000\" fill-rule=\"evenodd\" fill-opacity=\"1\" /><path clip-path=\"url(#clip060)\" d=\"M103.191 1129.91 L119.51 1129.91 L119.51 1133.85 L97.566 1133.85 L97.566 1129.91 Q100.228 1127.16 104.811 1122.53 Q109.418 1117.87 110.598 1116.53 Q112.844 1114.01 113.723 1112.27 Q114.626 1110.51 114.626 1108.82 Q114.626 1106.07 112.682 1104.33 Q110.76 1102.6 107.658 1102.6 Q105.459 1102.6 103.006 1103.36 Q100.575 1104.12 97.7974 1105.68 L97.7974 1100.95 Q100.621 1099.82 103.075 1099.24 Q105.529 1098.66 107.566 1098.66 Q112.936 1098.66 116.131 1101.35 Q119.325 1104.03 119.325 1108.52 Q119.325 1110.65 118.515 1112.57 Q117.728 1114.47 115.621 1117.06 Q115.043 1117.74 111.941 1120.95 Q108.839 1124.15 103.191 1129.91 Z\" fill=\"#000000\" fill-rule=\"evenodd\" fill-opacity=\"1\" /><path clip-path=\"url(#clip060)\" d=\"M129.371 1099.29 L147.728 1099.29 L147.728 1103.22 L133.654 1103.22 L133.654 1111.69 Q134.672 1111.35 135.691 1111.18 Q136.709 1111 137.728 1111 Q143.515 1111 146.894 1114.17 Q150.274 1117.34 150.274 1122.76 Q150.274 1128.34 146.802 1131.44 Q143.33 1134.52 137.01 1134.52 Q134.834 1134.52 132.566 1134.15 Q130.32 1133.78 127.913 1133.04 L127.913 1128.34 Q129.996 1129.47 132.219 1130.03 Q134.441 1130.58 136.918 1130.58 Q140.922 1130.58 143.26 1128.48 Q145.598 1126.37 145.598 1122.76 Q145.598 1119.15 143.26 1117.04 Q140.922 1114.93 136.918 1114.93 Q135.043 1114.93 133.168 1115.35 Q131.316 1115.77 129.371 1116.65 L129.371 1099.29 Z\" fill=\"#000000\" fill-rule=\"evenodd\" fill-opacity=\"1\" /><path clip-path=\"url(#clip060)\" d=\"M62.9365 759.502 Q59.3254 759.502 57.4967 763.067 Q55.6912 766.608 55.6912 773.738 Q55.6912 780.844 57.4967 784.409 Q59.3254 787.951 62.9365 787.951 Q66.5707 787.951 68.3763 784.409 Q70.205 780.844 70.205 773.738 Q70.205 766.608 68.3763 763.067 Q66.5707 759.502 62.9365 759.502 M62.9365 755.798 Q68.7467 755.798 71.8022 760.405 Q74.8809 764.988 74.8809 773.738 Q74.8809 782.465 71.8022 787.071 Q68.7467 791.655 62.9365 791.655 Q57.1264 791.655 54.0477 787.071 Q50.9921 782.465 50.9921 773.738 Q50.9921 764.988 54.0477 760.405 Q57.1264 755.798 62.9365 755.798 Z\" fill=\"#000000\" fill-rule=\"evenodd\" fill-opacity=\"1\" /><path clip-path=\"url(#clip060)\" d=\"M83.0984 785.104 L87.9827 785.104 L87.9827 790.983 L83.0984 790.983 L83.0984 785.104 Z\" fill=\"#000000\" fill-rule=\"evenodd\" fill-opacity=\"1\" /><path clip-path=\"url(#clip060)\" d=\"M98.2141 756.423 L116.57 756.423 L116.57 760.358 L102.496 760.358 L102.496 768.831 Q103.515 768.483 104.534 768.321 Q105.552 768.136 106.571 768.136 Q112.358 768.136 115.737 771.307 Q119.117 774.479 119.117 779.895 Q119.117 785.474 115.645 788.576 Q112.172 791.655 105.853 791.655 Q103.677 791.655 101.409 791.284 Q99.1632 790.914 96.7558 790.173 L96.7558 785.474 Q98.8391 786.608 101.061 787.164 Q103.284 787.719 105.76 787.719 Q109.765 787.719 112.103 785.613 Q114.441 783.506 114.441 779.895 Q114.441 776.284 112.103 774.178 Q109.765 772.071 105.76 772.071 Q103.885 772.071 102.01 772.488 Q100.159 772.905 98.2141 773.784 L98.2141 756.423 Z\" fill=\"#000000\" fill-rule=\"evenodd\" fill-opacity=\"1\" /><path clip-path=\"url(#clip060)\" d=\"M138.33 759.502 Q134.719 759.502 132.89 763.067 Q131.084 766.608 131.084 773.738 Q131.084 780.844 132.89 784.409 Q134.719 787.951 138.33 787.951 Q141.964 787.951 143.769 784.409 Q145.598 780.844 145.598 773.738 Q145.598 766.608 143.769 763.067 Q141.964 759.502 138.33 759.502 M138.33 755.798 Q144.14 755.798 147.195 760.405 Q150.274 764.988 150.274 773.738 Q150.274 782.465 147.195 787.071 Q144.14 791.655 138.33 791.655 Q132.519 791.655 129.441 787.071 Q126.385 782.465 126.385 773.738 Q126.385 764.988 129.441 760.405 Q132.519 755.798 138.33 755.798 Z\" fill=\"#000000\" fill-rule=\"evenodd\" fill-opacity=\"1\" /><path clip-path=\"url(#clip060)\" d=\"M63.9319 416.638 Q60.3208 416.638 58.4921 420.203 Q56.6865 423.745 56.6865 430.874 Q56.6865 437.981 58.4921 441.546 Q60.3208 445.087 63.9319 445.087 Q67.5661 445.087 69.3717 441.546 Q71.2004 437.981 71.2004 430.874 Q71.2004 423.745 69.3717 420.203 Q67.5661 416.638 63.9319 416.638 M63.9319 412.935 Q69.742 412.935 72.7976 417.541 Q75.8763 422.125 75.8763 430.874 Q75.8763 439.601 72.7976 444.208 Q69.742 448.791 63.9319 448.791 Q58.1217 448.791 55.043 444.208 Q51.9875 439.601 51.9875 430.874 Q51.9875 422.125 55.043 417.541 Q58.1217 412.935 63.9319 412.935 Z\" fill=\"#000000\" fill-rule=\"evenodd\" fill-opacity=\"1\" /><path clip-path=\"url(#clip060)\" d=\"M84.0938 442.24 L88.978 442.24 L88.978 448.12 L84.0938 448.12 L84.0938 442.24 Z\" fill=\"#000000\" fill-rule=\"evenodd\" fill-opacity=\"1\" /><path clip-path=\"url(#clip060)\" d=\"M97.9826 413.56 L120.205 413.56 L120.205 415.55 L107.658 448.12 L102.774 448.12 L114.58 417.495 L97.9826 417.495 L97.9826 413.56 Z\" fill=\"#000000\" fill-rule=\"evenodd\" fill-opacity=\"1\" /><path clip-path=\"url(#clip060)\" d=\"M129.371 413.56 L147.728 413.56 L147.728 417.495 L133.654 417.495 L133.654 425.967 Q134.672 425.62 135.691 425.458 Q136.709 425.273 137.728 425.273 Q143.515 425.273 146.894 428.444 Q150.274 431.615 150.274 437.032 Q150.274 442.611 146.802 445.712 Q143.33 448.791 137.01 448.791 Q134.834 448.791 132.566 448.421 Q130.32 448.05 127.913 447.31 L127.913 442.611 Q129.996 443.745 132.219 444.3 Q134.441 444.856 136.918 444.856 Q140.922 444.856 143.26 442.749 Q145.598 440.643 145.598 437.032 Q145.598 433.421 143.26 431.314 Q140.922 429.208 136.918 429.208 Q135.043 429.208 133.168 429.624 Q131.316 430.041 129.371 430.921 L129.371 413.56 Z\" fill=\"#000000\" fill-rule=\"evenodd\" fill-opacity=\"1\" /><path clip-path=\"url(#clip060)\" d=\"M53.7467 101.321 L61.3856 101.321 L61.3856 74.9555 L53.0754 76.6222 L53.0754 72.3629 L61.3393 70.6963 L66.0152 70.6963 L66.0152 101.321 L73.654 101.321 L73.654 105.256 L53.7467 105.256 L53.7467 101.321 Z\" fill=\"#000000\" fill-rule=\"evenodd\" fill-opacity=\"1\" /><path clip-path=\"url(#clip060)\" d=\"M83.0984 99.3767 L87.9827 99.3767 L87.9827 105.256 L83.0984 105.256 L83.0984 99.3767 Z\" fill=\"#000000\" fill-rule=\"evenodd\" fill-opacity=\"1\" /><path clip-path=\"url(#clip060)\" d=\"M108.168 73.775 Q104.557 73.775 102.728 77.3398 Q100.922 80.8814 100.922 88.011 Q100.922 95.1174 102.728 98.6822 Q104.557 102.224 108.168 102.224 Q111.802 102.224 113.608 98.6822 Q115.436 95.1174 115.436 88.011 Q115.436 80.8814 113.608 77.3398 Q111.802 73.775 108.168 73.775 M108.168 70.0713 Q113.978 70.0713 117.033 74.6777 Q120.112 79.261 120.112 88.011 Q120.112 96.7378 117.033 101.344 Q113.978 105.928 108.168 105.928 Q102.358 105.928 99.2789 101.344 Q96.2234 96.7378 96.2234 88.011 Q96.2234 79.261 99.2789 74.6777 Q102.358 70.0713 108.168 70.0713 Z\" fill=\"#000000\" fill-rule=\"evenodd\" fill-opacity=\"1\" /><path clip-path=\"url(#clip060)\" d=\"M138.33 73.775 Q134.719 73.775 132.89 77.3398 Q131.084 80.8814 131.084 88.011 Q131.084 95.1174 132.89 98.6822 Q134.719 102.224 138.33 102.224 Q141.964 102.224 143.769 98.6822 Q145.598 95.1174 145.598 88.011 Q145.598 80.8814 143.769 77.3398 Q141.964 73.775 138.33 73.775 M138.33 70.0713 Q144.14 70.0713 147.195 74.6777 Q150.274 79.261 150.274 88.011 Q150.274 96.7378 147.195 101.344 Q144.14 105.928 138.33 105.928 Q132.519 105.928 129.441 101.344 Q126.385 96.7378 126.385 88.011 Q126.385 79.261 129.441 74.6777 Q132.519 70.0713 138.33 70.0713 Z\" fill=\"#000000\" fill-rule=\"evenodd\" fill-opacity=\"1\" /><polyline clip-path=\"url(#clip062)\" style=\"stroke:#009af9; stroke-linecap:butt; stroke-linejoin:round; stroke-width:4; stroke-opacity:1; fill:none\" points=\"\n",
       "  247.59,87.9763 268.234,773.703 288.879,1002.28 309.524,1116.57 330.169,1185.14 350.814,1230.85 371.459,1263.51 392.104,1288 412.749,1307.05 433.394,1322.28 \n",
       "  454.039,1334.75 474.684,1345.14 495.329,1353.93 515.974,1361.47 536.619,1368 557.264,1373.71 577.909,1378.76 598.554,1383.24 619.199,1387.25 639.844,1390.86 \n",
       "  660.489,1394.12 681.134,1397.09 701.779,1399.8 722.424,1402.29 743.069,1404.57 763.713,1406.68 784.358,1408.64 805.003,1410.45 825.648,1412.14 846.293,1413.72 \n",
       "  866.938,1415.19 887.583,1416.57 908.228,1417.87 928.873,1419.09 949.518,1420.25 970.163,1421.33 990.808,1422.36 1011.45,1423.34 1032.1,1424.26 1052.74,1425.14 \n",
       "  1073.39,1425.98 1094.03,1426.78 1114.68,1427.54 1135.32,1428.26 1155.97,1428.95 1176.61,1429.62 1197.26,1430.25 1217.9,1430.86 1238.55,1431.44 1259.19,1432 \n",
       "  1279.84,1432.54 1300.48,1433.06 1321.13,1433.55 1341.77,1434.03 1362.42,1434.49 1383.06,1434.94 1403.71,1435.37 1424.35,1435.78 1445,1436.19 1465.64,1436.57 \n",
       "  1486.29,1436.95 1506.93,1437.31 1527.58,1437.66 1548.22,1438 1568.87,1438.33 1589.51,1438.65 1610.16,1438.96 1630.8,1439.26 1651.45,1439.55 1672.09,1439.84 \n",
       "  1692.74,1440.11 1713.38,1440.38 1734.03,1440.64 1754.67,1440.9 1775.32,1441.14 1795.96,1441.38 1816.61,1441.62 1837.25,1441.85 1857.9,1442.07 1878.54,1442.29 \n",
       "  1899.19,1442.5 1919.83,1442.71 1940.48,1442.91 1961.12,1443.1 1981.77,1443.3 2002.41,1443.48 2023.06,1443.67 2043.7,1443.85 2064.35,1444.02 2084.99,1444.19 \n",
       "  2105.64,1444.36 2126.28,1444.52 2146.93,1444.68 2167.57,1444.84 2188.22,1444.99 2208.86,1445.14 2229.51,1445.29 2250.15,1445.44 2270.8,1445.58 2291.44,1445.72 \n",
       "  \n",
       "  \"/>\n",
       "<path clip-path=\"url(#clip060)\" d=\"\n",
       "M1987.39 198.898 L2280.54 198.898 L2280.54 95.2176 L1987.39 95.2176  Z\n",
       "  \" fill=\"#ffffff\" fill-rule=\"evenodd\" fill-opacity=\"1\"/>\n",
       "<polyline clip-path=\"url(#clip060)\" style=\"stroke:#000000; stroke-linecap:butt; stroke-linejoin:round; stroke-width:4; stroke-opacity:1; fill:none\" points=\"\n",
       "  1987.39,198.898 2280.54,198.898 2280.54,95.2176 1987.39,95.2176 1987.39,198.898 \n",
       "  \"/>\n",
       "<polyline clip-path=\"url(#clip060)\" style=\"stroke:#009af9; stroke-linecap:butt; stroke-linejoin:round; stroke-width:4; stroke-opacity:1; fill:none\" points=\"\n",
       "  2011.46,147.058 2155.89,147.058 \n",
       "  \"/>\n",
       "<path clip-path=\"url(#clip060)\" d=\"M2193.81 166.745 Q2192 171.375 2190.29 172.787 Q2188.58 174.199 2185.71 174.199 L2182.3 174.199 L2182.3 170.634 L2184.8 170.634 Q2186.56 170.634 2187.53 169.8 Q2188.51 168.967 2189.69 165.865 L2190.45 163.921 L2179.97 138.412 L2184.48 138.412 L2192.58 158.689 L2200.68 138.412 L2205.2 138.412 L2193.81 166.745 Z\" fill=\"#000000\" fill-rule=\"evenodd\" fill-opacity=\"1\" /><path clip-path=\"url(#clip060)\" d=\"M2212.49 160.402 L2220.13 160.402 L2220.13 134.037 L2211.82 135.703 L2211.82 131.444 L2220.08 129.778 L2224.76 129.778 L2224.76 160.402 L2232.4 160.402 L2232.4 164.338 L2212.49 164.338 L2212.49 160.402 Z\" fill=\"#000000\" fill-rule=\"evenodd\" fill-opacity=\"1\" /></svg>\n"
      ]
     },
     "execution_count": 6,
     "metadata": {},
     "output_type": "execute_result"
    }
   ],
   "source": [
    "h = 100\n",
    "m = 2 * h\n",
    "\n",
    "f = vcat(ones(h), 2.0 .^ range(-1, step=-1, length=m))\n",
    "t = 1 ./ f # (1 .+ range(0.000001, 0, length=m)) ./ f\n",
    "ft = f .* t\n",
    "\n",
    "X, V = applicationorder(f, t, h)\n",
    "println(V)\n",
    "[valuation(collect(1:j), f, t)/V[j] for j in 1:h] |> plot"
   ]
  },
  {
   "cell_type": "code",
   "execution_count": null,
   "id": "descending-albania",
   "metadata": {},
   "outputs": [],
   "source": []
  }
 ],
 "metadata": {
  "kernelspec": {
   "display_name": "Julia 1.6.1",
   "language": "julia",
   "name": "julia-1.6"
  },
  "language_info": {
   "file_extension": ".jl",
   "mimetype": "application/julia",
   "name": "julia",
   "version": "1.6.1"
  }
 },
 "nbformat": 4,
 "nbformat_minor": 5
}
