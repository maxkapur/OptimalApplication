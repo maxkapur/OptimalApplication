{
 "cells": [
  {
   "cell_type": "markdown",
   "id": "40046f3a-e1b7-4ef1-8fef-2f35db00ebad",
   "metadata": {
    "tags": []
   },
   "source": [
    "## Python sandbox for checking nestedness properties"
   ]
  },
  {
   "cell_type": "code",
   "execution_count": 1,
   "id": "f2638029-c0f1-4d55-ba18-abac100872ee",
   "metadata": {},
   "outputs": [],
   "source": [
    "import matplotlib.pyplot as plt\n",
    "import numpy as np\n",
    "from itertools import combinations"
   ]
  },
  {
   "cell_type": "code",
   "execution_count": 3,
   "id": "3784b1a8-6aab-4208-9c49-c90269543acb",
   "metadata": {},
   "outputs": [],
   "source": [
    "class Market:\n",
    "    def __init__(self, t, f):\n",
    "        self.m = len(t)\n",
    "        assert len(f) == self.m\n",
    "        \n",
    "        self.sort_order = np.argsort(t)\n",
    "        self.t = np.array(t)[self.sort_order]\n",
    "        self.f = np.array(f)[self.sort_order]\n",
    "        self.tf = self.t * self.f \n",
    "        \n",
    "    def __str__(self):\n",
    "        s = \"\"\n",
    "        s += \"t  = \" + str(self.t) + \"\\n\"\n",
    "        s += \"f  = \" + str(self.f) + \"\\n\"\n",
    "        s += \"tf = \" + str(self.tf) + \"\\n\"\n",
    "        return s\n",
    "\n",
    "    def __repr__(self):\n",
    "        return str(self)\n",
    "        \n",
    "    def valuation(self, X):\n",
    "        \"\"\"\n",
    "        Return the valuation of the portfolio `X`, a list of schools, with respect to the market.\n",
    "        \"\"\"\n",
    "        X.sort()\n",
    "\n",
    "        res = 0.0\n",
    "        cp = np.cumprod(1 - self.f[X[:0:-1]])[::-1]\n",
    "\n",
    "        for i, j in enumerate(X[:len(X)-1]):\n",
    "            res += self.tf[j] * cp[i]\n",
    "\n",
    "        res += self.tf[X[-1]]\n",
    "\n",
    "        return res\n",
    "    \n",
    "    def valuation_lb(self, X):\n",
    "        \"\"\"\n",
    "        Return a lower bound on the valuation of the portfolio `X`, a list of schools, with respect to the market.\n",
    "        \"\"\"\n",
    "        return np.mean(self.tf[X])\n",
    "    \n",
    "    def optimize(self, h):\n",
    "        \"\"\"\n",
    "        Return the optimal application portfolio when the limit is `h`. Solves by enumeration.\n",
    "        \"\"\"\n",
    "        val = 0\n",
    "        X = []\n",
    "        \n",
    "        for X_ in combinations(range(self.m), h):\n",
    "            X_ = list(X_)\n",
    "            val_ = self.valuation(X_)\n",
    "            \n",
    "            if val_ > val:\n",
    "                val = val_\n",
    "                X = X_\n",
    "        return X"
   ]
  },
  {
   "cell_type": "code",
   "execution_count": 4,
   "id": "4b979d6b-6b4a-4905-af7a-890cb9a855e5",
   "metadata": {},
   "outputs": [
    {
     "data": {
      "text/plain": [
       "t  = [0.12763321 0.3276001  0.9669666  0.97068451]\n",
       "f  = [0.02651789 0.42621699 0.31249013 0.22148461]\n",
       "tf = [0.00338456 0.13962873 0.30216752 0.21499168]"
      ]
     },
     "execution_count": 4,
     "metadata": {},
     "output_type": "execute_result"
    }
   ],
   "source": [
    "m=4\n",
    "market = Market(np.random.exponential(size=m),\n",
    "                np.random.rand(m))\n",
    "\n",
    "market.valuation([0, 2, 3])\n",
    "market"
   ]
  },
  {
   "cell_type": "code",
   "execution_count": 5,
   "id": "414f1c9f-8337-4b08-a4cc-39f073f23794",
   "metadata": {},
   "outputs": [
    {
     "data": {
      "text/plain": [
       "0.27853070020796655"
      ]
     },
     "execution_count": 5,
     "metadata": {},
     "output_type": "execute_result"
    }
   ],
   "source": [
    "market.valuation([0, 2, 3]) - market.valuation_lb([0, 2, 3])"
   ]
  },
  {
   "cell_type": "code",
   "execution_count": 6,
   "id": "5d1fd9eb-2014-404a-97fe-d4ddca53596a",
   "metadata": {},
   "outputs": [
    {
     "data": {
      "text/plain": [
       "18.865517170304305"
      ]
     },
     "execution_count": 6,
     "metadata": {},
     "output_type": "execute_result"
    }
   ],
   "source": [
    "market = Market([18.559752488330187, 24.36472217546022, 28.408724728401776, 34.67814499807042],\n",
    "                [0.814442884064013, 0.40541831889495705, 0.28208053214120027, 0.18150771871696775])\n",
    "market.valuation([0, 1])"
   ]
  },
  {
   "cell_type": "code",
   "execution_count": 8,
   "id": "22621f65-5674-4edc-89a6-b33e684cdac2",
   "metadata": {},
   "outputs": [
    {
     "data": {
      "text/plain": [
       "<matplotlib.legend.Legend at 0x7f6d86cd7a60>"
      ]
     },
     "execution_count": 8,
     "metadata": {},
     "output_type": "execute_result"
    },
    {
     "data": {
      "image/png": "[encoded data removed]",
      "text/plain": [
       "<Figure size 864x576 with 1 Axes>"
      ]
     },
     "metadata": {
      "needs_background": "light"
     },
     "output_type": "display_data"
    }
   ],
   "source": [
    "m = 5\n",
    "market = Market(np.random.exponential(size=m),\n",
    "                np.random.rand(m))\n",
    "\n",
    "fig, ax = plt.subplots(1, 1, figsize=(12, 8))\n",
    "\n",
    "X2 = market.optimize(2)\n",
    "X3 = market.optimize(3)\n",
    "\n",
    "ax.scatter(market.f[X2], market.t[X2], s=400, c=\"crimson\", label=\"h = 2\")\n",
    "ax.scatter(market.f[X3], market.t[X3], s=150, c=\"olivedrab\", label=\"h = 3\")\n",
    "ax.scatter(market.f, market.t, s=25, c=\"black\", label=None)\n",
    "ax.legend()"
   ]
  },
  {
   "cell_type": "code",
   "execution_count": 50,
   "id": "55a748b6-dba1-4f8e-89cc-7a7e101d37eb",
   "metadata": {},
   "outputs": [
    {
     "data": {
      "text/plain": [
       "<matplotlib.legend.Legend at 0x7f6d866c2dc0>"
      ]
     },
     "execution_count": 50,
     "metadata": {},
     "output_type": "execute_result"
    },
    {
     "data": {
      "image/png": "[encoded data removed]",
      "text/plain": [
       "<Figure size 864x576 with 1 Axes>"
      ]
     },
     "metadata": {
      "needs_background": "light"
     },
     "output_type": "display_data"
    }
   ],
   "source": [
    "m = 6\n",
    "market = Market(np.random.exponential(size=m),\n",
    "                np.random.rand(m))\n",
    "\n",
    "\n",
    "cp = np.ones(m)\n",
    "\n",
    "for i in range(m):\n",
    "    cp[i] *= market.f[i] \n",
    "    cp[i] *= (1 - market.f[i])**(m-i-1)\n",
    "\n",
    "\n",
    "fig, ax = plt.subplots(1, 1, figsize=(12, 8))\n",
    "\n",
    "X2 = market.optimize(2)\n",
    "X3 = market.optimize(3)\n",
    "\n",
    "ax.scatter((market.t * cp)[X2], market.t[X2], s=400, c=\"crimson\", label=\"h = 2\")\n",
    "ax.scatter((market.t * cp)[X3], market.t[X3], s=150, c=\"olivedrab\", label=\"h = 3\")\n",
    "ax.scatter(market.t * cp, market.t, s=25, c=\"black\", label=None)\n",
    "ax.legend()"
   ]
  },
  {
   "cell_type": "code",
   "execution_count": 180,
   "id": "af129443-67ca-4093-aaef-425b55c6dd21",
   "metadata": {},
   "outputs": [
    {
     "name": "stdout",
     "output_type": "stream",
     "text": [
      "0\n",
      "500\n",
      "1000\n",
      "1500\n",
      "2000\n",
      "2500\n",
      "3000\n",
      "3500\n",
      "4000\n",
      "4500\n"
     ]
    }
   ],
   "source": [
    "for t in range(5000):\n",
    "    if t % 500 == 0:\n",
    "        print(t)\n",
    "    \n",
    "    m = 10\n",
    "    market = Market(np.random.exponential(size=m),\n",
    "                    np.random.rand(m))\n",
    "\n",
    "    X2 = market.optimize(2)\n",
    "    X3 = market.optimize(3)\n",
    "    X4 = market.optimize(4)\n",
    "\n",
    "    assert np.all([i in X3 for i in X2])\n",
    "    assert np.all([i in X4 for i in X3])"
   ]
  },
  {
   "cell_type": "code",
   "execution_count": 183,
   "id": "17dbe6a7-7225-40f6-bf40-d2456cf9b4c7",
   "metadata": {},
   "outputs": [
    {
     "data": {
      "text/plain": [
       "[<matplotlib.lines.Line2D at 0x7f55ab1a36d0>]"
      ]
     },
     "execution_count": 183,
     "metadata": {},
     "output_type": "execute_result"
    },
    {
     "data": {
      "image/png": "[encoded data removed]",
      "text/plain": [
       "<Figure size 864x576 with 1 Axes>"
      ]
     },
     "metadata": {
      "needs_background": "light"
     },
     "output_type": "display_data"
    }
   ],
   "source": [
    "t_j, f_j = 3, 1/3\n",
    "t_k, f_k = 4, 1/5\n",
    "\n",
    "fig, ax = plt.subplots(1, 1, figsize=(12, 8))\n",
    "\n",
    "def fd(t_l):\n",
    "    return (1 - f_k) * t_l + f_k * max(t_k, t_l) - (1 - f_j) * t_l - f_j * max(t_j, t_l)\n",
    "\n",
    "t_l = np.arange(0, 10, 0.05)\n",
    "ax.plot(t_l, [fd(t) for t in t_l])"
   ]
  },
  {
   "cell_type": "code",
   "execution_count": 190,
   "id": "b84707cf-3846-4939-9bd3-5b2d87b31ce3",
   "metadata": {},
   "outputs": [
    {
     "data": {
      "text/plain": [
       "t  = [3 3 4]\n",
       "f  = [1.         0.33333333 0.2       ]\n",
       "tf = [3.  1.  0.8]"
      ]
     },
     "execution_count": 190,
     "metadata": {},
     "output_type": "execute_result"
    }
   ],
   "source": [
    "market = Market([3, 3, 4], [1, 1/3, 1/5])\n",
    "market"
   ]
  },
  {
   "cell_type": "code",
   "execution_count": null,
   "id": "e7b60421-00e3-4a20-a86e-5d1bd8998383",
   "metadata": {},
   "outputs": [],
   "source": []
  }
 ],
 "metadata": {
  "kernelspec": {
   "display_name": "Python 3 (ipykernel)",
   "language": "python",
   "name": "python3"
  },
  "language_info": {
   "codemirror_mode": {
    "name": "ipython",
    "version": 3
   },
   "file_extension": ".py",
   "mimetype": "text/x-python",
   "name": "python",
   "nbconvert_exporter": "python",
   "pygments_lexer": "ipython3",
   "version": "3.8.8"
  }
 },
 "nbformat": 4,
 "nbformat_minor": 5
}
