{
 "cells": [
  {
   "cell_type": "code",
   "execution_count": 11,
   "metadata": {},
   "outputs": [
    {
     "data": {
      "text/plain": [
       "(0.4196078431372549, 0.5568627450980392, 0.13725490196078433)"
      ]
     },
     "metadata": {},
     "output_type": "display_data"
    }
   ],
   "source": [
    "using OptimalApplication\n",
    "using Random\n",
    "# using Plots\n",
    "using CairoMakie\n",
    "using DataFrames\n",
    "using Colors\n",
    "\n",
    "accentcolor = (107,142,35) ./ 255"
   ]
  },
  {
   "cell_type": "markdown",
   "metadata": {},
   "source": [
    "## Comparative statics example"
   ]
  },
  {
   "cell_type": "code",
   "execution_count": 10,
   "metadata": {},
   "outputs": [
    {
     "name": "stdout",
     "output_type": "stream",
     "text": [
      "Iteration 1\n",
      "  ft: [78.0, 82.5, 72.0, 84.0, 20.0, 13.5, 50.0, 66.0]\n",
      "  Add school 4\n",
      "Iteration 2\n",
      "  ft: [59.28, 62.7, 54.72, 15.8, 10.98, 41.6, 55.92]\n",
      "  Add school 2\n",
      "Iteration 3\n",
      "  ft: [39.7176, 39.672, 12.665000000000001, 9.099, 35.33, 48.396]\n",
      "  Add school 8\n",
      "Iteration 4\n",
      "  ft: [34.951488, 34.911359999999995, 11.1452, 8.00712, 31.0904]\n",
      "  Add school 1\n",
      "Iteration 5\n",
      "  ft: [26.523002879999996, 9.397625600000001, 6.958575360000001, 27.5952512]\n",
      "  Add school 7\n",
      "Iteration 6\n",
      "  ft: [23.870702591999997, 8.457863040000001, 6.262717824000001]\n",
      "  Add school 3\n",
      "Iteration 7\n",
      "  ft: [7.264327910400001, 5.546596746240001]\n",
      "  Add school 5\n",
      "Iteration 8\n",
      "  ft: [5.328666908928001]\n",
      "  Add school 6\n"
     ]
    },
    {
     "data": {
      "text/plain": [
       "8-element Vector{Int64}:\n",
       " 4\n",
       " 2\n",
       " 6\n",
       " 1\n",
       " 7\n",
       " 8\n",
       " 5\n",
       " 3"
      ]
     },
     "metadata": {},
     "output_type": "display_data"
    }
   ],
   "source": [
    "mkt = Market([0.39, 0.33, 0.24, 0.24, 0.05, 0.03, 0.1, 0.12],\n",
    "             collect(range(start=200, step=50, length=8)),\n",
    "             8)\n",
    "\n",
    "apporder, v = applicationorder_list(mkt, verbose=true)\n",
    "\n",
    "invpermapporder = invperm(apporder)"
   ]
  },
  {
   "cell_type": "code",
   "execution_count": 12,
   "metadata": {},
   "outputs": [
    {
     "name": "stdout",
     "output_type": "stream",
     "text": [
      "[4, 2, 8, 1, 7, 3, 5, 6]\n"
     ]
    }
   ],
   "source": [
    "println(apporder)"
   ]
  },
  {
   "cell_type": "code",
   "execution_count": 13,
   "metadata": {},
   "outputs": [
    {
     "data": {
      "text/html": [
       "<div class=\"data-frame\"><p>8 rows × 4 columns</p><table class=\"data-frame\"><thead><tr><th></th><th>f</th><th>t</th><th>order</th><th>v</th></tr><tr><th></th><th title=\"Float64\">Float64</th><th title=\"Int64\">Int64</th><th title=\"Int64\">Int64</th><th title=\"Float64\">Float64</th></tr></thead><tbody><tr><th>1</th><td>0.39</td><td>200</td><td>4</td><td>230.047</td></tr><tr><th>2</th><td>0.33</td><td>250</td><td>2</td><td>146.7</td></tr><tr><th>3</th><td>0.24</td><td>300</td><td>6</td><td>281.513</td></tr><tr><th>4</th><td>0.24</td><td>350</td><td>1</td><td>84.0</td></tr><tr><th>5</th><td>0.05</td><td>400</td><td>7</td><td>288.778</td></tr><tr><th>6</th><td>0.03</td><td>450</td><td>8</td><td>294.106</td></tr><tr><th>7</th><td>0.1</td><td>500</td><td>5</td><td>257.643</td></tr><tr><th>8</th><td>0.12</td><td>550</td><td>3</td><td>195.096</td></tr></tbody></table></div>"
      ],
      "text/latex": [
       "\\begin{tabular}{r|cccc}\n",
       "\t& f & t & order & v\\\\\n",
       "\t\\hline\n",
       "\t& Float64 & Int64 & Int64 & Float64\\\\\n",
       "\t\\hline\n",
       "\t1 & 0.39 & 200 & 4 & 230.047 \\\\\n",
       "\t2 & 0.33 & 250 & 2 & 146.7 \\\\\n",
       "\t3 & 0.24 & 300 & 6 & 281.513 \\\\\n",
       "\t4 & 0.24 & 350 & 1 & 84.0 \\\\\n",
       "\t5 & 0.05 & 400 & 7 & 288.778 \\\\\n",
       "\t6 & 0.03 & 450 & 8 & 294.106 \\\\\n",
       "\t7 & 0.1 & 500 & 5 & 257.643 \\\\\n",
       "\t8 & 0.12 & 550 & 3 & 195.096 \\\\\n",
       "\\end{tabular}\n"
      ],
      "text/plain": [
       "\u001b[1m8×4 DataFrame\u001b[0m\n",
       "\u001b[1m Row \u001b[0m│\u001b[1m f       \u001b[0m\u001b[1m t     \u001b[0m\u001b[1m order \u001b[0m\u001b[1m v       \u001b[0m\n",
       "\u001b[1m     \u001b[0m│\u001b[90m Float64 \u001b[0m\u001b[90m Int64 \u001b[0m\u001b[90m Int64 \u001b[0m\u001b[90m Float64 \u001b[0m\n",
       "─────┼────────────────────────────────\n",
       "   1 │    0.39    200      4  230.047\n",
       "   2 │    0.33    250      2  146.7\n",
       "   3 │    0.24    300      6  281.513\n",
       "   4 │    0.24    350      1   84.0\n",
       "   5 │    0.05    400      7  288.778\n",
       "   6 │    0.03    450      8  294.106\n",
       "   7 │    0.1     500      5  257.643\n",
       "   8 │    0.12    550      3  195.096"
      ]
     },
     "metadata": {},
     "output_type": "display_data"
    }
   ],
   "source": [
    "df = DataFrame(\"f\" => mkt.f, \"t\" => mkt.t, \"order\" => invpermapporder, \"v\" => v[invpermapporder])\n",
    "#=\n",
    " Row │ f        t        order  v       \n",
    "     │ Float64  Float64  Int64  Float64 \n",
    "─────┼──────────────────────────────────\n",
    "   1 │    0.39    200      4  230.047\n",
    "   2 │    0.33    250      2  146.7\n",
    "   3 │    0.24    300      6  281.513\n",
    "   4 │    0.24    350      1   84.0\n",
    "   5 │    0.05    400      7  288.778\n",
    "   6 │    0.03    450      8  294.106\n",
    "   7 │    0.1     500      5  257.643\n",
    "   8 │    0.12    550      3  195.096\n",
    "=#\n",
    "df"
   ]
  },
  {
   "cell_type": "code",
   "execution_count": 14,
   "metadata": {},
   "outputs": [
    {
     "data": {
      "image/png": "[encoded data removed]",
      "text/plain": [
       "Scene (600px, 450px):\n",
       "  18 Plots:\n",
       "    ├ Combined{Makie.poly, Tuple{Vector{Vector{Point{2, Float32}}}}}\n",
       "    ├ LineSegments{Tuple{Vector{Point{2, Float32}}}}\n",
       "    ├ LineSegments{Tuple{Vector{Point{2, Float32}}}}\n",
       "    ├ LineSegments{Tuple{Vector{Point{2, Float32}}}}\n",
       "    ├ LineSegments{Tuple{Vector{Point{2, Float32}}}}\n",
       "    ├ LineSegments{Tuple{Vector{Point{2, Float32}}}}\n",
       "    ├ LineSegments{Tuple{Vector{Point{2, Float32}}}}\n",
       "    ├ MakieCore.Text{Tuple{String}}\n",
       "    ├ Lines{Tuple{Vector{Point{2, Float32}}}}\n",
       "    ├ MakieCore.Text{Tuple{Vector{Tuple{AbstractString, Point{2, Float32}}}}}\n",
       "    ├ LineSegments{Tuple{Vector{Point{2, Float32}}}}\n",
       "    ├ LineSegments{Tuple{Vector{Point{2, Float32}}}}\n",
       "    ├ MakieCore.Text{Tuple{String}}\n",
       "    ├ Lines{Tuple{Vector{Point{2, Float32}}}}\n",
       "    ├ MakieCore.Text{Tuple{Vector{Tuple{AbstractString, Point{2, Float32}}}}}\n",
       "    ├ Lines{Tuple{Vector{Point{2, Float32}}}}\n",
       "    ├ Lines{Tuple{Vector{Point{2, Float32}}}}\n",
       "    └ MakieCore.Text{Tuple{String}}\n",
       "  1 Child Scene:\n",
       "    └ Scene (506px, 370px)"
      ]
     },
     "metadata": {},
     "output_type": "display_data"
    }
   ],
   "source": [
    "fig1 = Figure(resolution=(600, 450))\n",
    "\n",
    "ax = Axis(fig1[1, 1], xticks=0:8, xlabel=\"h\", ylabel=\"v*\")\n",
    "\n",
    "#try scatterlines!\n",
    "scatterlines!(ax,\n",
    "    0:8,\n",
    "    vcat(0, v),\n",
    "    color=RGB(accentcolor...),\n",
    "    marker=:diamond,\n",
    "    markersize=12,\n",
    "    linewidth=2,\n",
    ")\n",
    "\n",
    "fig1"
   ]
  },
  {
   "cell_type": "code",
   "execution_count": 6,
   "metadata": {},
   "outputs": [
    {
     "data": {
      "text/plain": [
       "CairoScreen{Cairo.CairoSurfaceBase{UInt32}} with surface:\n",
       "Cairo.CairoSurfaceBase{UInt32}(Ptr{Nothing} @0x000000000bf1c2d0, 600.0, 450.0)\n"
      ]
     },
     "metadata": {},
     "output_type": "display_data"
    }
   ],
   "source": [
    "save(\"h_v-example.pdf\", fig1)\n",
    "save(\"h_v-example.png\", fig1)"
   ]
  },
  {
   "cell_type": "markdown",
   "metadata": {},
   "source": [
    "## Sample random market"
   ]
  },
  {
   "cell_type": "code",
   "execution_count": 7,
   "metadata": {},
   "outputs": [
    {
     "data": {
      "text/plain": [
       "randSCM (generic function with 1 method)"
      ]
     },
     "metadata": {},
     "output_type": "display_data"
    }
   ],
   "source": [
    "function make_correlated_market(m)\n",
    "    A = 10\n",
    "    t = ceil.(Int, 10 * randexp(m))\n",
    "    sort!(t)\n",
    "    f = inv.(t .+ 10 * rand(m))\n",
    "    g = rand(5:10, m)\n",
    "    H = sum(g) ÷ 2\n",
    "    return f, t, g, H\n",
    "end\n",
    "\n",
    "randVCM(m) = VariedCostsMarket(make_correlated_market(m)...)\n",
    "function randSCM(m)\n",
    "    f, t, g, H = make_correlated_market(m)\n",
    "    return SameCostsMarket(f, t, m ÷ 2)\n",
    "end"
   ]
  },
  {
   "cell_type": "code",
   "execution_count": 15,
   "metadata": {},
   "outputs": [
    {
     "data": {
      "image/png": "[encoded data removed]",
      "text/plain": [
       "Scene (600px, 600px):\n",
       "  18 Plots:\n",
       "    ├ Combined{Makie.poly, Tuple{Vector{Vector{Point{2, Float32}}}}}\n",
       "    ├ LineSegments{Tuple{Vector{Point{2, Float32}}}}\n",
       "    ├ LineSegments{Tuple{Vector{Point{2, Float32}}}}\n",
       "    ├ LineSegments{Tuple{Vector{Point{2, Float32}}}}\n",
       "    ├ LineSegments{Tuple{Vector{Point{2, Float32}}}}\n",
       "    ├ LineSegments{Tuple{Vector{Point{2, Float32}}}}\n",
       "    ├ LineSegments{Tuple{Vector{Point{2, Float32}}}}\n",
       "    ├ MakieCore.Text{Tuple{String}}\n",
       "    ├ Lines{Tuple{Vector{Point{2, Float32}}}}\n",
       "    ├ MakieCore.Text{Tuple{Vector{Tuple{AbstractString, Point{2, Float32}}}}}\n",
       "    ├ LineSegments{Tuple{Vector{Point{2, Float32}}}}\n",
       "    ├ LineSegments{Tuple{Vector{Point{2, Float32}}}}\n",
       "    ├ MakieCore.Text{Tuple{String}}\n",
       "    ├ Lines{Tuple{Vector{Point{2, Float32}}}}\n",
       "    ├ MakieCore.Text{Tuple{Vector{Tuple{AbstractString, Point{2, Float32}}}}}\n",
       "    ├ Lines{Tuple{Vector{Point{2, Float32}}}}\n",
       "    ├ Lines{Tuple{Vector{Point{2, Float32}}}}\n",
       "    └ MakieCore.Text{Tuple{String}}\n",
       "  2 Child Scenes:\n",
       "    ├ Scene (514px, 517px)\n",
       "    └ Scene (600px, 600px)"
      ]
     },
     "metadata": {},
     "output_type": "display_data"
    }
   ],
   "source": [
    "m = 64\n",
    "mkt = randVCM(m)\n",
    "\n",
    "X, v = optimalportfolio_dynamicprogram(mkt)\n",
    "\n",
    "nX = setdiff(1:m, X)\n",
    "\n",
    "# GR plots\n",
    "# scal = 1.5\n",
    "# pl = plot(size = (500, 500), xlabel = \"fⱼ\", ylabel = \"tⱼ\", legend = :topright)\n",
    "# scatter!(pl, mkt.f[nX], mkt.t[nX], ms = scal * sqrt.(mkt.g[nX]), c = :gray25, msc = :auto, ma = 0.5, label = nothing)\n",
    "# scatter!(pl, mkt.f[X], mkt.t[X], m = :utriangle, ms = scal * sqrt.(mkt.g[X]), c = accentcolor, msc = :auto, ma = 0.85, label = \"Apply when H = $(mkt.H)\")\n",
    "# annotate!(pl, [(maximum(mkt.f), 0.9 * maximum(mkt.t), text(\"(Marker area: gⱼ)  \", 9, :right))])\n",
    "\n",
    "scal = 3\n",
    "fig2 = Figure(resolution=(600, 600))\n",
    "\n",
    "ax = Axis(fig2[1, 1], xlabel = \"fⱼ\", ylabel = \"tⱼ\", xlabelsize=18, ylabelsize=18)\n",
    "\n",
    "scatter!(mkt.f[nX], mkt.t[nX], markersize=scal * sqrt.(mkt.g[nX]), color=RGBA(0.25, 0.25, 0.25, 0.8)) #:gray25, strokealpha=0.5)\n",
    "scatter!(mkt.f[X], mkt.t[X], marker=:utriangle, markersize=1.6 * scal * sqrt.(mkt.g[X]), color=RGBA(accentcolor..., 0.85), label=\"Apply when H = $(mkt.H)\")\n",
    "\n",
    "axislegend(ax, position=:rt, labelsize=16)\n",
    "text!(\"(Marker area: gⱼ)\", position=(maximum(mkt.f), 0.9 * maximum(mkt.t)), align=(:right, :baseline), textsize=16)\n",
    "\n",
    "fig2"
   ]
  },
  {
   "cell_type": "code",
   "execution_count": 16,
   "metadata": {},
   "outputs": [
    {
     "data": {
      "text/plain": [
       "CairoScreen{Cairo.CairoSurfaceBase{UInt32}} with surface:\n",
       "Cairo.CairoSurfaceBase{UInt32}(Ptr{Nothing} @0x000000000e226300, 600.0, 600.0)\n"
      ]
     },
     "metadata": {},
     "output_type": "display_data"
    }
   ],
   "source": [
    "save(\"samplemarket.pdf\", fig2)\n",
    "save(\"samplemarket.png\", fig2)"
   ]
  }
 ],
 "metadata": {
  "kernelspec": {
   "display_name": "Julia 1.7.0",
   "language": "julia",
   "name": "julia-1.7"
  },
  "language_info": {
   "file_extension": ".jl",
   "mimetype": "application/julia",
   "name": "julia",
   "version": "1.7.0"
  },
  "orig_nbformat": 4
 },
 "nbformat": 4,
 "nbformat_minor": 2
}
